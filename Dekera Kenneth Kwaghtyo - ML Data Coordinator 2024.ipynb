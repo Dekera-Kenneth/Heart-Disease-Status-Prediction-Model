{
 "cells": [
  {
   "cell_type": "markdown",
   "id": "4246ac41",
   "metadata": {},
   "source": [
    "# Heart Disease Status Prediction Model"
   ]
  },
  {
   "cell_type": "markdown",
   "id": "ed005578",
   "metadata": {},
   "source": [
    "# Importing Libraries "
   ]
  },
  {
   "cell_type": "code",
   "execution_count": 1,
   "id": "eda7d0fa",
   "metadata": {},
   "outputs": [
    {
     "name": "stderr",
     "output_type": "stream",
     "text": [
      "C:\\Users\\hp\\anaconda3\\lib\\site-packages\\scipy\\__init__.py:146: UserWarning: A NumPy version >=1.16.5 and <1.23.0 is required for this version of SciPy (detected version 1.26.2\n",
      "  warnings.warn(f\"A NumPy version >={np_minversion} and <{np_maxversion}\"\n"
     ]
    }
   ],
   "source": [
    "from __future__ import print_function\n",
    "import pandas as pd # For data analysis\n",
    "import numpy as np # For linear algebra\n",
    "\n",
    "# Libraries for data visualization\n",
    "import matplotlib.pyplot as plt\n",
    "%matplotlib inline\n",
    "import seaborn as sns\n",
    "import plotly.graph_objects as go\n",
    "import plotly.express as px\n",
    "from plotly.subplots import make_subplots\n",
    "\n",
    "# Import various algorithms building\n",
    "from sklearn.tree import DecisionTreeClassifier\n",
    "from sklearn.naive_bayes import GaussianNB\n",
    "from sklearn.linear_model import LogisticRegression\n",
    "from sklearn.ensemble import RandomForestClassifier\n",
    "import xgboost as xgb\n",
    "\n",
    "# Import libraries for model evaluation \n",
    "from sklearn.metrics import classification_report\n",
    "from sklearn.metrics import accuracy_score, confusion_matrix\n",
    "from sklearn import metrics\n",
    "from sklearn import tree\n",
    "from sklearn.model_selection import cross_val_score\n",
    "import pickle\n",
    "import warnings\n",
    "warnings.filterwarnings('ignore')"
   ]
  },
  {
   "cell_type": "markdown",
   "id": "7b38a8c0",
   "metadata": {},
   "source": [
    "# Loading the Dataset(s) "
   ]
  },
  {
   "cell_type": "code",
   "execution_count": 2,
   "id": "f1d344c0",
   "metadata": {},
   "outputs": [],
   "source": [
    "N_data = pd.read_csv(\"data/northern_heart_diease_data.csv\")"
   ]
  },
  {
   "cell_type": "code",
   "execution_count": 3,
   "id": "c07e1b4c",
   "metadata": {},
   "outputs": [
    {
     "data": {
      "text/html": [
       "<div>\n",
       "<style scoped>\n",
       "    .dataframe tbody tr th:only-of-type {\n",
       "        vertical-align: middle;\n",
       "    }\n",
       "\n",
       "    .dataframe tbody tr th {\n",
       "        vertical-align: top;\n",
       "    }\n",
       "\n",
       "    .dataframe thead th {\n",
       "        text-align: right;\n",
       "    }\n",
       "</style>\n",
       "<table border=\"1\" class=\"dataframe\">\n",
       "  <thead>\n",
       "    <tr style=\"text-align: right;\">\n",
       "      <th></th>\n",
       "      <th>age</th>\n",
       "      <th>sex</th>\n",
       "      <th>cp</th>\n",
       "      <th>trestbps</th>\n",
       "      <th>chol</th>\n",
       "      <th>fbs</th>\n",
       "      <th>restecg</th>\n",
       "      <th>thalach</th>\n",
       "      <th>exang</th>\n",
       "      <th>oldpeak</th>\n",
       "      <th>slope</th>\n",
       "      <th>ca</th>\n",
       "      <th>thal</th>\n",
       "      <th>status</th>\n",
       "    </tr>\n",
       "  </thead>\n",
       "  <tbody>\n",
       "    <tr>\n",
       "      <th>0</th>\n",
       "      <td>63.0</td>\n",
       "      <td>male</td>\n",
       "      <td>typical angina</td>\n",
       "      <td>145.0</td>\n",
       "      <td>233</td>\n",
       "      <td>True</td>\n",
       "      <td>2</td>\n",
       "      <td>150</td>\n",
       "      <td>no</td>\n",
       "      <td>2.3</td>\n",
       "      <td>downsloping</td>\n",
       "      <td>0.0</td>\n",
       "      <td>fixed defect</td>\n",
       "      <td>absent</td>\n",
       "    </tr>\n",
       "    <tr>\n",
       "      <th>1</th>\n",
       "      <td>67.0</td>\n",
       "      <td>male</td>\n",
       "      <td>asymptomatic</td>\n",
       "      <td>160.0</td>\n",
       "      <td>286</td>\n",
       "      <td>False</td>\n",
       "      <td>2</td>\n",
       "      <td>108</td>\n",
       "      <td>yes</td>\n",
       "      <td>1.5</td>\n",
       "      <td>flat</td>\n",
       "      <td>3.0</td>\n",
       "      <td>normal</td>\n",
       "      <td>present</td>\n",
       "    </tr>\n",
       "    <tr>\n",
       "      <th>2</th>\n",
       "      <td>67.0</td>\n",
       "      <td>male</td>\n",
       "      <td>asymptomatic</td>\n",
       "      <td>120.0</td>\n",
       "      <td>229</td>\n",
       "      <td>False</td>\n",
       "      <td>2</td>\n",
       "      <td>129</td>\n",
       "      <td>yes</td>\n",
       "      <td>2.6</td>\n",
       "      <td>flat</td>\n",
       "      <td>2.0</td>\n",
       "      <td>reversable defect</td>\n",
       "      <td>present</td>\n",
       "    </tr>\n",
       "    <tr>\n",
       "      <th>3</th>\n",
       "      <td>37.0</td>\n",
       "      <td>male</td>\n",
       "      <td>non-anginal pain</td>\n",
       "      <td>130.0</td>\n",
       "      <td>250</td>\n",
       "      <td>False</td>\n",
       "      <td>0</td>\n",
       "      <td>187</td>\n",
       "      <td>no</td>\n",
       "      <td>3.5</td>\n",
       "      <td>downsloping</td>\n",
       "      <td>0.0</td>\n",
       "      <td>normal</td>\n",
       "      <td>absent</td>\n",
       "    </tr>\n",
       "    <tr>\n",
       "      <th>4</th>\n",
       "      <td>41.0</td>\n",
       "      <td>female</td>\n",
       "      <td>atypical angina</td>\n",
       "      <td>130.0</td>\n",
       "      <td>204</td>\n",
       "      <td>False</td>\n",
       "      <td>2</td>\n",
       "      <td>172</td>\n",
       "      <td>no</td>\n",
       "      <td>1.4</td>\n",
       "      <td>upsloping</td>\n",
       "      <td>0.0</td>\n",
       "      <td>normal</td>\n",
       "      <td>absent</td>\n",
       "    </tr>\n",
       "    <tr>\n",
       "      <th>...</th>\n",
       "      <td>...</td>\n",
       "      <td>...</td>\n",
       "      <td>...</td>\n",
       "      <td>...</td>\n",
       "      <td>...</td>\n",
       "      <td>...</td>\n",
       "      <td>...</td>\n",
       "      <td>...</td>\n",
       "      <td>...</td>\n",
       "      <td>...</td>\n",
       "      <td>...</td>\n",
       "      <td>...</td>\n",
       "      <td>...</td>\n",
       "      <td>...</td>\n",
       "    </tr>\n",
       "    <tr>\n",
       "      <th>298</th>\n",
       "      <td>45.0</td>\n",
       "      <td>male</td>\n",
       "      <td>typical angina</td>\n",
       "      <td>110.0</td>\n",
       "      <td>264</td>\n",
       "      <td>False</td>\n",
       "      <td>0</td>\n",
       "      <td>132</td>\n",
       "      <td>no</td>\n",
       "      <td>1.2</td>\n",
       "      <td>flat</td>\n",
       "      <td>0.0</td>\n",
       "      <td>reversable defect</td>\n",
       "      <td>present</td>\n",
       "    </tr>\n",
       "    <tr>\n",
       "      <th>299</th>\n",
       "      <td>68.0</td>\n",
       "      <td>male</td>\n",
       "      <td>asymptomatic</td>\n",
       "      <td>144.0</td>\n",
       "      <td>193</td>\n",
       "      <td>True</td>\n",
       "      <td>0</td>\n",
       "      <td>141</td>\n",
       "      <td>no</td>\n",
       "      <td>3.4</td>\n",
       "      <td>flat</td>\n",
       "      <td>2.0</td>\n",
       "      <td>reversable defect</td>\n",
       "      <td>present</td>\n",
       "    </tr>\n",
       "    <tr>\n",
       "      <th>300</th>\n",
       "      <td>57.0</td>\n",
       "      <td>male</td>\n",
       "      <td>asymptomatic</td>\n",
       "      <td>130.0</td>\n",
       "      <td>131</td>\n",
       "      <td>False</td>\n",
       "      <td>0</td>\n",
       "      <td>115</td>\n",
       "      <td>yes</td>\n",
       "      <td>1.2</td>\n",
       "      <td>flat</td>\n",
       "      <td>1.0</td>\n",
       "      <td>reversable defect</td>\n",
       "      <td>present</td>\n",
       "    </tr>\n",
       "    <tr>\n",
       "      <th>301</th>\n",
       "      <td>57.0</td>\n",
       "      <td>female</td>\n",
       "      <td>atypical angina</td>\n",
       "      <td>130.0</td>\n",
       "      <td>236</td>\n",
       "      <td>False</td>\n",
       "      <td>2</td>\n",
       "      <td>174</td>\n",
       "      <td>no</td>\n",
       "      <td>0.0</td>\n",
       "      <td>flat</td>\n",
       "      <td>1.0</td>\n",
       "      <td>normal</td>\n",
       "      <td>present</td>\n",
       "    </tr>\n",
       "    <tr>\n",
       "      <th>302</th>\n",
       "      <td>38.0</td>\n",
       "      <td>male</td>\n",
       "      <td>non-anginal pain</td>\n",
       "      <td>138.0</td>\n",
       "      <td>175</td>\n",
       "      <td>False</td>\n",
       "      <td>0</td>\n",
       "      <td>173</td>\n",
       "      <td>no</td>\n",
       "      <td>0.0</td>\n",
       "      <td>upsloping</td>\n",
       "      <td>NaN</td>\n",
       "      <td>normal</td>\n",
       "      <td>absent</td>\n",
       "    </tr>\n",
       "  </tbody>\n",
       "</table>\n",
       "<p>303 rows × 14 columns</p>\n",
       "</div>"
      ],
      "text/plain": [
       "      age     sex                cp  trestbps  chol    fbs  restecg  thalach  \\\n",
       "0    63.0    male    typical angina     145.0   233   True        2      150   \n",
       "1    67.0    male      asymptomatic     160.0   286  False        2      108   \n",
       "2    67.0    male      asymptomatic     120.0   229  False        2      129   \n",
       "3    37.0    male  non-anginal pain     130.0   250  False        0      187   \n",
       "4    41.0  female   atypical angina     130.0   204  False        2      172   \n",
       "..    ...     ...               ...       ...   ...    ...      ...      ...   \n",
       "298  45.0    male    typical angina     110.0   264  False        0      132   \n",
       "299  68.0    male      asymptomatic     144.0   193   True        0      141   \n",
       "300  57.0    male      asymptomatic     130.0   131  False        0      115   \n",
       "301  57.0  female   atypical angina     130.0   236  False        2      174   \n",
       "302  38.0    male  non-anginal pain     138.0   175  False        0      173   \n",
       "\n",
       "    exang  oldpeak        slope   ca                thal   status  \n",
       "0      no      2.3  downsloping  0.0        fixed defect   absent  \n",
       "1     yes      1.5         flat  3.0              normal  present  \n",
       "2     yes      2.6         flat  2.0  reversable defect   present  \n",
       "3      no      3.5  downsloping  0.0              normal   absent  \n",
       "4      no      1.4    upsloping  0.0              normal   absent  \n",
       "..    ...      ...          ...  ...                 ...      ...  \n",
       "298    no      1.2         flat  0.0  reversable defect   present  \n",
       "299    no      3.4         flat  2.0  reversable defect   present  \n",
       "300   yes      1.2         flat  1.0  reversable defect   present  \n",
       "301    no      0.0         flat  1.0              normal  present  \n",
       "302    no      0.0    upsloping  NaN              normal   absent  \n",
       "\n",
       "[303 rows x 14 columns]"
      ]
     },
     "execution_count": 3,
     "metadata": {},
     "output_type": "execute_result"
    }
   ],
   "source": [
    "N_data"
   ]
  },
  {
   "cell_type": "code",
   "execution_count": 4,
   "id": "86ad1d2d",
   "metadata": {},
   "outputs": [
    {
     "data": {
      "text/plain": [
       "2"
      ]
     },
     "execution_count": 4,
     "metadata": {},
     "output_type": "execute_result"
    }
   ],
   "source": [
    "N_data['age'].isna().sum()"
   ]
  },
  {
   "cell_type": "code",
   "execution_count": 5,
   "id": "f87b0920",
   "metadata": {},
   "outputs": [
    {
     "data": {
      "text/plain": [
       "array([63., 67., 37., 41., 56., 62., 57., 53., 44., 52., 48., 54., 49.,\n",
       "       64., 58., 60., 50., 66., 43., 40., 69., 59., 42., nan, 61., 65.,\n",
       "       71., 51., 46., 45., 68., 47., 34., 39., 35., 55., 29., 70., 77.,\n",
       "       38., 74., 76.])"
      ]
     },
     "execution_count": 5,
     "metadata": {},
     "output_type": "execute_result"
    }
   ],
   "source": [
    "N_data['age'].unique()"
   ]
  },
  {
   "cell_type": "code",
   "execution_count": 6,
   "id": "1e330ed4",
   "metadata": {},
   "outputs": [
    {
     "data": {
      "text/html": [
       "<div>\n",
       "<style scoped>\n",
       "    .dataframe tbody tr th:only-of-type {\n",
       "        vertical-align: middle;\n",
       "    }\n",
       "\n",
       "    .dataframe tbody tr th {\n",
       "        vertical-align: top;\n",
       "    }\n",
       "\n",
       "    .dataframe thead th {\n",
       "        text-align: right;\n",
       "    }\n",
       "</style>\n",
       "<table border=\"1\" class=\"dataframe\">\n",
       "  <thead>\n",
       "    <tr style=\"text-align: right;\">\n",
       "      <th></th>\n",
       "      <th>age</th>\n",
       "      <th>sex</th>\n",
       "      <th>cp</th>\n",
       "      <th>trestbps</th>\n",
       "      <th>chol</th>\n",
       "      <th>fbs</th>\n",
       "      <th>restecg</th>\n",
       "      <th>thalach</th>\n",
       "      <th>exang</th>\n",
       "      <th>oldpeak</th>\n",
       "      <th>slope</th>\n",
       "      <th>ca</th>\n",
       "      <th>thal</th>\n",
       "      <th>status</th>\n",
       "    </tr>\n",
       "  </thead>\n",
       "  <tbody>\n",
       "    <tr>\n",
       "      <th>0</th>\n",
       "      <td>63.0</td>\n",
       "      <td>male</td>\n",
       "      <td>typical angina</td>\n",
       "      <td>145.0</td>\n",
       "      <td>233</td>\n",
       "      <td>True</td>\n",
       "      <td>2</td>\n",
       "      <td>150</td>\n",
       "      <td>no</td>\n",
       "      <td>2.3</td>\n",
       "      <td>downsloping</td>\n",
       "      <td>0.0</td>\n",
       "      <td>fixed defect</td>\n",
       "      <td>absent</td>\n",
       "    </tr>\n",
       "    <tr>\n",
       "      <th>1</th>\n",
       "      <td>67.0</td>\n",
       "      <td>male</td>\n",
       "      <td>asymptomatic</td>\n",
       "      <td>160.0</td>\n",
       "      <td>286</td>\n",
       "      <td>False</td>\n",
       "      <td>2</td>\n",
       "      <td>108</td>\n",
       "      <td>yes</td>\n",
       "      <td>1.5</td>\n",
       "      <td>flat</td>\n",
       "      <td>3.0</td>\n",
       "      <td>normal</td>\n",
       "      <td>present</td>\n",
       "    </tr>\n",
       "    <tr>\n",
       "      <th>2</th>\n",
       "      <td>67.0</td>\n",
       "      <td>male</td>\n",
       "      <td>asymptomatic</td>\n",
       "      <td>120.0</td>\n",
       "      <td>229</td>\n",
       "      <td>False</td>\n",
       "      <td>2</td>\n",
       "      <td>129</td>\n",
       "      <td>yes</td>\n",
       "      <td>2.6</td>\n",
       "      <td>flat</td>\n",
       "      <td>2.0</td>\n",
       "      <td>reversable defect</td>\n",
       "      <td>present</td>\n",
       "    </tr>\n",
       "    <tr>\n",
       "      <th>3</th>\n",
       "      <td>37.0</td>\n",
       "      <td>male</td>\n",
       "      <td>non-anginal pain</td>\n",
       "      <td>130.0</td>\n",
       "      <td>250</td>\n",
       "      <td>False</td>\n",
       "      <td>0</td>\n",
       "      <td>187</td>\n",
       "      <td>no</td>\n",
       "      <td>3.5</td>\n",
       "      <td>downsloping</td>\n",
       "      <td>0.0</td>\n",
       "      <td>normal</td>\n",
       "      <td>absent</td>\n",
       "    </tr>\n",
       "    <tr>\n",
       "      <th>4</th>\n",
       "      <td>41.0</td>\n",
       "      <td>female</td>\n",
       "      <td>atypical angina</td>\n",
       "      <td>130.0</td>\n",
       "      <td>204</td>\n",
       "      <td>False</td>\n",
       "      <td>2</td>\n",
       "      <td>172</td>\n",
       "      <td>no</td>\n",
       "      <td>1.4</td>\n",
       "      <td>upsloping</td>\n",
       "      <td>0.0</td>\n",
       "      <td>normal</td>\n",
       "      <td>absent</td>\n",
       "    </tr>\n",
       "  </tbody>\n",
       "</table>\n",
       "</div>"
      ],
      "text/plain": [
       "    age     sex                cp  trestbps  chol    fbs  restecg  thalach  \\\n",
       "0  63.0    male    typical angina     145.0   233   True        2      150   \n",
       "1  67.0    male      asymptomatic     160.0   286  False        2      108   \n",
       "2  67.0    male      asymptomatic     120.0   229  False        2      129   \n",
       "3  37.0    male  non-anginal pain     130.0   250  False        0      187   \n",
       "4  41.0  female   atypical angina     130.0   204  False        2      172   \n",
       "\n",
       "  exang  oldpeak        slope   ca                thal   status  \n",
       "0    no      2.3  downsloping  0.0        fixed defect   absent  \n",
       "1   yes      1.5         flat  3.0              normal  present  \n",
       "2   yes      2.6         flat  2.0  reversable defect   present  \n",
       "3    no      3.5  downsloping  0.0              normal   absent  \n",
       "4    no      1.4    upsloping  0.0              normal   absent  "
      ]
     },
     "execution_count": 6,
     "metadata": {},
     "output_type": "execute_result"
    }
   ],
   "source": [
    "N_data.head()"
   ]
  },
  {
   "cell_type": "code",
   "execution_count": 7,
   "id": "67bc0fe7",
   "metadata": {},
   "outputs": [
    {
     "data": {
      "text/html": [
       "<div>\n",
       "<style scoped>\n",
       "    .dataframe tbody tr th:only-of-type {\n",
       "        vertical-align: middle;\n",
       "    }\n",
       "\n",
       "    .dataframe tbody tr th {\n",
       "        vertical-align: top;\n",
       "    }\n",
       "\n",
       "    .dataframe thead th {\n",
       "        text-align: right;\n",
       "    }\n",
       "</style>\n",
       "<table border=\"1\" class=\"dataframe\">\n",
       "  <thead>\n",
       "    <tr style=\"text-align: right;\">\n",
       "      <th></th>\n",
       "      <th>age</th>\n",
       "      <th>sex</th>\n",
       "      <th>cp</th>\n",
       "      <th>trestbps</th>\n",
       "      <th>chol</th>\n",
       "      <th>fbs</th>\n",
       "      <th>restecg</th>\n",
       "      <th>thalach</th>\n",
       "      <th>exang</th>\n",
       "      <th>oldpeak</th>\n",
       "      <th>slope</th>\n",
       "      <th>ca</th>\n",
       "      <th>thal</th>\n",
       "      <th>status</th>\n",
       "    </tr>\n",
       "  </thead>\n",
       "  <tbody>\n",
       "    <tr>\n",
       "      <th>298</th>\n",
       "      <td>45.0</td>\n",
       "      <td>male</td>\n",
       "      <td>typical angina</td>\n",
       "      <td>110.0</td>\n",
       "      <td>264</td>\n",
       "      <td>False</td>\n",
       "      <td>0</td>\n",
       "      <td>132</td>\n",
       "      <td>no</td>\n",
       "      <td>1.2</td>\n",
       "      <td>flat</td>\n",
       "      <td>0.0</td>\n",
       "      <td>reversable defect</td>\n",
       "      <td>present</td>\n",
       "    </tr>\n",
       "    <tr>\n",
       "      <th>299</th>\n",
       "      <td>68.0</td>\n",
       "      <td>male</td>\n",
       "      <td>asymptomatic</td>\n",
       "      <td>144.0</td>\n",
       "      <td>193</td>\n",
       "      <td>True</td>\n",
       "      <td>0</td>\n",
       "      <td>141</td>\n",
       "      <td>no</td>\n",
       "      <td>3.4</td>\n",
       "      <td>flat</td>\n",
       "      <td>2.0</td>\n",
       "      <td>reversable defect</td>\n",
       "      <td>present</td>\n",
       "    </tr>\n",
       "    <tr>\n",
       "      <th>300</th>\n",
       "      <td>57.0</td>\n",
       "      <td>male</td>\n",
       "      <td>asymptomatic</td>\n",
       "      <td>130.0</td>\n",
       "      <td>131</td>\n",
       "      <td>False</td>\n",
       "      <td>0</td>\n",
       "      <td>115</td>\n",
       "      <td>yes</td>\n",
       "      <td>1.2</td>\n",
       "      <td>flat</td>\n",
       "      <td>1.0</td>\n",
       "      <td>reversable defect</td>\n",
       "      <td>present</td>\n",
       "    </tr>\n",
       "    <tr>\n",
       "      <th>301</th>\n",
       "      <td>57.0</td>\n",
       "      <td>female</td>\n",
       "      <td>atypical angina</td>\n",
       "      <td>130.0</td>\n",
       "      <td>236</td>\n",
       "      <td>False</td>\n",
       "      <td>2</td>\n",
       "      <td>174</td>\n",
       "      <td>no</td>\n",
       "      <td>0.0</td>\n",
       "      <td>flat</td>\n",
       "      <td>1.0</td>\n",
       "      <td>normal</td>\n",
       "      <td>present</td>\n",
       "    </tr>\n",
       "    <tr>\n",
       "      <th>302</th>\n",
       "      <td>38.0</td>\n",
       "      <td>male</td>\n",
       "      <td>non-anginal pain</td>\n",
       "      <td>138.0</td>\n",
       "      <td>175</td>\n",
       "      <td>False</td>\n",
       "      <td>0</td>\n",
       "      <td>173</td>\n",
       "      <td>no</td>\n",
       "      <td>0.0</td>\n",
       "      <td>upsloping</td>\n",
       "      <td>NaN</td>\n",
       "      <td>normal</td>\n",
       "      <td>absent</td>\n",
       "    </tr>\n",
       "  </tbody>\n",
       "</table>\n",
       "</div>"
      ],
      "text/plain": [
       "      age     sex                cp  trestbps  chol    fbs  restecg  thalach  \\\n",
       "298  45.0    male    typical angina     110.0   264  False        0      132   \n",
       "299  68.0    male      asymptomatic     144.0   193   True        0      141   \n",
       "300  57.0    male      asymptomatic     130.0   131  False        0      115   \n",
       "301  57.0  female   atypical angina     130.0   236  False        2      174   \n",
       "302  38.0    male  non-anginal pain     138.0   175  False        0      173   \n",
       "\n",
       "    exang  oldpeak      slope   ca                thal   status  \n",
       "298    no      1.2       flat  0.0  reversable defect   present  \n",
       "299    no      3.4       flat  2.0  reversable defect   present  \n",
       "300   yes      1.2       flat  1.0  reversable defect   present  \n",
       "301    no      0.0       flat  1.0              normal  present  \n",
       "302    no      0.0  upsloping  NaN              normal   absent  "
      ]
     },
     "execution_count": 7,
     "metadata": {},
     "output_type": "execute_result"
    }
   ],
   "source": [
    "N_data.tail()"
   ]
  },
  {
   "cell_type": "code",
   "execution_count": 8,
   "id": "1344cb0f",
   "metadata": {},
   "outputs": [],
   "source": [
    "S_data = pd.read_csv(\"data/southern_heart_disease_data.csv\")"
   ]
  },
  {
   "cell_type": "code",
   "execution_count": 9,
   "id": "4478d2eb",
   "metadata": {},
   "outputs": [
    {
     "data": {
      "text/html": [
       "<div>\n",
       "<style scoped>\n",
       "    .dataframe tbody tr th:only-of-type {\n",
       "        vertical-align: middle;\n",
       "    }\n",
       "\n",
       "    .dataframe tbody tr th {\n",
       "        vertical-align: top;\n",
       "    }\n",
       "\n",
       "    .dataframe thead th {\n",
       "        text-align: right;\n",
       "    }\n",
       "</style>\n",
       "<table border=\"1\" class=\"dataframe\">\n",
       "  <thead>\n",
       "    <tr style=\"text-align: right;\">\n",
       "      <th></th>\n",
       "      <th>age</th>\n",
       "      <th>sex</th>\n",
       "      <th>cp</th>\n",
       "      <th>trestbps</th>\n",
       "      <th>chol</th>\n",
       "      <th>fbs</th>\n",
       "      <th>restecg</th>\n",
       "      <th>thalach</th>\n",
       "      <th>exang</th>\n",
       "      <th>oldpeak</th>\n",
       "      <th>slope</th>\n",
       "      <th>ca</th>\n",
       "      <th>thal</th>\n",
       "      <th>status</th>\n",
       "      <th>Unnamed: 14</th>\n",
       "      <th>Unnamed: 15</th>\n",
       "    </tr>\n",
       "  </thead>\n",
       "  <tbody>\n",
       "    <tr>\n",
       "      <th>0</th>\n",
       "      <td>70.0</td>\n",
       "      <td>male</td>\n",
       "      <td>asymptomatic</td>\n",
       "      <td>130</td>\n",
       "      <td>322</td>\n",
       "      <td>no</td>\n",
       "      <td>2</td>\n",
       "      <td>109.0</td>\n",
       "      <td>False</td>\n",
       "      <td>2.4</td>\n",
       "      <td>flat</td>\n",
       "      <td>3</td>\n",
       "      <td>normal</td>\n",
       "      <td>present</td>\n",
       "      <td>NaN</td>\n",
       "      <td>NaN</td>\n",
       "    </tr>\n",
       "    <tr>\n",
       "      <th>1</th>\n",
       "      <td>67.0</td>\n",
       "      <td>female</td>\n",
       "      <td>non-anginal pain</td>\n",
       "      <td>115</td>\n",
       "      <td>564</td>\n",
       "      <td>no</td>\n",
       "      <td>2</td>\n",
       "      <td>160.0</td>\n",
       "      <td>False</td>\n",
       "      <td>1.6</td>\n",
       "      <td>flat</td>\n",
       "      <td>0</td>\n",
       "      <td>reversable defect</td>\n",
       "      <td>absent</td>\n",
       "      <td>NaN</td>\n",
       "      <td>NaN</td>\n",
       "    </tr>\n",
       "    <tr>\n",
       "      <th>2</th>\n",
       "      <td>57.0</td>\n",
       "      <td>male</td>\n",
       "      <td>atypical angina</td>\n",
       "      <td>124</td>\n",
       "      <td>261</td>\n",
       "      <td>no</td>\n",
       "      <td>0</td>\n",
       "      <td>141.0</td>\n",
       "      <td>False</td>\n",
       "      <td>0.3</td>\n",
       "      <td>upsloping</td>\n",
       "      <td>0</td>\n",
       "      <td>reversable defect</td>\n",
       "      <td>present</td>\n",
       "      <td>NaN</td>\n",
       "      <td>NaN</td>\n",
       "    </tr>\n",
       "    <tr>\n",
       "      <th>3</th>\n",
       "      <td>64.0</td>\n",
       "      <td>male</td>\n",
       "      <td>asymptomatic</td>\n",
       "      <td>128</td>\n",
       "      <td>263</td>\n",
       "      <td>no</td>\n",
       "      <td>0</td>\n",
       "      <td>105.0</td>\n",
       "      <td>True</td>\n",
       "      <td>0.2</td>\n",
       "      <td>flat</td>\n",
       "      <td>1</td>\n",
       "      <td>reversable defect</td>\n",
       "      <td>absent</td>\n",
       "      <td>NaN</td>\n",
       "      <td>NaN</td>\n",
       "    </tr>\n",
       "    <tr>\n",
       "      <th>4</th>\n",
       "      <td>74.0</td>\n",
       "      <td>female</td>\n",
       "      <td>atypical angina</td>\n",
       "      <td>120</td>\n",
       "      <td>269</td>\n",
       "      <td>no</td>\n",
       "      <td>2</td>\n",
       "      <td>121.0</td>\n",
       "      <td>True</td>\n",
       "      <td>0.2</td>\n",
       "      <td>upsloping</td>\n",
       "      <td>1</td>\n",
       "      <td>normal</td>\n",
       "      <td>absent</td>\n",
       "      <td>NaN</td>\n",
       "      <td>NaN</td>\n",
       "    </tr>\n",
       "    <tr>\n",
       "      <th>...</th>\n",
       "      <td>...</td>\n",
       "      <td>...</td>\n",
       "      <td>...</td>\n",
       "      <td>...</td>\n",
       "      <td>...</td>\n",
       "      <td>...</td>\n",
       "      <td>...</td>\n",
       "      <td>...</td>\n",
       "      <td>...</td>\n",
       "      <td>...</td>\n",
       "      <td>...</td>\n",
       "      <td>...</td>\n",
       "      <td>...</td>\n",
       "      <td>...</td>\n",
       "      <td>...</td>\n",
       "      <td>...</td>\n",
       "    </tr>\n",
       "    <tr>\n",
       "      <th>265</th>\n",
       "      <td>52.0</td>\n",
       "      <td>male</td>\n",
       "      <td>non-anginal pain</td>\n",
       "      <td>172</td>\n",
       "      <td>199</td>\n",
       "      <td>yes</td>\n",
       "      <td>0</td>\n",
       "      <td>162.0</td>\n",
       "      <td>False</td>\n",
       "      <td>0.5</td>\n",
       "      <td>upsloping</td>\n",
       "      <td>0</td>\n",
       "      <td>reversable defect</td>\n",
       "      <td>absent</td>\n",
       "      <td>NaN</td>\n",
       "      <td>NaN</td>\n",
       "    </tr>\n",
       "    <tr>\n",
       "      <th>266</th>\n",
       "      <td>44.0</td>\n",
       "      <td>male</td>\n",
       "      <td>atypical angina</td>\n",
       "      <td>120</td>\n",
       "      <td>263</td>\n",
       "      <td>no</td>\n",
       "      <td>0</td>\n",
       "      <td>173.0</td>\n",
       "      <td>False</td>\n",
       "      <td>0.0</td>\n",
       "      <td>upsloping</td>\n",
       "      <td>0</td>\n",
       "      <td>reversable defect</td>\n",
       "      <td>absent</td>\n",
       "      <td>NaN</td>\n",
       "      <td>NaN</td>\n",
       "    </tr>\n",
       "    <tr>\n",
       "      <th>267</th>\n",
       "      <td>56.0</td>\n",
       "      <td>female</td>\n",
       "      <td>atypical angina</td>\n",
       "      <td>140</td>\n",
       "      <td>294</td>\n",
       "      <td>no</td>\n",
       "      <td>2</td>\n",
       "      <td>153.0</td>\n",
       "      <td>False</td>\n",
       "      <td>1.3</td>\n",
       "      <td>flat</td>\n",
       "      <td>0</td>\n",
       "      <td>normal</td>\n",
       "      <td>absent</td>\n",
       "      <td>NaN</td>\n",
       "      <td>NaN</td>\n",
       "    </tr>\n",
       "    <tr>\n",
       "      <th>268</th>\n",
       "      <td>57.0</td>\n",
       "      <td>male</td>\n",
       "      <td>asymptomatic</td>\n",
       "      <td>140</td>\n",
       "      <td>192</td>\n",
       "      <td>no</td>\n",
       "      <td>0</td>\n",
       "      <td>148.0</td>\n",
       "      <td>False</td>\n",
       "      <td>0.4</td>\n",
       "      <td>flat</td>\n",
       "      <td>0</td>\n",
       "      <td>fixed defect</td>\n",
       "      <td>absent</td>\n",
       "      <td>NaN</td>\n",
       "      <td>NaN</td>\n",
       "    </tr>\n",
       "    <tr>\n",
       "      <th>269</th>\n",
       "      <td>67.0</td>\n",
       "      <td>male</td>\n",
       "      <td>asymptomatic</td>\n",
       "      <td>160</td>\n",
       "      <td>286</td>\n",
       "      <td>no</td>\n",
       "      <td>2</td>\n",
       "      <td>108.0</td>\n",
       "      <td>True</td>\n",
       "      <td>1.5</td>\n",
       "      <td>flat</td>\n",
       "      <td>3</td>\n",
       "      <td>normal</td>\n",
       "      <td>present</td>\n",
       "      <td>NaN</td>\n",
       "      <td>NaN</td>\n",
       "    </tr>\n",
       "  </tbody>\n",
       "</table>\n",
       "<p>270 rows × 16 columns</p>\n",
       "</div>"
      ],
      "text/plain": [
       "      age     sex                cp  trestbps  chol  fbs  restecg  thalach  \\\n",
       "0    70.0    male      asymptomatic       130   322   no        2    109.0   \n",
       "1    67.0  female  non-anginal pain       115   564   no        2    160.0   \n",
       "2    57.0    male   atypical angina       124   261   no        0    141.0   \n",
       "3    64.0    male      asymptomatic       128   263   no        0    105.0   \n",
       "4    74.0  female   atypical angina       120   269   no        2    121.0   \n",
       "..    ...     ...               ...       ...   ...  ...      ...      ...   \n",
       "265  52.0    male  non-anginal pain       172   199  yes        0    162.0   \n",
       "266  44.0    male   atypical angina       120   263   no        0    173.0   \n",
       "267  56.0  female   atypical angina       140   294   no        2    153.0   \n",
       "268  57.0    male      asymptomatic       140   192   no        0    148.0   \n",
       "269  67.0    male      asymptomatic       160   286   no        2    108.0   \n",
       "\n",
       "     exang  oldpeak      slope  ca               thal   status  Unnamed: 14  \\\n",
       "0    False      2.4       flat   3             normal  present          NaN   \n",
       "1    False      1.6       flat   0  reversable defect   absent          NaN   \n",
       "2    False      0.3  upsloping   0  reversable defect  present          NaN   \n",
       "3     True      0.2       flat   1  reversable defect   absent          NaN   \n",
       "4     True      0.2  upsloping   1             normal   absent          NaN   \n",
       "..     ...      ...        ...  ..                ...      ...          ...   \n",
       "265  False      0.5  upsloping   0  reversable defect   absent          NaN   \n",
       "266  False      0.0  upsloping   0  reversable defect   absent          NaN   \n",
       "267  False      1.3       flat   0             normal   absent          NaN   \n",
       "268  False      0.4       flat   0       fixed defect   absent          NaN   \n",
       "269   True      1.5       flat   3             normal  present          NaN   \n",
       "\n",
       "     Unnamed: 15  \n",
       "0            NaN  \n",
       "1            NaN  \n",
       "2            NaN  \n",
       "3            NaN  \n",
       "4            NaN  \n",
       "..           ...  \n",
       "265          NaN  \n",
       "266          NaN  \n",
       "267          NaN  \n",
       "268          NaN  \n",
       "269          NaN  \n",
       "\n",
       "[270 rows x 16 columns]"
      ]
     },
     "execution_count": 9,
     "metadata": {},
     "output_type": "execute_result"
    }
   ],
   "source": [
    "S_data"
   ]
  },
  {
   "cell_type": "code",
   "execution_count": 10,
   "id": "bfe4c5eb",
   "metadata": {},
   "outputs": [
    {
     "data": {
      "text/html": [
       "<div>\n",
       "<style scoped>\n",
       "    .dataframe tbody tr th:only-of-type {\n",
       "        vertical-align: middle;\n",
       "    }\n",
       "\n",
       "    .dataframe tbody tr th {\n",
       "        vertical-align: top;\n",
       "    }\n",
       "\n",
       "    .dataframe thead th {\n",
       "        text-align: right;\n",
       "    }\n",
       "</style>\n",
       "<table border=\"1\" class=\"dataframe\">\n",
       "  <thead>\n",
       "    <tr style=\"text-align: right;\">\n",
       "      <th></th>\n",
       "      <th>age</th>\n",
       "      <th>sex</th>\n",
       "      <th>cp</th>\n",
       "      <th>trestbps</th>\n",
       "      <th>chol</th>\n",
       "      <th>fbs</th>\n",
       "      <th>restecg</th>\n",
       "      <th>thalach</th>\n",
       "      <th>exang</th>\n",
       "      <th>oldpeak</th>\n",
       "      <th>slope</th>\n",
       "      <th>ca</th>\n",
       "      <th>thal</th>\n",
       "      <th>status</th>\n",
       "      <th>Unnamed: 14</th>\n",
       "      <th>Unnamed: 15</th>\n",
       "    </tr>\n",
       "  </thead>\n",
       "  <tbody>\n",
       "    <tr>\n",
       "      <th>0</th>\n",
       "      <td>70.0</td>\n",
       "      <td>male</td>\n",
       "      <td>asymptomatic</td>\n",
       "      <td>130</td>\n",
       "      <td>322</td>\n",
       "      <td>no</td>\n",
       "      <td>2</td>\n",
       "      <td>109.0</td>\n",
       "      <td>False</td>\n",
       "      <td>2.4</td>\n",
       "      <td>flat</td>\n",
       "      <td>3</td>\n",
       "      <td>normal</td>\n",
       "      <td>present</td>\n",
       "      <td>NaN</td>\n",
       "      <td>NaN</td>\n",
       "    </tr>\n",
       "    <tr>\n",
       "      <th>1</th>\n",
       "      <td>67.0</td>\n",
       "      <td>female</td>\n",
       "      <td>non-anginal pain</td>\n",
       "      <td>115</td>\n",
       "      <td>564</td>\n",
       "      <td>no</td>\n",
       "      <td>2</td>\n",
       "      <td>160.0</td>\n",
       "      <td>False</td>\n",
       "      <td>1.6</td>\n",
       "      <td>flat</td>\n",
       "      <td>0</td>\n",
       "      <td>reversable defect</td>\n",
       "      <td>absent</td>\n",
       "      <td>NaN</td>\n",
       "      <td>NaN</td>\n",
       "    </tr>\n",
       "    <tr>\n",
       "      <th>2</th>\n",
       "      <td>57.0</td>\n",
       "      <td>male</td>\n",
       "      <td>atypical angina</td>\n",
       "      <td>124</td>\n",
       "      <td>261</td>\n",
       "      <td>no</td>\n",
       "      <td>0</td>\n",
       "      <td>141.0</td>\n",
       "      <td>False</td>\n",
       "      <td>0.3</td>\n",
       "      <td>upsloping</td>\n",
       "      <td>0</td>\n",
       "      <td>reversable defect</td>\n",
       "      <td>present</td>\n",
       "      <td>NaN</td>\n",
       "      <td>NaN</td>\n",
       "    </tr>\n",
       "    <tr>\n",
       "      <th>3</th>\n",
       "      <td>64.0</td>\n",
       "      <td>male</td>\n",
       "      <td>asymptomatic</td>\n",
       "      <td>128</td>\n",
       "      <td>263</td>\n",
       "      <td>no</td>\n",
       "      <td>0</td>\n",
       "      <td>105.0</td>\n",
       "      <td>True</td>\n",
       "      <td>0.2</td>\n",
       "      <td>flat</td>\n",
       "      <td>1</td>\n",
       "      <td>reversable defect</td>\n",
       "      <td>absent</td>\n",
       "      <td>NaN</td>\n",
       "      <td>NaN</td>\n",
       "    </tr>\n",
       "    <tr>\n",
       "      <th>4</th>\n",
       "      <td>74.0</td>\n",
       "      <td>female</td>\n",
       "      <td>atypical angina</td>\n",
       "      <td>120</td>\n",
       "      <td>269</td>\n",
       "      <td>no</td>\n",
       "      <td>2</td>\n",
       "      <td>121.0</td>\n",
       "      <td>True</td>\n",
       "      <td>0.2</td>\n",
       "      <td>upsloping</td>\n",
       "      <td>1</td>\n",
       "      <td>normal</td>\n",
       "      <td>absent</td>\n",
       "      <td>NaN</td>\n",
       "      <td>NaN</td>\n",
       "    </tr>\n",
       "  </tbody>\n",
       "</table>\n",
       "</div>"
      ],
      "text/plain": [
       "    age     sex                cp  trestbps  chol fbs  restecg  thalach  \\\n",
       "0  70.0    male      asymptomatic       130   322  no        2    109.0   \n",
       "1  67.0  female  non-anginal pain       115   564  no        2    160.0   \n",
       "2  57.0    male   atypical angina       124   261  no        0    141.0   \n",
       "3  64.0    male      asymptomatic       128   263  no        0    105.0   \n",
       "4  74.0  female   atypical angina       120   269  no        2    121.0   \n",
       "\n",
       "   exang  oldpeak      slope  ca               thal   status  Unnamed: 14  \\\n",
       "0  False      2.4       flat   3             normal  present          NaN   \n",
       "1  False      1.6       flat   0  reversable defect   absent          NaN   \n",
       "2  False      0.3  upsloping   0  reversable defect  present          NaN   \n",
       "3   True      0.2       flat   1  reversable defect   absent          NaN   \n",
       "4   True      0.2  upsloping   1             normal   absent          NaN   \n",
       "\n",
       "   Unnamed: 15  \n",
       "0          NaN  \n",
       "1          NaN  \n",
       "2          NaN  \n",
       "3          NaN  \n",
       "4          NaN  "
      ]
     },
     "execution_count": 10,
     "metadata": {},
     "output_type": "execute_result"
    }
   ],
   "source": [
    "S_data.head()"
   ]
  },
  {
   "cell_type": "code",
   "execution_count": 11,
   "id": "625426f8",
   "metadata": {},
   "outputs": [
    {
     "data": {
      "text/html": [
       "<div>\n",
       "<style scoped>\n",
       "    .dataframe tbody tr th:only-of-type {\n",
       "        vertical-align: middle;\n",
       "    }\n",
       "\n",
       "    .dataframe tbody tr th {\n",
       "        vertical-align: top;\n",
       "    }\n",
       "\n",
       "    .dataframe thead th {\n",
       "        text-align: right;\n",
       "    }\n",
       "</style>\n",
       "<table border=\"1\" class=\"dataframe\">\n",
       "  <thead>\n",
       "    <tr style=\"text-align: right;\">\n",
       "      <th></th>\n",
       "      <th>age</th>\n",
       "      <th>sex</th>\n",
       "      <th>cp</th>\n",
       "      <th>trestbps</th>\n",
       "      <th>chol</th>\n",
       "      <th>fbs</th>\n",
       "      <th>restecg</th>\n",
       "      <th>thalach</th>\n",
       "      <th>exang</th>\n",
       "      <th>oldpeak</th>\n",
       "      <th>slope</th>\n",
       "      <th>ca</th>\n",
       "      <th>thal</th>\n",
       "      <th>status</th>\n",
       "      <th>Unnamed: 14</th>\n",
       "      <th>Unnamed: 15</th>\n",
       "    </tr>\n",
       "  </thead>\n",
       "  <tbody>\n",
       "    <tr>\n",
       "      <th>265</th>\n",
       "      <td>52.0</td>\n",
       "      <td>male</td>\n",
       "      <td>non-anginal pain</td>\n",
       "      <td>172</td>\n",
       "      <td>199</td>\n",
       "      <td>yes</td>\n",
       "      <td>0</td>\n",
       "      <td>162.0</td>\n",
       "      <td>False</td>\n",
       "      <td>0.5</td>\n",
       "      <td>upsloping</td>\n",
       "      <td>0</td>\n",
       "      <td>reversable defect</td>\n",
       "      <td>absent</td>\n",
       "      <td>NaN</td>\n",
       "      <td>NaN</td>\n",
       "    </tr>\n",
       "    <tr>\n",
       "      <th>266</th>\n",
       "      <td>44.0</td>\n",
       "      <td>male</td>\n",
       "      <td>atypical angina</td>\n",
       "      <td>120</td>\n",
       "      <td>263</td>\n",
       "      <td>no</td>\n",
       "      <td>0</td>\n",
       "      <td>173.0</td>\n",
       "      <td>False</td>\n",
       "      <td>0.0</td>\n",
       "      <td>upsloping</td>\n",
       "      <td>0</td>\n",
       "      <td>reversable defect</td>\n",
       "      <td>absent</td>\n",
       "      <td>NaN</td>\n",
       "      <td>NaN</td>\n",
       "    </tr>\n",
       "    <tr>\n",
       "      <th>267</th>\n",
       "      <td>56.0</td>\n",
       "      <td>female</td>\n",
       "      <td>atypical angina</td>\n",
       "      <td>140</td>\n",
       "      <td>294</td>\n",
       "      <td>no</td>\n",
       "      <td>2</td>\n",
       "      <td>153.0</td>\n",
       "      <td>False</td>\n",
       "      <td>1.3</td>\n",
       "      <td>flat</td>\n",
       "      <td>0</td>\n",
       "      <td>normal</td>\n",
       "      <td>absent</td>\n",
       "      <td>NaN</td>\n",
       "      <td>NaN</td>\n",
       "    </tr>\n",
       "    <tr>\n",
       "      <th>268</th>\n",
       "      <td>57.0</td>\n",
       "      <td>male</td>\n",
       "      <td>asymptomatic</td>\n",
       "      <td>140</td>\n",
       "      <td>192</td>\n",
       "      <td>no</td>\n",
       "      <td>0</td>\n",
       "      <td>148.0</td>\n",
       "      <td>False</td>\n",
       "      <td>0.4</td>\n",
       "      <td>flat</td>\n",
       "      <td>0</td>\n",
       "      <td>fixed defect</td>\n",
       "      <td>absent</td>\n",
       "      <td>NaN</td>\n",
       "      <td>NaN</td>\n",
       "    </tr>\n",
       "    <tr>\n",
       "      <th>269</th>\n",
       "      <td>67.0</td>\n",
       "      <td>male</td>\n",
       "      <td>asymptomatic</td>\n",
       "      <td>160</td>\n",
       "      <td>286</td>\n",
       "      <td>no</td>\n",
       "      <td>2</td>\n",
       "      <td>108.0</td>\n",
       "      <td>True</td>\n",
       "      <td>1.5</td>\n",
       "      <td>flat</td>\n",
       "      <td>3</td>\n",
       "      <td>normal</td>\n",
       "      <td>present</td>\n",
       "      <td>NaN</td>\n",
       "      <td>NaN</td>\n",
       "    </tr>\n",
       "  </tbody>\n",
       "</table>\n",
       "</div>"
      ],
      "text/plain": [
       "      age     sex                cp  trestbps  chol  fbs  restecg  thalach  \\\n",
       "265  52.0    male  non-anginal pain       172   199  yes        0    162.0   \n",
       "266  44.0    male   atypical angina       120   263   no        0    173.0   \n",
       "267  56.0  female   atypical angina       140   294   no        2    153.0   \n",
       "268  57.0    male      asymptomatic       140   192   no        0    148.0   \n",
       "269  67.0    male      asymptomatic       160   286   no        2    108.0   \n",
       "\n",
       "     exang  oldpeak      slope  ca               thal   status  Unnamed: 14  \\\n",
       "265  False      0.5  upsloping   0  reversable defect   absent          NaN   \n",
       "266  False      0.0  upsloping   0  reversable defect   absent          NaN   \n",
       "267  False      1.3       flat   0             normal   absent          NaN   \n",
       "268  False      0.4       flat   0       fixed defect   absent          NaN   \n",
       "269   True      1.5       flat   3             normal  present          NaN   \n",
       "\n",
       "     Unnamed: 15  \n",
       "265          NaN  \n",
       "266          NaN  \n",
       "267          NaN  \n",
       "268          NaN  \n",
       "269          NaN  "
      ]
     },
     "execution_count": 11,
     "metadata": {},
     "output_type": "execute_result"
    }
   ],
   "source": [
    "S_data.tail()"
   ]
  },
  {
   "cell_type": "code",
   "execution_count": 12,
   "id": "57c309f4",
   "metadata": {},
   "outputs": [
    {
     "data": {
      "text/plain": [
       "2"
      ]
     },
     "execution_count": 12,
     "metadata": {},
     "output_type": "execute_result"
    }
   ],
   "source": [
    "S_data['age'].isna().sum()"
   ]
  },
  {
   "cell_type": "code",
   "execution_count": 13,
   "id": "b04734a5",
   "metadata": {},
   "outputs": [],
   "source": [
    "# Replace non-NaN representations with NaN in 'age' column\n",
    "S_data['age'].replace(' ', np.nan, inplace=True)  # Adjust 'NA' to the appropriate representation\n"
   ]
  },
  {
   "cell_type": "code",
   "execution_count": 14,
   "id": "83d44a2e",
   "metadata": {},
   "outputs": [
    {
     "data": {
      "text/plain": [
       "array([63., 67., 37., 41., 56., 62., 57., 53., 44., 52., 48., 54., 49.,\n",
       "       64., 58., 60., 50., 66., 43., 40., 69., 59., 42., nan, 61., 65.,\n",
       "       71., 51., 46., 45., 68., 47., 34., 39., 35., 55., 29., 70., 77.,\n",
       "       38., 74., 76.])"
      ]
     },
     "execution_count": 14,
     "metadata": {},
     "output_type": "execute_result"
    }
   ],
   "source": [
    "N_data['age'].unique()"
   ]
  },
  {
   "cell_type": "code",
   "execution_count": 15,
   "id": "41b94954",
   "metadata": {},
   "outputs": [
    {
     "data": {
      "text/plain": [
       "2"
      ]
     },
     "execution_count": 15,
     "metadata": {},
     "output_type": "execute_result"
    }
   ],
   "source": [
    "S_data['age'].isna().sum()"
   ]
  },
  {
   "cell_type": "code",
   "execution_count": 16,
   "id": "7429b7df",
   "metadata": {},
   "outputs": [
    {
     "data": {
      "text/plain": [
       "age         float64\n",
       "sex          object\n",
       "cp           object\n",
       "trestbps    float64\n",
       "chol          int64\n",
       "fbs            bool\n",
       "restecg       int64\n",
       "thalach       int64\n",
       "exang        object\n",
       "oldpeak     float64\n",
       "slope        object\n",
       "ca          float64\n",
       "thal         object\n",
       "status       object\n",
       "dtype: object"
      ]
     },
     "execution_count": 16,
     "metadata": {},
     "output_type": "execute_result"
    }
   ],
   "source": [
    "N_data.dtypes"
   ]
  },
  {
   "cell_type": "code",
   "execution_count": 17,
   "id": "941d80cb",
   "metadata": {},
   "outputs": [
    {
     "data": {
      "text/plain": [
       "age            float64\n",
       "sex             object\n",
       "cp              object\n",
       "trestbps         int64\n",
       "chol             int64\n",
       "fbs             object\n",
       "restecg          int64\n",
       "thalach        float64\n",
       "exang             bool\n",
       "oldpeak        float64\n",
       "slope           object\n",
       "ca               int64\n",
       "thal            object\n",
       "status          object\n",
       "Unnamed: 14    float64\n",
       "Unnamed: 15    float64\n",
       "dtype: object"
      ]
     },
     "execution_count": 17,
     "metadata": {},
     "output_type": "execute_result"
    }
   ],
   "source": [
    "S_data.dtypes"
   ]
  },
  {
   "cell_type": "code",
   "execution_count": null,
   "id": "36dab518",
   "metadata": {},
   "outputs": [],
   "source": []
  },
  {
   "cell_type": "markdown",
   "id": "2aca3c60",
   "metadata": {},
   "source": [
    "# 1. Data Consolidation"
   ]
  },
  {
   "cell_type": "markdown",
   "id": "61a1c2fa",
   "metadata": {},
   "source": [
    "## A. Are any transformations required for specific variables to ensure they are directly comparable between the two datasets?"
   ]
  },
  {
   "cell_type": "markdown",
   "id": "c22b5a23",
   "metadata": {},
   "source": [
    "Yes, the following transformations are required to ensure they are directly comparable between the two datasets:\n",
    "\n",
    "1. In the northern dataset, the 'fbs' column is represented as \"True\" and \"False\" while the southern datset uses \n",
    "\"Yes\" and \"No\" in the same column;\n",
    "\n",
    "2. The 'exang' column in the northern dataset \"Yes\" and \"No\" while the southern dataset has \"False\" and \"True\"; \n",
    "\n",
    "3. The southern dataset has two erroneuosly unnamed columns without any values therein across all the rows;\n",
    "\n",
    "4. The \"trestbps\" and \"ca\" columns in the northern datset are erroneously given float data type while those in the southern dataset are rightly assigned to be integer data type;\n",
    "\n",
    "These inconsistencies needs to be harmonized."
   ]
  },
  {
   "cell_type": "markdown",
   "id": "0787bd09",
   "metadata": {},
   "source": [
    "## Harmonizing the inconsistencies "
   ]
  },
  {
   "cell_type": "markdown",
   "id": "48d7c968",
   "metadata": {},
   "source": [
    "### No. 1: Rerepresentation of the \"fbs\" column in the northern datset"
   ]
  },
  {
   "cell_type": "code",
   "execution_count": 18,
   "id": "84403006",
   "metadata": {},
   "outputs": [],
   "source": [
    "# Changing the categorical variables of the \"fbs\" column in the northern datset from \"False\" and \"True\" to  \"Yes\" and \"No\" \n",
    "# to correspond with the southern dataset  \n",
    "\n",
    "# Define the mapping dictionary\n",
    "mapping = {True: 'Yes', False: 'No'} \n",
    "\n",
    "# Apply the mapping to the specified column\n",
    "N_data['fbs'] = N_data['fbs'].replace(mapping)\n"
   ]
  },
  {
   "cell_type": "code",
   "execution_count": 19,
   "id": "380b8b20",
   "metadata": {},
   "outputs": [
    {
     "data": {
      "text/html": [
       "<div>\n",
       "<style scoped>\n",
       "    .dataframe tbody tr th:only-of-type {\n",
       "        vertical-align: middle;\n",
       "    }\n",
       "\n",
       "    .dataframe tbody tr th {\n",
       "        vertical-align: top;\n",
       "    }\n",
       "\n",
       "    .dataframe thead th {\n",
       "        text-align: right;\n",
       "    }\n",
       "</style>\n",
       "<table border=\"1\" class=\"dataframe\">\n",
       "  <thead>\n",
       "    <tr style=\"text-align: right;\">\n",
       "      <th></th>\n",
       "      <th>age</th>\n",
       "      <th>sex</th>\n",
       "      <th>cp</th>\n",
       "      <th>trestbps</th>\n",
       "      <th>chol</th>\n",
       "      <th>fbs</th>\n",
       "      <th>restecg</th>\n",
       "      <th>thalach</th>\n",
       "      <th>exang</th>\n",
       "      <th>oldpeak</th>\n",
       "      <th>slope</th>\n",
       "      <th>ca</th>\n",
       "      <th>thal</th>\n",
       "      <th>status</th>\n",
       "    </tr>\n",
       "  </thead>\n",
       "  <tbody>\n",
       "    <tr>\n",
       "      <th>0</th>\n",
       "      <td>63.0</td>\n",
       "      <td>male</td>\n",
       "      <td>typical angina</td>\n",
       "      <td>145.0</td>\n",
       "      <td>233</td>\n",
       "      <td>Yes</td>\n",
       "      <td>2</td>\n",
       "      <td>150</td>\n",
       "      <td>no</td>\n",
       "      <td>2.3</td>\n",
       "      <td>downsloping</td>\n",
       "      <td>0.0</td>\n",
       "      <td>fixed defect</td>\n",
       "      <td>absent</td>\n",
       "    </tr>\n",
       "    <tr>\n",
       "      <th>1</th>\n",
       "      <td>67.0</td>\n",
       "      <td>male</td>\n",
       "      <td>asymptomatic</td>\n",
       "      <td>160.0</td>\n",
       "      <td>286</td>\n",
       "      <td>No</td>\n",
       "      <td>2</td>\n",
       "      <td>108</td>\n",
       "      <td>yes</td>\n",
       "      <td>1.5</td>\n",
       "      <td>flat</td>\n",
       "      <td>3.0</td>\n",
       "      <td>normal</td>\n",
       "      <td>present</td>\n",
       "    </tr>\n",
       "    <tr>\n",
       "      <th>2</th>\n",
       "      <td>67.0</td>\n",
       "      <td>male</td>\n",
       "      <td>asymptomatic</td>\n",
       "      <td>120.0</td>\n",
       "      <td>229</td>\n",
       "      <td>No</td>\n",
       "      <td>2</td>\n",
       "      <td>129</td>\n",
       "      <td>yes</td>\n",
       "      <td>2.6</td>\n",
       "      <td>flat</td>\n",
       "      <td>2.0</td>\n",
       "      <td>reversable defect</td>\n",
       "      <td>present</td>\n",
       "    </tr>\n",
       "    <tr>\n",
       "      <th>3</th>\n",
       "      <td>37.0</td>\n",
       "      <td>male</td>\n",
       "      <td>non-anginal pain</td>\n",
       "      <td>130.0</td>\n",
       "      <td>250</td>\n",
       "      <td>No</td>\n",
       "      <td>0</td>\n",
       "      <td>187</td>\n",
       "      <td>no</td>\n",
       "      <td>3.5</td>\n",
       "      <td>downsloping</td>\n",
       "      <td>0.0</td>\n",
       "      <td>normal</td>\n",
       "      <td>absent</td>\n",
       "    </tr>\n",
       "    <tr>\n",
       "      <th>4</th>\n",
       "      <td>41.0</td>\n",
       "      <td>female</td>\n",
       "      <td>atypical angina</td>\n",
       "      <td>130.0</td>\n",
       "      <td>204</td>\n",
       "      <td>No</td>\n",
       "      <td>2</td>\n",
       "      <td>172</td>\n",
       "      <td>no</td>\n",
       "      <td>1.4</td>\n",
       "      <td>upsloping</td>\n",
       "      <td>0.0</td>\n",
       "      <td>normal</td>\n",
       "      <td>absent</td>\n",
       "    </tr>\n",
       "  </tbody>\n",
       "</table>\n",
       "</div>"
      ],
      "text/plain": [
       "    age     sex                cp  trestbps  chol  fbs  restecg  thalach  \\\n",
       "0  63.0    male    typical angina     145.0   233  Yes        2      150   \n",
       "1  67.0    male      asymptomatic     160.0   286   No        2      108   \n",
       "2  67.0    male      asymptomatic     120.0   229   No        2      129   \n",
       "3  37.0    male  non-anginal pain     130.0   250   No        0      187   \n",
       "4  41.0  female   atypical angina     130.0   204   No        2      172   \n",
       "\n",
       "  exang  oldpeak        slope   ca                thal   status  \n",
       "0    no      2.3  downsloping  0.0        fixed defect   absent  \n",
       "1   yes      1.5         flat  3.0              normal  present  \n",
       "2   yes      2.6         flat  2.0  reversable defect   present  \n",
       "3    no      3.5  downsloping  0.0              normal   absent  \n",
       "4    no      1.4    upsloping  0.0              normal   absent  "
      ]
     },
     "execution_count": 19,
     "metadata": {},
     "output_type": "execute_result"
    }
   ],
   "source": [
    "N_data.head()"
   ]
  },
  {
   "cell_type": "markdown",
   "id": "09417498",
   "metadata": {},
   "source": [
    "### No. 2: Rerepresentation of the \"exang\" column in the northern datset"
   ]
  },
  {
   "cell_type": "code",
   "execution_count": 20,
   "id": "c9e36b43",
   "metadata": {},
   "outputs": [],
   "source": [
    "# Changing the categorical variables of the \"exang\" column in the northern datset from \"Yes\" and \"No\" to \"True\" and \"False\"\n",
    "# to correspond with the southern dataset  \n",
    "\n",
    "# Define the mapping dictionary\n",
    "mapping = {'yes': 'True', 'no': 'False'} \n",
    "\n",
    "# Apply the mapping to the specified column\n",
    "N_data['exang'] = N_data['exang'].replace(mapping)"
   ]
  },
  {
   "cell_type": "code",
   "execution_count": 21,
   "id": "4697a678",
   "metadata": {},
   "outputs": [
    {
     "data": {
      "text/html": [
       "<div>\n",
       "<style scoped>\n",
       "    .dataframe tbody tr th:only-of-type {\n",
       "        vertical-align: middle;\n",
       "    }\n",
       "\n",
       "    .dataframe tbody tr th {\n",
       "        vertical-align: top;\n",
       "    }\n",
       "\n",
       "    .dataframe thead th {\n",
       "        text-align: right;\n",
       "    }\n",
       "</style>\n",
       "<table border=\"1\" class=\"dataframe\">\n",
       "  <thead>\n",
       "    <tr style=\"text-align: right;\">\n",
       "      <th></th>\n",
       "      <th>age</th>\n",
       "      <th>sex</th>\n",
       "      <th>cp</th>\n",
       "      <th>trestbps</th>\n",
       "      <th>chol</th>\n",
       "      <th>fbs</th>\n",
       "      <th>restecg</th>\n",
       "      <th>thalach</th>\n",
       "      <th>exang</th>\n",
       "      <th>oldpeak</th>\n",
       "      <th>slope</th>\n",
       "      <th>ca</th>\n",
       "      <th>thal</th>\n",
       "      <th>status</th>\n",
       "    </tr>\n",
       "  </thead>\n",
       "  <tbody>\n",
       "    <tr>\n",
       "      <th>0</th>\n",
       "      <td>63.0</td>\n",
       "      <td>male</td>\n",
       "      <td>typical angina</td>\n",
       "      <td>145.0</td>\n",
       "      <td>233</td>\n",
       "      <td>Yes</td>\n",
       "      <td>2</td>\n",
       "      <td>150</td>\n",
       "      <td>False</td>\n",
       "      <td>2.3</td>\n",
       "      <td>downsloping</td>\n",
       "      <td>0.0</td>\n",
       "      <td>fixed defect</td>\n",
       "      <td>absent</td>\n",
       "    </tr>\n",
       "    <tr>\n",
       "      <th>1</th>\n",
       "      <td>67.0</td>\n",
       "      <td>male</td>\n",
       "      <td>asymptomatic</td>\n",
       "      <td>160.0</td>\n",
       "      <td>286</td>\n",
       "      <td>No</td>\n",
       "      <td>2</td>\n",
       "      <td>108</td>\n",
       "      <td>True</td>\n",
       "      <td>1.5</td>\n",
       "      <td>flat</td>\n",
       "      <td>3.0</td>\n",
       "      <td>normal</td>\n",
       "      <td>present</td>\n",
       "    </tr>\n",
       "    <tr>\n",
       "      <th>2</th>\n",
       "      <td>67.0</td>\n",
       "      <td>male</td>\n",
       "      <td>asymptomatic</td>\n",
       "      <td>120.0</td>\n",
       "      <td>229</td>\n",
       "      <td>No</td>\n",
       "      <td>2</td>\n",
       "      <td>129</td>\n",
       "      <td>True</td>\n",
       "      <td>2.6</td>\n",
       "      <td>flat</td>\n",
       "      <td>2.0</td>\n",
       "      <td>reversable defect</td>\n",
       "      <td>present</td>\n",
       "    </tr>\n",
       "    <tr>\n",
       "      <th>3</th>\n",
       "      <td>37.0</td>\n",
       "      <td>male</td>\n",
       "      <td>non-anginal pain</td>\n",
       "      <td>130.0</td>\n",
       "      <td>250</td>\n",
       "      <td>No</td>\n",
       "      <td>0</td>\n",
       "      <td>187</td>\n",
       "      <td>False</td>\n",
       "      <td>3.5</td>\n",
       "      <td>downsloping</td>\n",
       "      <td>0.0</td>\n",
       "      <td>normal</td>\n",
       "      <td>absent</td>\n",
       "    </tr>\n",
       "    <tr>\n",
       "      <th>4</th>\n",
       "      <td>41.0</td>\n",
       "      <td>female</td>\n",
       "      <td>atypical angina</td>\n",
       "      <td>130.0</td>\n",
       "      <td>204</td>\n",
       "      <td>No</td>\n",
       "      <td>2</td>\n",
       "      <td>172</td>\n",
       "      <td>False</td>\n",
       "      <td>1.4</td>\n",
       "      <td>upsloping</td>\n",
       "      <td>0.0</td>\n",
       "      <td>normal</td>\n",
       "      <td>absent</td>\n",
       "    </tr>\n",
       "  </tbody>\n",
       "</table>\n",
       "</div>"
      ],
      "text/plain": [
       "    age     sex                cp  trestbps  chol  fbs  restecg  thalach  \\\n",
       "0  63.0    male    typical angina     145.0   233  Yes        2      150   \n",
       "1  67.0    male      asymptomatic     160.0   286   No        2      108   \n",
       "2  67.0    male      asymptomatic     120.0   229   No        2      129   \n",
       "3  37.0    male  non-anginal pain     130.0   250   No        0      187   \n",
       "4  41.0  female   atypical angina     130.0   204   No        2      172   \n",
       "\n",
       "   exang  oldpeak        slope   ca                thal   status  \n",
       "0  False      2.3  downsloping  0.0        fixed defect   absent  \n",
       "1   True      1.5         flat  3.0              normal  present  \n",
       "2   True      2.6         flat  2.0  reversable defect   present  \n",
       "3  False      3.5  downsloping  0.0              normal   absent  \n",
       "4  False      1.4    upsloping  0.0              normal   absent  "
      ]
     },
     "execution_count": 21,
     "metadata": {},
     "output_type": "execute_result"
    }
   ],
   "source": [
    "N_data.head()"
   ]
  },
  {
   "cell_type": "markdown",
   "id": "5f34fb4f",
   "metadata": {},
   "source": [
    "### No. 3: Dropping the unnamed columns in the southern datset without values across all rows"
   ]
  },
  {
   "cell_type": "code",
   "execution_count": 22,
   "id": "143ddc82",
   "metadata": {},
   "outputs": [
    {
     "data": {
      "text/html": [
       "<div>\n",
       "<style scoped>\n",
       "    .dataframe tbody tr th:only-of-type {\n",
       "        vertical-align: middle;\n",
       "    }\n",
       "\n",
       "    .dataframe tbody tr th {\n",
       "        vertical-align: top;\n",
       "    }\n",
       "\n",
       "    .dataframe thead th {\n",
       "        text-align: right;\n",
       "    }\n",
       "</style>\n",
       "<table border=\"1\" class=\"dataframe\">\n",
       "  <thead>\n",
       "    <tr style=\"text-align: right;\">\n",
       "      <th></th>\n",
       "      <th>age</th>\n",
       "      <th>sex</th>\n",
       "      <th>cp</th>\n",
       "      <th>trestbps</th>\n",
       "      <th>chol</th>\n",
       "      <th>fbs</th>\n",
       "      <th>restecg</th>\n",
       "      <th>thalach</th>\n",
       "      <th>exang</th>\n",
       "      <th>oldpeak</th>\n",
       "      <th>slope</th>\n",
       "      <th>ca</th>\n",
       "      <th>thal</th>\n",
       "      <th>status</th>\n",
       "      <th>Unnamed: 14</th>\n",
       "      <th>Unnamed: 15</th>\n",
       "    </tr>\n",
       "  </thead>\n",
       "  <tbody>\n",
       "    <tr>\n",
       "      <th>0</th>\n",
       "      <td>70.0</td>\n",
       "      <td>male</td>\n",
       "      <td>asymptomatic</td>\n",
       "      <td>130</td>\n",
       "      <td>322</td>\n",
       "      <td>no</td>\n",
       "      <td>2</td>\n",
       "      <td>109.0</td>\n",
       "      <td>False</td>\n",
       "      <td>2.4</td>\n",
       "      <td>flat</td>\n",
       "      <td>3</td>\n",
       "      <td>normal</td>\n",
       "      <td>present</td>\n",
       "      <td>NaN</td>\n",
       "      <td>NaN</td>\n",
       "    </tr>\n",
       "    <tr>\n",
       "      <th>1</th>\n",
       "      <td>67.0</td>\n",
       "      <td>female</td>\n",
       "      <td>non-anginal pain</td>\n",
       "      <td>115</td>\n",
       "      <td>564</td>\n",
       "      <td>no</td>\n",
       "      <td>2</td>\n",
       "      <td>160.0</td>\n",
       "      <td>False</td>\n",
       "      <td>1.6</td>\n",
       "      <td>flat</td>\n",
       "      <td>0</td>\n",
       "      <td>reversable defect</td>\n",
       "      <td>absent</td>\n",
       "      <td>NaN</td>\n",
       "      <td>NaN</td>\n",
       "    </tr>\n",
       "    <tr>\n",
       "      <th>2</th>\n",
       "      <td>57.0</td>\n",
       "      <td>male</td>\n",
       "      <td>atypical angina</td>\n",
       "      <td>124</td>\n",
       "      <td>261</td>\n",
       "      <td>no</td>\n",
       "      <td>0</td>\n",
       "      <td>141.0</td>\n",
       "      <td>False</td>\n",
       "      <td>0.3</td>\n",
       "      <td>upsloping</td>\n",
       "      <td>0</td>\n",
       "      <td>reversable defect</td>\n",
       "      <td>present</td>\n",
       "      <td>NaN</td>\n",
       "      <td>NaN</td>\n",
       "    </tr>\n",
       "    <tr>\n",
       "      <th>3</th>\n",
       "      <td>64.0</td>\n",
       "      <td>male</td>\n",
       "      <td>asymptomatic</td>\n",
       "      <td>128</td>\n",
       "      <td>263</td>\n",
       "      <td>no</td>\n",
       "      <td>0</td>\n",
       "      <td>105.0</td>\n",
       "      <td>True</td>\n",
       "      <td>0.2</td>\n",
       "      <td>flat</td>\n",
       "      <td>1</td>\n",
       "      <td>reversable defect</td>\n",
       "      <td>absent</td>\n",
       "      <td>NaN</td>\n",
       "      <td>NaN</td>\n",
       "    </tr>\n",
       "    <tr>\n",
       "      <th>4</th>\n",
       "      <td>74.0</td>\n",
       "      <td>female</td>\n",
       "      <td>atypical angina</td>\n",
       "      <td>120</td>\n",
       "      <td>269</td>\n",
       "      <td>no</td>\n",
       "      <td>2</td>\n",
       "      <td>121.0</td>\n",
       "      <td>True</td>\n",
       "      <td>0.2</td>\n",
       "      <td>upsloping</td>\n",
       "      <td>1</td>\n",
       "      <td>normal</td>\n",
       "      <td>absent</td>\n",
       "      <td>NaN</td>\n",
       "      <td>NaN</td>\n",
       "    </tr>\n",
       "    <tr>\n",
       "      <th>...</th>\n",
       "      <td>...</td>\n",
       "      <td>...</td>\n",
       "      <td>...</td>\n",
       "      <td>...</td>\n",
       "      <td>...</td>\n",
       "      <td>...</td>\n",
       "      <td>...</td>\n",
       "      <td>...</td>\n",
       "      <td>...</td>\n",
       "      <td>...</td>\n",
       "      <td>...</td>\n",
       "      <td>...</td>\n",
       "      <td>...</td>\n",
       "      <td>...</td>\n",
       "      <td>...</td>\n",
       "      <td>...</td>\n",
       "    </tr>\n",
       "    <tr>\n",
       "      <th>265</th>\n",
       "      <td>52.0</td>\n",
       "      <td>male</td>\n",
       "      <td>non-anginal pain</td>\n",
       "      <td>172</td>\n",
       "      <td>199</td>\n",
       "      <td>yes</td>\n",
       "      <td>0</td>\n",
       "      <td>162.0</td>\n",
       "      <td>False</td>\n",
       "      <td>0.5</td>\n",
       "      <td>upsloping</td>\n",
       "      <td>0</td>\n",
       "      <td>reversable defect</td>\n",
       "      <td>absent</td>\n",
       "      <td>NaN</td>\n",
       "      <td>NaN</td>\n",
       "    </tr>\n",
       "    <tr>\n",
       "      <th>266</th>\n",
       "      <td>44.0</td>\n",
       "      <td>male</td>\n",
       "      <td>atypical angina</td>\n",
       "      <td>120</td>\n",
       "      <td>263</td>\n",
       "      <td>no</td>\n",
       "      <td>0</td>\n",
       "      <td>173.0</td>\n",
       "      <td>False</td>\n",
       "      <td>0.0</td>\n",
       "      <td>upsloping</td>\n",
       "      <td>0</td>\n",
       "      <td>reversable defect</td>\n",
       "      <td>absent</td>\n",
       "      <td>NaN</td>\n",
       "      <td>NaN</td>\n",
       "    </tr>\n",
       "    <tr>\n",
       "      <th>267</th>\n",
       "      <td>56.0</td>\n",
       "      <td>female</td>\n",
       "      <td>atypical angina</td>\n",
       "      <td>140</td>\n",
       "      <td>294</td>\n",
       "      <td>no</td>\n",
       "      <td>2</td>\n",
       "      <td>153.0</td>\n",
       "      <td>False</td>\n",
       "      <td>1.3</td>\n",
       "      <td>flat</td>\n",
       "      <td>0</td>\n",
       "      <td>normal</td>\n",
       "      <td>absent</td>\n",
       "      <td>NaN</td>\n",
       "      <td>NaN</td>\n",
       "    </tr>\n",
       "    <tr>\n",
       "      <th>268</th>\n",
       "      <td>57.0</td>\n",
       "      <td>male</td>\n",
       "      <td>asymptomatic</td>\n",
       "      <td>140</td>\n",
       "      <td>192</td>\n",
       "      <td>no</td>\n",
       "      <td>0</td>\n",
       "      <td>148.0</td>\n",
       "      <td>False</td>\n",
       "      <td>0.4</td>\n",
       "      <td>flat</td>\n",
       "      <td>0</td>\n",
       "      <td>fixed defect</td>\n",
       "      <td>absent</td>\n",
       "      <td>NaN</td>\n",
       "      <td>NaN</td>\n",
       "    </tr>\n",
       "    <tr>\n",
       "      <th>269</th>\n",
       "      <td>67.0</td>\n",
       "      <td>male</td>\n",
       "      <td>asymptomatic</td>\n",
       "      <td>160</td>\n",
       "      <td>286</td>\n",
       "      <td>no</td>\n",
       "      <td>2</td>\n",
       "      <td>108.0</td>\n",
       "      <td>True</td>\n",
       "      <td>1.5</td>\n",
       "      <td>flat</td>\n",
       "      <td>3</td>\n",
       "      <td>normal</td>\n",
       "      <td>present</td>\n",
       "      <td>NaN</td>\n",
       "      <td>NaN</td>\n",
       "    </tr>\n",
       "  </tbody>\n",
       "</table>\n",
       "<p>270 rows × 16 columns</p>\n",
       "</div>"
      ],
      "text/plain": [
       "      age     sex                cp  trestbps  chol  fbs  restecg  thalach  \\\n",
       "0    70.0    male      asymptomatic       130   322   no        2    109.0   \n",
       "1    67.0  female  non-anginal pain       115   564   no        2    160.0   \n",
       "2    57.0    male   atypical angina       124   261   no        0    141.0   \n",
       "3    64.0    male      asymptomatic       128   263   no        0    105.0   \n",
       "4    74.0  female   atypical angina       120   269   no        2    121.0   \n",
       "..    ...     ...               ...       ...   ...  ...      ...      ...   \n",
       "265  52.0    male  non-anginal pain       172   199  yes        0    162.0   \n",
       "266  44.0    male   atypical angina       120   263   no        0    173.0   \n",
       "267  56.0  female   atypical angina       140   294   no        2    153.0   \n",
       "268  57.0    male      asymptomatic       140   192   no        0    148.0   \n",
       "269  67.0    male      asymptomatic       160   286   no        2    108.0   \n",
       "\n",
       "     exang  oldpeak      slope  ca               thal   status  Unnamed: 14  \\\n",
       "0    False      2.4       flat   3             normal  present          NaN   \n",
       "1    False      1.6       flat   0  reversable defect   absent          NaN   \n",
       "2    False      0.3  upsloping   0  reversable defect  present          NaN   \n",
       "3     True      0.2       flat   1  reversable defect   absent          NaN   \n",
       "4     True      0.2  upsloping   1             normal   absent          NaN   \n",
       "..     ...      ...        ...  ..                ...      ...          ...   \n",
       "265  False      0.5  upsloping   0  reversable defect   absent          NaN   \n",
       "266  False      0.0  upsloping   0  reversable defect   absent          NaN   \n",
       "267  False      1.3       flat   0             normal   absent          NaN   \n",
       "268  False      0.4       flat   0       fixed defect   absent          NaN   \n",
       "269   True      1.5       flat   3             normal  present          NaN   \n",
       "\n",
       "     Unnamed: 15  \n",
       "0            NaN  \n",
       "1            NaN  \n",
       "2            NaN  \n",
       "3            NaN  \n",
       "4            NaN  \n",
       "..           ...  \n",
       "265          NaN  \n",
       "266          NaN  \n",
       "267          NaN  \n",
       "268          NaN  \n",
       "269          NaN  \n",
       "\n",
       "[270 rows x 16 columns]"
      ]
     },
     "execution_count": 22,
     "metadata": {},
     "output_type": "execute_result"
    }
   ],
   "source": [
    "S_data"
   ]
  },
  {
   "cell_type": "code",
   "execution_count": 23,
   "id": "9b0befb6",
   "metadata": {},
   "outputs": [],
   "source": [
    "# Dropping the unnamed columns in the southern datset without values across all rows in the dataset\n",
    "S_data.drop(['Unnamed: 14', 'Unnamed: 15'], axis=1, inplace=True) "
   ]
  },
  {
   "cell_type": "code",
   "execution_count": 24,
   "id": "898b2aae",
   "metadata": {},
   "outputs": [
    {
     "data": {
      "text/html": [
       "<div>\n",
       "<style scoped>\n",
       "    .dataframe tbody tr th:only-of-type {\n",
       "        vertical-align: middle;\n",
       "    }\n",
       "\n",
       "    .dataframe tbody tr th {\n",
       "        vertical-align: top;\n",
       "    }\n",
       "\n",
       "    .dataframe thead th {\n",
       "        text-align: right;\n",
       "    }\n",
       "</style>\n",
       "<table border=\"1\" class=\"dataframe\">\n",
       "  <thead>\n",
       "    <tr style=\"text-align: right;\">\n",
       "      <th></th>\n",
       "      <th>age</th>\n",
       "      <th>sex</th>\n",
       "      <th>cp</th>\n",
       "      <th>trestbps</th>\n",
       "      <th>chol</th>\n",
       "      <th>fbs</th>\n",
       "      <th>restecg</th>\n",
       "      <th>thalach</th>\n",
       "      <th>exang</th>\n",
       "      <th>oldpeak</th>\n",
       "      <th>slope</th>\n",
       "      <th>ca</th>\n",
       "      <th>thal</th>\n",
       "      <th>status</th>\n",
       "    </tr>\n",
       "  </thead>\n",
       "  <tbody>\n",
       "    <tr>\n",
       "      <th>0</th>\n",
       "      <td>70.0</td>\n",
       "      <td>male</td>\n",
       "      <td>asymptomatic</td>\n",
       "      <td>130</td>\n",
       "      <td>322</td>\n",
       "      <td>no</td>\n",
       "      <td>2</td>\n",
       "      <td>109.0</td>\n",
       "      <td>False</td>\n",
       "      <td>2.4</td>\n",
       "      <td>flat</td>\n",
       "      <td>3</td>\n",
       "      <td>normal</td>\n",
       "      <td>present</td>\n",
       "    </tr>\n",
       "    <tr>\n",
       "      <th>1</th>\n",
       "      <td>67.0</td>\n",
       "      <td>female</td>\n",
       "      <td>non-anginal pain</td>\n",
       "      <td>115</td>\n",
       "      <td>564</td>\n",
       "      <td>no</td>\n",
       "      <td>2</td>\n",
       "      <td>160.0</td>\n",
       "      <td>False</td>\n",
       "      <td>1.6</td>\n",
       "      <td>flat</td>\n",
       "      <td>0</td>\n",
       "      <td>reversable defect</td>\n",
       "      <td>absent</td>\n",
       "    </tr>\n",
       "    <tr>\n",
       "      <th>2</th>\n",
       "      <td>57.0</td>\n",
       "      <td>male</td>\n",
       "      <td>atypical angina</td>\n",
       "      <td>124</td>\n",
       "      <td>261</td>\n",
       "      <td>no</td>\n",
       "      <td>0</td>\n",
       "      <td>141.0</td>\n",
       "      <td>False</td>\n",
       "      <td>0.3</td>\n",
       "      <td>upsloping</td>\n",
       "      <td>0</td>\n",
       "      <td>reversable defect</td>\n",
       "      <td>present</td>\n",
       "    </tr>\n",
       "    <tr>\n",
       "      <th>3</th>\n",
       "      <td>64.0</td>\n",
       "      <td>male</td>\n",
       "      <td>asymptomatic</td>\n",
       "      <td>128</td>\n",
       "      <td>263</td>\n",
       "      <td>no</td>\n",
       "      <td>0</td>\n",
       "      <td>105.0</td>\n",
       "      <td>True</td>\n",
       "      <td>0.2</td>\n",
       "      <td>flat</td>\n",
       "      <td>1</td>\n",
       "      <td>reversable defect</td>\n",
       "      <td>absent</td>\n",
       "    </tr>\n",
       "    <tr>\n",
       "      <th>4</th>\n",
       "      <td>74.0</td>\n",
       "      <td>female</td>\n",
       "      <td>atypical angina</td>\n",
       "      <td>120</td>\n",
       "      <td>269</td>\n",
       "      <td>no</td>\n",
       "      <td>2</td>\n",
       "      <td>121.0</td>\n",
       "      <td>True</td>\n",
       "      <td>0.2</td>\n",
       "      <td>upsloping</td>\n",
       "      <td>1</td>\n",
       "      <td>normal</td>\n",
       "      <td>absent</td>\n",
       "    </tr>\n",
       "    <tr>\n",
       "      <th>...</th>\n",
       "      <td>...</td>\n",
       "      <td>...</td>\n",
       "      <td>...</td>\n",
       "      <td>...</td>\n",
       "      <td>...</td>\n",
       "      <td>...</td>\n",
       "      <td>...</td>\n",
       "      <td>...</td>\n",
       "      <td>...</td>\n",
       "      <td>...</td>\n",
       "      <td>...</td>\n",
       "      <td>...</td>\n",
       "      <td>...</td>\n",
       "      <td>...</td>\n",
       "    </tr>\n",
       "    <tr>\n",
       "      <th>265</th>\n",
       "      <td>52.0</td>\n",
       "      <td>male</td>\n",
       "      <td>non-anginal pain</td>\n",
       "      <td>172</td>\n",
       "      <td>199</td>\n",
       "      <td>yes</td>\n",
       "      <td>0</td>\n",
       "      <td>162.0</td>\n",
       "      <td>False</td>\n",
       "      <td>0.5</td>\n",
       "      <td>upsloping</td>\n",
       "      <td>0</td>\n",
       "      <td>reversable defect</td>\n",
       "      <td>absent</td>\n",
       "    </tr>\n",
       "    <tr>\n",
       "      <th>266</th>\n",
       "      <td>44.0</td>\n",
       "      <td>male</td>\n",
       "      <td>atypical angina</td>\n",
       "      <td>120</td>\n",
       "      <td>263</td>\n",
       "      <td>no</td>\n",
       "      <td>0</td>\n",
       "      <td>173.0</td>\n",
       "      <td>False</td>\n",
       "      <td>0.0</td>\n",
       "      <td>upsloping</td>\n",
       "      <td>0</td>\n",
       "      <td>reversable defect</td>\n",
       "      <td>absent</td>\n",
       "    </tr>\n",
       "    <tr>\n",
       "      <th>267</th>\n",
       "      <td>56.0</td>\n",
       "      <td>female</td>\n",
       "      <td>atypical angina</td>\n",
       "      <td>140</td>\n",
       "      <td>294</td>\n",
       "      <td>no</td>\n",
       "      <td>2</td>\n",
       "      <td>153.0</td>\n",
       "      <td>False</td>\n",
       "      <td>1.3</td>\n",
       "      <td>flat</td>\n",
       "      <td>0</td>\n",
       "      <td>normal</td>\n",
       "      <td>absent</td>\n",
       "    </tr>\n",
       "    <tr>\n",
       "      <th>268</th>\n",
       "      <td>57.0</td>\n",
       "      <td>male</td>\n",
       "      <td>asymptomatic</td>\n",
       "      <td>140</td>\n",
       "      <td>192</td>\n",
       "      <td>no</td>\n",
       "      <td>0</td>\n",
       "      <td>148.0</td>\n",
       "      <td>False</td>\n",
       "      <td>0.4</td>\n",
       "      <td>flat</td>\n",
       "      <td>0</td>\n",
       "      <td>fixed defect</td>\n",
       "      <td>absent</td>\n",
       "    </tr>\n",
       "    <tr>\n",
       "      <th>269</th>\n",
       "      <td>67.0</td>\n",
       "      <td>male</td>\n",
       "      <td>asymptomatic</td>\n",
       "      <td>160</td>\n",
       "      <td>286</td>\n",
       "      <td>no</td>\n",
       "      <td>2</td>\n",
       "      <td>108.0</td>\n",
       "      <td>True</td>\n",
       "      <td>1.5</td>\n",
       "      <td>flat</td>\n",
       "      <td>3</td>\n",
       "      <td>normal</td>\n",
       "      <td>present</td>\n",
       "    </tr>\n",
       "  </tbody>\n",
       "</table>\n",
       "<p>270 rows × 14 columns</p>\n",
       "</div>"
      ],
      "text/plain": [
       "      age     sex                cp  trestbps  chol  fbs  restecg  thalach  \\\n",
       "0    70.0    male      asymptomatic       130   322   no        2    109.0   \n",
       "1    67.0  female  non-anginal pain       115   564   no        2    160.0   \n",
       "2    57.0    male   atypical angina       124   261   no        0    141.0   \n",
       "3    64.0    male      asymptomatic       128   263   no        0    105.0   \n",
       "4    74.0  female   atypical angina       120   269   no        2    121.0   \n",
       "..    ...     ...               ...       ...   ...  ...      ...      ...   \n",
       "265  52.0    male  non-anginal pain       172   199  yes        0    162.0   \n",
       "266  44.0    male   atypical angina       120   263   no        0    173.0   \n",
       "267  56.0  female   atypical angina       140   294   no        2    153.0   \n",
       "268  57.0    male      asymptomatic       140   192   no        0    148.0   \n",
       "269  67.0    male      asymptomatic       160   286   no        2    108.0   \n",
       "\n",
       "     exang  oldpeak      slope  ca               thal   status  \n",
       "0    False      2.4       flat   3             normal  present  \n",
       "1    False      1.6       flat   0  reversable defect   absent  \n",
       "2    False      0.3  upsloping   0  reversable defect  present  \n",
       "3     True      0.2       flat   1  reversable defect   absent  \n",
       "4     True      0.2  upsloping   1             normal   absent  \n",
       "..     ...      ...        ...  ..                ...      ...  \n",
       "265  False      0.5  upsloping   0  reversable defect   absent  \n",
       "266  False      0.0  upsloping   0  reversable defect   absent  \n",
       "267  False      1.3       flat   0             normal   absent  \n",
       "268  False      0.4       flat   0       fixed defect   absent  \n",
       "269   True      1.5       flat   3             normal  present  \n",
       "\n",
       "[270 rows x 14 columns]"
      ]
     },
     "execution_count": 24,
     "metadata": {},
     "output_type": "execute_result"
    }
   ],
   "source": [
    "S_data"
   ]
  },
  {
   "cell_type": "markdown",
   "id": "f6b97eeb",
   "metadata": {},
   "source": [
    "### No. 4: Changing the data types of the \"thalach\", \"trestbps\" and \"ca\" columns to the appropriate data types "
   ]
  },
  {
   "cell_type": "code",
   "execution_count": 25,
   "id": "f8660907",
   "metadata": {},
   "outputs": [
    {
     "data": {
      "text/plain": [
       "1"
      ]
     },
     "execution_count": 25,
     "metadata": {},
     "output_type": "execute_result"
    }
   ],
   "source": [
    "# Checking for missing values in the trestbps column in the northern dataset \n",
    "N_data.trestbps.isna().sum()"
   ]
  },
  {
   "cell_type": "code",
   "execution_count": 26,
   "id": "6e0f5be9",
   "metadata": {},
   "outputs": [],
   "source": [
    "N_data.fillna(N_data.mean(), inplace=True) # Imputing the missing value using the mean"
   ]
  },
  {
   "cell_type": "code",
   "execution_count": 27,
   "id": "5858fa8f",
   "metadata": {},
   "outputs": [
    {
     "data": {
      "text/plain": [
       "0"
      ]
     },
     "execution_count": 27,
     "metadata": {},
     "output_type": "execute_result"
    }
   ],
   "source": [
    "# Checking again for missing values in the trestbps column in the northern dataset \n",
    "N_data.trestbps.isna().sum()"
   ]
  },
  {
   "cell_type": "code",
   "execution_count": 28,
   "id": "ba42b5ca",
   "metadata": {},
   "outputs": [],
   "source": [
    "# Changing the data type of the \"trestbps\" column in the northern dataset from float to the supposed intiger data type\n",
    "N_data['trestbps'] = N_data['trestbps'].astype('int64')"
   ]
  },
  {
   "cell_type": "code",
   "execution_count": 29,
   "id": "9dc9481a",
   "metadata": {},
   "outputs": [
    {
     "data": {
      "text/plain": [
       "age         float64\n",
       "sex          object\n",
       "cp           object\n",
       "trestbps      int64\n",
       "chol          int64\n",
       "fbs          object\n",
       "restecg       int64\n",
       "thalach       int64\n",
       "exang        object\n",
       "oldpeak     float64\n",
       "slope        object\n",
       "ca          float64\n",
       "thal         object\n",
       "status       object\n",
       "dtype: object"
      ]
     },
     "execution_count": 29,
     "metadata": {},
     "output_type": "execute_result"
    }
   ],
   "source": [
    "N_data.dtypes "
   ]
  },
  {
   "cell_type": "code",
   "execution_count": 30,
   "id": "81aed83e",
   "metadata": {},
   "outputs": [
    {
     "data": {
      "text/plain": [
       "0"
      ]
     },
     "execution_count": 30,
     "metadata": {},
     "output_type": "execute_result"
    }
   ],
   "source": [
    "# Checking for missing values in the \"\"thalach\"\" column in the southern dataset \n",
    "N_data.thalach.isna().sum()"
   ]
  },
  {
   "cell_type": "code",
   "execution_count": 31,
   "id": "6978cdfa",
   "metadata": {},
   "outputs": [],
   "source": [
    "# Changing the data type of the thalach column in the southern dataset from float to the supposed intiger data type\n",
    "N_data['thalach'] = N_data['thalach'].astype('int64')"
   ]
  },
  {
   "cell_type": "code",
   "execution_count": 32,
   "id": "a7c9b8b5",
   "metadata": {},
   "outputs": [
    {
     "data": {
      "text/plain": [
       "age         float64\n",
       "sex          object\n",
       "cp           object\n",
       "trestbps      int64\n",
       "chol          int64\n",
       "fbs          object\n",
       "restecg       int64\n",
       "thalach       int64\n",
       "exang        object\n",
       "oldpeak     float64\n",
       "slope        object\n",
       "ca          float64\n",
       "thal         object\n",
       "status       object\n",
       "dtype: object"
      ]
     },
     "execution_count": 32,
     "metadata": {},
     "output_type": "execute_result"
    }
   ],
   "source": [
    "N_data.dtypes "
   ]
  },
  {
   "cell_type": "code",
   "execution_count": 33,
   "id": "af997c37",
   "metadata": {},
   "outputs": [
    {
     "data": {
      "text/plain": [
       "0"
      ]
     },
     "execution_count": 33,
     "metadata": {},
     "output_type": "execute_result"
    }
   ],
   "source": [
    "# Checking for missing values in the \"\"ca\"\" column in the northern dataset \n",
    "N_data.ca.isna().sum()"
   ]
  },
  {
   "cell_type": "code",
   "execution_count": 34,
   "id": "41740acb",
   "metadata": {},
   "outputs": [],
   "source": [
    "# Changing the data type of the \"ca\" column in the southern dataset from float to the supposed intiger data type\n",
    "N_data['ca'] = N_data['ca'].astype('int64')"
   ]
  },
  {
   "cell_type": "code",
   "execution_count": 35,
   "id": "0ad80895",
   "metadata": {},
   "outputs": [
    {
     "data": {
      "text/plain": [
       "age         float64\n",
       "sex          object\n",
       "cp           object\n",
       "trestbps      int64\n",
       "chol          int64\n",
       "fbs          object\n",
       "restecg       int64\n",
       "thalach       int64\n",
       "exang        object\n",
       "oldpeak     float64\n",
       "slope        object\n",
       "ca            int64\n",
       "thal         object\n",
       "status       object\n",
       "dtype: object"
      ]
     },
     "execution_count": 35,
     "metadata": {},
     "output_type": "execute_result"
    }
   ],
   "source": [
    "N_data.dtypes "
   ]
  },
  {
   "cell_type": "markdown",
   "id": "23e85d2f",
   "metadata": {},
   "source": [
    "## B. How will these transformations affect the analysis?"
   ]
  },
  {
   "cell_type": "markdown",
   "id": "2356bed8",
   "metadata": {},
   "source": [
    "These transformations can affect the analysis in several ways:\n",
    "\n",
    "1. Consistency in Representation: Standardizing the representation of categorical variables (e.g., 'fbs' and 'exang') across the two datasets ensures consistency in interpretation. It reduces ambiguity and facilitates easier comparison and integration of data from the two datasets.\n",
    "\n",
    "2. Data Type Consistency: Ensuring consistency in data types (e.g., integer for 'trestbps' and 'ca') across the two datasets helps maintain uniformity and compatibility in analyses. It prevents potential errors or inconsistencies that may arise from mismatched data types.\n",
    "\n",
    "3. Analysis Interpretation: The choice of representation and data type can impact the interpretation of analysis results. For example, if 'exang' is represented as 'True' and 'False' in one dataset and 'Yes' and 'No' in another, it may affect the interpretation of any analysis involving this variable if not handled consistently.\n",
    "\n",
    "4. Data Quality and Integrity: Addressing erroneous columns or data type assignments (e.g., unnamed columns, float data type for 'trestbps' and 'ca') improves the overall quality and integrity of the datasets. It reduces the risk of inaccuracies or biases in analysis results caused by data inconsistencies or errors.\n",
    "\n",
    "5. Comparative Analysis: With consistent representation and data types across the two datasets, comparative analysis becomes more robust and reliable. It enables meaningful comparisons between variables or groups across the datasets, leading to more accurate insights and conclusions."
   ]
  },
  {
   "cell_type": "markdown",
   "id": "a1edd1fe",
   "metadata": {},
   "source": [
    "## C. After consolidating the datasets, what steps will be taken to validate the integrity and accuracy of the combined data?"
   ]
  },
  {
   "cell_type": "markdown",
   "id": "b3a02a2c",
   "metadata": {},
   "source": [
    "Here are the key steps that can be taken after consolidation:\n",
    "\n",
    "1. Check for Duplicates: Look for duplicate records in the combined dataset. Duplicate records may arise due to multiple entries for the same observation in one or both of the original datasets. Identify and resolve any duplicates to ensure each observation is unique.\n",
    "\n",
    "2. Check Missing Values: Address any missing values that may have resulted from the merging process. Decide on a strategy for handling missing data, such as imputation or deletion, based on the nature of the data and the analysis requirements.\n",
    "\n",
    "3. Compare Summary Statistics: Compare summary statistics (e.g., means, standard deviations, counts) between the original datasets and the merged dataset. Any significant discrepancies may indicate issues with the merging process or data quality.\n",
    "\n",
    "4. Examine Data Consistency: Validate the consistency of data across variables and between datasets. For numeric variables, check summary statistics (e.g., mean, median, standard deviation) to ensure they align with expectations. For categorical variables, examine frequency tables to ensure categories are consistent and meaningful.\n",
    "\n",
    "5. Visualize Relationships: Create visualizations such as scatter plots, histograms, or box plots to examine relationships between variables in the combined dataset. Visual inspection can help identify outliers, patterns, or unexpected trends that may require further investigation.\n",
    "\n",
    "6. Consult Subject Matter Experts: Seek input from domain experts or stakeholders who are familiar with the data to validate the integrity and accuracy of the combined dataset. Their insights can help identify potential issues or inconsistencies that may have been overlooked."
   ]
  },
  {
   "cell_type": "markdown",
   "id": "6030cae1",
   "metadata": {},
   "source": [
    "### Consolidated dataset "
   ]
  },
  {
   "cell_type": "code",
   "execution_count": 36,
   "id": "9a4a4975",
   "metadata": {},
   "outputs": [],
   "source": [
    "combined_data = pd.concat([N_data, S_data], axis=0)\n"
   ]
  },
  {
   "cell_type": "code",
   "execution_count": 37,
   "id": "27e1834b",
   "metadata": {},
   "outputs": [
    {
     "data": {
      "text/html": [
       "<div>\n",
       "<style scoped>\n",
       "    .dataframe tbody tr th:only-of-type {\n",
       "        vertical-align: middle;\n",
       "    }\n",
       "\n",
       "    .dataframe tbody tr th {\n",
       "        vertical-align: top;\n",
       "    }\n",
       "\n",
       "    .dataframe thead th {\n",
       "        text-align: right;\n",
       "    }\n",
       "</style>\n",
       "<table border=\"1\" class=\"dataframe\">\n",
       "  <thead>\n",
       "    <tr style=\"text-align: right;\">\n",
       "      <th></th>\n",
       "      <th>age</th>\n",
       "      <th>sex</th>\n",
       "      <th>cp</th>\n",
       "      <th>trestbps</th>\n",
       "      <th>chol</th>\n",
       "      <th>fbs</th>\n",
       "      <th>restecg</th>\n",
       "      <th>thalach</th>\n",
       "      <th>exang</th>\n",
       "      <th>oldpeak</th>\n",
       "      <th>slope</th>\n",
       "      <th>ca</th>\n",
       "      <th>thal</th>\n",
       "      <th>status</th>\n",
       "    </tr>\n",
       "  </thead>\n",
       "  <tbody>\n",
       "    <tr>\n",
       "      <th>0</th>\n",
       "      <td>63.0</td>\n",
       "      <td>male</td>\n",
       "      <td>typical angina</td>\n",
       "      <td>145</td>\n",
       "      <td>233</td>\n",
       "      <td>Yes</td>\n",
       "      <td>2</td>\n",
       "      <td>150.0</td>\n",
       "      <td>False</td>\n",
       "      <td>2.3</td>\n",
       "      <td>downsloping</td>\n",
       "      <td>0</td>\n",
       "      <td>fixed defect</td>\n",
       "      <td>absent</td>\n",
       "    </tr>\n",
       "    <tr>\n",
       "      <th>1</th>\n",
       "      <td>67.0</td>\n",
       "      <td>male</td>\n",
       "      <td>asymptomatic</td>\n",
       "      <td>160</td>\n",
       "      <td>286</td>\n",
       "      <td>No</td>\n",
       "      <td>2</td>\n",
       "      <td>108.0</td>\n",
       "      <td>True</td>\n",
       "      <td>1.5</td>\n",
       "      <td>flat</td>\n",
       "      <td>3</td>\n",
       "      <td>normal</td>\n",
       "      <td>present</td>\n",
       "    </tr>\n",
       "    <tr>\n",
       "      <th>2</th>\n",
       "      <td>67.0</td>\n",
       "      <td>male</td>\n",
       "      <td>asymptomatic</td>\n",
       "      <td>120</td>\n",
       "      <td>229</td>\n",
       "      <td>No</td>\n",
       "      <td>2</td>\n",
       "      <td>129.0</td>\n",
       "      <td>True</td>\n",
       "      <td>2.6</td>\n",
       "      <td>flat</td>\n",
       "      <td>2</td>\n",
       "      <td>reversable defect</td>\n",
       "      <td>present</td>\n",
       "    </tr>\n",
       "    <tr>\n",
       "      <th>3</th>\n",
       "      <td>37.0</td>\n",
       "      <td>male</td>\n",
       "      <td>non-anginal pain</td>\n",
       "      <td>130</td>\n",
       "      <td>250</td>\n",
       "      <td>No</td>\n",
       "      <td>0</td>\n",
       "      <td>187.0</td>\n",
       "      <td>False</td>\n",
       "      <td>3.5</td>\n",
       "      <td>downsloping</td>\n",
       "      <td>0</td>\n",
       "      <td>normal</td>\n",
       "      <td>absent</td>\n",
       "    </tr>\n",
       "    <tr>\n",
       "      <th>4</th>\n",
       "      <td>41.0</td>\n",
       "      <td>female</td>\n",
       "      <td>atypical angina</td>\n",
       "      <td>130</td>\n",
       "      <td>204</td>\n",
       "      <td>No</td>\n",
       "      <td>2</td>\n",
       "      <td>172.0</td>\n",
       "      <td>False</td>\n",
       "      <td>1.4</td>\n",
       "      <td>upsloping</td>\n",
       "      <td>0</td>\n",
       "      <td>normal</td>\n",
       "      <td>absent</td>\n",
       "    </tr>\n",
       "    <tr>\n",
       "      <th>...</th>\n",
       "      <td>...</td>\n",
       "      <td>...</td>\n",
       "      <td>...</td>\n",
       "      <td>...</td>\n",
       "      <td>...</td>\n",
       "      <td>...</td>\n",
       "      <td>...</td>\n",
       "      <td>...</td>\n",
       "      <td>...</td>\n",
       "      <td>...</td>\n",
       "      <td>...</td>\n",
       "      <td>...</td>\n",
       "      <td>...</td>\n",
       "      <td>...</td>\n",
       "    </tr>\n",
       "    <tr>\n",
       "      <th>265</th>\n",
       "      <td>52.0</td>\n",
       "      <td>male</td>\n",
       "      <td>non-anginal pain</td>\n",
       "      <td>172</td>\n",
       "      <td>199</td>\n",
       "      <td>yes</td>\n",
       "      <td>0</td>\n",
       "      <td>162.0</td>\n",
       "      <td>False</td>\n",
       "      <td>0.5</td>\n",
       "      <td>upsloping</td>\n",
       "      <td>0</td>\n",
       "      <td>reversable defect</td>\n",
       "      <td>absent</td>\n",
       "    </tr>\n",
       "    <tr>\n",
       "      <th>266</th>\n",
       "      <td>44.0</td>\n",
       "      <td>male</td>\n",
       "      <td>atypical angina</td>\n",
       "      <td>120</td>\n",
       "      <td>263</td>\n",
       "      <td>no</td>\n",
       "      <td>0</td>\n",
       "      <td>173.0</td>\n",
       "      <td>False</td>\n",
       "      <td>0.0</td>\n",
       "      <td>upsloping</td>\n",
       "      <td>0</td>\n",
       "      <td>reversable defect</td>\n",
       "      <td>absent</td>\n",
       "    </tr>\n",
       "    <tr>\n",
       "      <th>267</th>\n",
       "      <td>56.0</td>\n",
       "      <td>female</td>\n",
       "      <td>atypical angina</td>\n",
       "      <td>140</td>\n",
       "      <td>294</td>\n",
       "      <td>no</td>\n",
       "      <td>2</td>\n",
       "      <td>153.0</td>\n",
       "      <td>False</td>\n",
       "      <td>1.3</td>\n",
       "      <td>flat</td>\n",
       "      <td>0</td>\n",
       "      <td>normal</td>\n",
       "      <td>absent</td>\n",
       "    </tr>\n",
       "    <tr>\n",
       "      <th>268</th>\n",
       "      <td>57.0</td>\n",
       "      <td>male</td>\n",
       "      <td>asymptomatic</td>\n",
       "      <td>140</td>\n",
       "      <td>192</td>\n",
       "      <td>no</td>\n",
       "      <td>0</td>\n",
       "      <td>148.0</td>\n",
       "      <td>False</td>\n",
       "      <td>0.4</td>\n",
       "      <td>flat</td>\n",
       "      <td>0</td>\n",
       "      <td>fixed defect</td>\n",
       "      <td>absent</td>\n",
       "    </tr>\n",
       "    <tr>\n",
       "      <th>269</th>\n",
       "      <td>67.0</td>\n",
       "      <td>male</td>\n",
       "      <td>asymptomatic</td>\n",
       "      <td>160</td>\n",
       "      <td>286</td>\n",
       "      <td>no</td>\n",
       "      <td>2</td>\n",
       "      <td>108.0</td>\n",
       "      <td>True</td>\n",
       "      <td>1.5</td>\n",
       "      <td>flat</td>\n",
       "      <td>3</td>\n",
       "      <td>normal</td>\n",
       "      <td>present</td>\n",
       "    </tr>\n",
       "  </tbody>\n",
       "</table>\n",
       "<p>573 rows × 14 columns</p>\n",
       "</div>"
      ],
      "text/plain": [
       "      age     sex                cp  trestbps  chol  fbs  restecg  thalach  \\\n",
       "0    63.0    male    typical angina       145   233  Yes        2    150.0   \n",
       "1    67.0    male      asymptomatic       160   286   No        2    108.0   \n",
       "2    67.0    male      asymptomatic       120   229   No        2    129.0   \n",
       "3    37.0    male  non-anginal pain       130   250   No        0    187.0   \n",
       "4    41.0  female   atypical angina       130   204   No        2    172.0   \n",
       "..    ...     ...               ...       ...   ...  ...      ...      ...   \n",
       "265  52.0    male  non-anginal pain       172   199  yes        0    162.0   \n",
       "266  44.0    male   atypical angina       120   263   no        0    173.0   \n",
       "267  56.0  female   atypical angina       140   294   no        2    153.0   \n",
       "268  57.0    male      asymptomatic       140   192   no        0    148.0   \n",
       "269  67.0    male      asymptomatic       160   286   no        2    108.0   \n",
       "\n",
       "     exang  oldpeak        slope  ca                thal   status  \n",
       "0    False      2.3  downsloping   0        fixed defect   absent  \n",
       "1     True      1.5         flat   3              normal  present  \n",
       "2     True      2.6         flat   2  reversable defect   present  \n",
       "3    False      3.5  downsloping   0              normal   absent  \n",
       "4    False      1.4    upsloping   0              normal   absent  \n",
       "..     ...      ...          ...  ..                 ...      ...  \n",
       "265  False      0.5    upsloping   0   reversable defect   absent  \n",
       "266  False      0.0    upsloping   0   reversable defect   absent  \n",
       "267  False      1.3         flat   0              normal   absent  \n",
       "268  False      0.4         flat   0        fixed defect   absent  \n",
       "269   True      1.5         flat   3              normal  present  \n",
       "\n",
       "[573 rows x 14 columns]"
      ]
     },
     "execution_count": 37,
     "metadata": {},
     "output_type": "execute_result"
    }
   ],
   "source": [
    "combined_data   "
   ]
  },
  {
   "cell_type": "markdown",
   "id": "a819e083",
   "metadata": {},
   "source": [
    "# 2. Data Cleaning"
   ]
  },
  {
   "cell_type": "markdown",
   "id": "fdb940fa",
   "metadata": {},
   "source": [
    "## Understanding the newly merged data"
   ]
  },
  {
   "cell_type": "code",
   "execution_count": 38,
   "id": "5efbc96e",
   "metadata": {},
   "outputs": [
    {
     "data": {
      "text/plain": [
       "8022"
      ]
     },
     "execution_count": 38,
     "metadata": {},
     "output_type": "execute_result"
    }
   ],
   "source": [
    "combined_data.size"
   ]
  },
  {
   "cell_type": "code",
   "execution_count": 39,
   "id": "52a34bec",
   "metadata": {},
   "outputs": [
    {
     "data": {
      "text/plain": [
       "(573, 14)"
      ]
     },
     "execution_count": 39,
     "metadata": {},
     "output_type": "execute_result"
    }
   ],
   "source": [
    "combined_data.shape"
   ]
  },
  {
   "cell_type": "code",
   "execution_count": 40,
   "id": "8701c4a4",
   "metadata": {},
   "outputs": [
    {
     "name": "stdout",
     "output_type": "stream",
     "text": [
      "<class 'pandas.core.frame.DataFrame'>\n",
      "Int64Index: 573 entries, 0 to 269\n",
      "Data columns (total 14 columns):\n",
      " #   Column    Non-Null Count  Dtype  \n",
      "---  ------    --------------  -----  \n",
      " 0   age       571 non-null    float64\n",
      " 1   sex       573 non-null    object \n",
      " 2   cp        573 non-null    object \n",
      " 3   trestbps  573 non-null    int64  \n",
      " 4   chol      573 non-null    int64  \n",
      " 5   fbs       573 non-null    object \n",
      " 6   restecg   573 non-null    int64  \n",
      " 7   thalach   570 non-null    float64\n",
      " 8   exang     573 non-null    object \n",
      " 9   oldpeak   573 non-null    float64\n",
      " 10  slope     573 non-null    object \n",
      " 11  ca        573 non-null    int64  \n",
      " 12  thal      571 non-null    object \n",
      " 13  status    573 non-null    object \n",
      "dtypes: float64(3), int64(4), object(7)\n",
      "memory usage: 67.1+ KB\n"
     ]
    }
   ],
   "source": [
    "combined_data.info() "
   ]
  },
  {
   "cell_type": "markdown",
   "id": "88cb4314",
   "metadata": {},
   "source": [
    "### Checking for duplicated values"
   ]
  },
  {
   "cell_type": "code",
   "execution_count": 41,
   "id": "01976b69",
   "metadata": {},
   "outputs": [
    {
     "data": {
      "text/plain": [
       "0"
      ]
     },
     "execution_count": 41,
     "metadata": {},
     "output_type": "execute_result"
    }
   ],
   "source": [
    "combined_data.duplicated().sum() # Number of duplicated values "
   ]
  },
  {
   "cell_type": "markdown",
   "id": "b367e197",
   "metadata": {},
   "source": [
    "## A. Are there any missing values in the dataset?   If so, how do you propose to handle them?"
   ]
  },
  {
   "cell_type": "markdown",
   "id": "717c620f",
   "metadata": {},
   "source": [
    "### Checking for missing values"
   ]
  },
  {
   "cell_type": "code",
   "execution_count": 42,
   "id": "0bcea111",
   "metadata": {},
   "outputs": [
    {
     "data": {
      "text/plain": [
       "age         2\n",
       "sex         0\n",
       "cp          0\n",
       "trestbps    0\n",
       "chol        0\n",
       "fbs         0\n",
       "restecg     0\n",
       "thalach     3\n",
       "exang       0\n",
       "oldpeak     0\n",
       "slope       0\n",
       "ca          0\n",
       "thal        2\n",
       "status      0\n",
       "dtype: int64"
      ]
     },
     "execution_count": 42,
     "metadata": {},
     "output_type": "execute_result"
    }
   ],
   "source": [
    "combined_data.isna().sum()"
   ]
  },
  {
   "cell_type": "markdown",
   "id": "34989e9d",
   "metadata": {},
   "source": [
    "### Handling the missing values "
   ]
  },
  {
   "cell_type": "markdown",
   "id": "fab60de9",
   "metadata": {},
   "source": [
    "The missing values are very few and does not contain NaN values, hence, I propose to drop them because they are insignificant to negatively impact the prediction result  "
   ]
  },
  {
   "cell_type": "code",
   "execution_count": 43,
   "id": "f5bcee07",
   "metadata": {},
   "outputs": [],
   "source": [
    "\n",
    "# Dropping rows with missing values without NaN:\n",
    "combined_data.dropna(inplace=True)"
   ]
  },
  {
   "cell_type": "code",
   "execution_count": 44,
   "id": "fe0732db",
   "metadata": {},
   "outputs": [
    {
     "data": {
      "text/plain": [
       "age         0\n",
       "sex         0\n",
       "cp          0\n",
       "trestbps    0\n",
       "chol        0\n",
       "fbs         0\n",
       "restecg     0\n",
       "thalach     0\n",
       "exang       0\n",
       "oldpeak     0\n",
       "slope       0\n",
       "ca          0\n",
       "thal        0\n",
       "status      0\n",
       "dtype: int64"
      ]
     },
     "execution_count": 44,
     "metadata": {},
     "output_type": "execute_result"
    }
   ],
   "source": [
    "combined_data.isna().sum()"
   ]
  },
  {
   "cell_type": "code",
   "execution_count": 45,
   "id": "300093bf",
   "metadata": {},
   "outputs": [
    {
     "name": "stdout",
     "output_type": "stream",
     "text": [
      "<class 'pandas.core.frame.DataFrame'>\n",
      "Int64Index: 566 entries, 0 to 269\n",
      "Data columns (total 14 columns):\n",
      " #   Column    Non-Null Count  Dtype  \n",
      "---  ------    --------------  -----  \n",
      " 0   age       566 non-null    float64\n",
      " 1   sex       566 non-null    object \n",
      " 2   cp        566 non-null    object \n",
      " 3   trestbps  566 non-null    int64  \n",
      " 4   chol      566 non-null    int64  \n",
      " 5   fbs       566 non-null    object \n",
      " 6   restecg   566 non-null    int64  \n",
      " 7   thalach   566 non-null    float64\n",
      " 8   exang     566 non-null    object \n",
      " 9   oldpeak   566 non-null    float64\n",
      " 10  slope     566 non-null    object \n",
      " 11  ca        566 non-null    int64  \n",
      " 12  thal      566 non-null    object \n",
      " 13  status    566 non-null    object \n",
      "dtypes: float64(3), int64(4), object(7)\n",
      "memory usage: 66.3+ KB\n"
     ]
    }
   ],
   "source": [
    "combined_data.info()"
   ]
  },
  {
   "cell_type": "code",
   "execution_count": 46,
   "id": "b637d212",
   "metadata": {},
   "outputs": [],
   "source": [
    "# Changing the data type of the 'age' column in the dataset from float to the supposed integer data type\n",
    "combined_data['age'] = combined_data['age'].astype('int64')"
   ]
  },
  {
   "cell_type": "code",
   "execution_count": 47,
   "id": "0c2dcd93",
   "metadata": {},
   "outputs": [
    {
     "name": "stdout",
     "output_type": "stream",
     "text": [
      "<class 'pandas.core.frame.DataFrame'>\n",
      "Int64Index: 566 entries, 0 to 269\n",
      "Data columns (total 14 columns):\n",
      " #   Column    Non-Null Count  Dtype  \n",
      "---  ------    --------------  -----  \n",
      " 0   age       566 non-null    int64  \n",
      " 1   sex       566 non-null    object \n",
      " 2   cp        566 non-null    object \n",
      " 3   trestbps  566 non-null    int64  \n",
      " 4   chol      566 non-null    int64  \n",
      " 5   fbs       566 non-null    object \n",
      " 6   restecg   566 non-null    int64  \n",
      " 7   thalach   566 non-null    float64\n",
      " 8   exang     566 non-null    object \n",
      " 9   oldpeak   566 non-null    float64\n",
      " 10  slope     566 non-null    object \n",
      " 11  ca        566 non-null    int64  \n",
      " 12  thal      566 non-null    object \n",
      " 13  status    566 non-null    object \n",
      "dtypes: float64(2), int64(5), object(7)\n",
      "memory usage: 66.3+ KB\n"
     ]
    }
   ],
   "source": [
    "combined_data.info()"
   ]
  },
  {
   "cell_type": "markdown",
   "id": "1490b8de",
   "metadata": {},
   "source": [
    "## B. How would you deal with any outliers in the dataset? Justify your approach."
   ]
  },
  {
   "cell_type": "markdown",
   "id": "4bbde98d",
   "metadata": {},
   "source": [
    "## Checking for outliers"
   ]
  },
  {
   "cell_type": "code",
   "execution_count": 48,
   "id": "3a838ed3",
   "metadata": {},
   "outputs": [
    {
     "data": {
      "text/plain": [
       "<AxesSubplot:xlabel='age'>"
      ]
     },
     "execution_count": 48,
     "metadata": {},
     "output_type": "execute_result"
    },
    {
     "data": {
      "image/png": "[encoded data removed]",
      "text/plain": [
       "<Figure size 432x288 with 1 Axes>"
      ]
     },
     "metadata": {
      "needs_background": "light"
     },
     "output_type": "display_data"
    }
   ],
   "source": [
    "# Checking for outliers using the Box Plot approach\n",
    "\n",
    "sns.boxplot(combined_data['age'])"
   ]
  },
  {
   "cell_type": "code",
   "execution_count": 49,
   "id": "79c2805a",
   "metadata": {},
   "outputs": [
    {
     "data": {
      "text/plain": [
       "<AxesSubplot:ylabel='Density'>"
      ]
     },
     "execution_count": 49,
     "metadata": {},
     "output_type": "execute_result"
    },
    {
     "data": {
      "image/png": "[encoded data removed]",
      "text/plain": [
       "<Figure size 432x288 with 1 Axes>"
      ]
     },
     "metadata": {
      "needs_background": "light"
     },
     "output_type": "display_data"
    }
   ],
   "source": [
    "combined_data.age.plot(kind = 'density')"
   ]
  },
  {
   "cell_type": "code",
   "execution_count": 50,
   "id": "0a810c50",
   "metadata": {},
   "outputs": [
    {
     "data": {
      "image/png": "[encoded data removed]",
      "text/plain": [
       "<Figure size 1800x1800 with 9 Axes>"
      ]
     },
     "metadata": {
      "needs_background": "light"
     },
     "output_type": "display_data"
    }
   ],
   "source": [
    "# Visual inspection of the distribution of data in all the features\n",
    "\n",
    "combined_data.hist(figsize=(25, 25), xrot=45)\n",
    "plt.show()"
   ]
  },
  {
   "cell_type": "code",
   "execution_count": 51,
   "id": "fae94d7a",
   "metadata": {},
   "outputs": [
    {
     "name": "stdout",
     "output_type": "stream",
     "text": [
      "['age', 'trestbps', 'chol', 'restecg', 'ca', 'thalach', 'oldpeak']\n"
     ]
    }
   ],
   "source": [
    "# Selecting a few number of columns to check outliers using the box plot \n",
    "selected_cols=['age', 'trestbps', 'chol', 'restecg', 'ca', 'thalach', 'oldpeak']\n",
    "print(selected_cols)"
   ]
  },
  {
   "cell_type": "code",
   "execution_count": 52,
   "id": "76c3ff6b",
   "metadata": {},
   "outputs": [
    {
     "data": {
      "image/png": "[encoded data removed]",
      "text/plain": [
       "<Figure size 1080x576 with 1 Axes>"
      ]
     },
     "metadata": {
      "needs_background": "light"
     },
     "output_type": "display_data"
    }
   ],
   "source": [
    "# Box plot for the selected columns   \n",
    "plt.figure(figsize=(15,8))\n",
    "combined_data.boxplot(column=list(selected_cols))\n",
    "plt.show()"
   ]
  },
  {
   "cell_type": "markdown",
   "id": "85250b00",
   "metadata": {},
   "source": [
    "### Checking the Percentage of outliers "
   ]
  },
  {
   "cell_type": "code",
   "execution_count": 53,
   "id": "7fb8396c",
   "metadata": {},
   "outputs": [
    {
     "name": "stdout",
     "output_type": "stream",
     "text": [
      "--------------------------------------------------\n",
      "Column: age\n",
      "Upper Limit = 80.5\n",
      "Lower Limit = 28.5\n",
      "Percentage of Outliers= 0.0\n",
      "----------------------------------------------\n",
      "--------------------------------------------------\n",
      "Column: trestbps\n",
      "Upper Limit = 170.0\n",
      "Lower Limit = 90.0\n",
      "Percentage of Outliers= 3.0035335689045937\n",
      "----------------------------------------------\n",
      "--------------------------------------------------\n",
      "Column: chol\n",
      "Upper Limit = 374.5\n",
      "Lower Limit = 114.5\n",
      "Percentage of Outliers= 1.76678445229682\n",
      "----------------------------------------------\n",
      "--------------------------------------------------\n",
      "Column: restecg\n",
      "Upper Limit = 5.0\n",
      "Lower Limit = -3.0\n",
      "Percentage of Outliers= 0.0\n",
      "----------------------------------------------\n",
      "--------------------------------------------------\n",
      "Column: ca\n",
      "Upper Limit = 2.5\n",
      "Lower Limit = -1.5\n",
      "Percentage of Outliers= 6.713780918727916\n",
      "----------------------------------------------\n",
      "--------------------------------------------------\n",
      "Column: thalach\n",
      "Upper Limit = 214.0\n",
      "Lower Limit = 86.0\n",
      "Percentage of Outliers= 0.35335689045936397\n",
      "----------------------------------------------\n",
      "--------------------------------------------------\n",
      "Column: oldpeak\n",
      "Upper Limit = 4.0\n",
      "Lower Limit = -2.4000000000000004\n",
      "Percentage of Outliers= 1.5901060070671376\n",
      "----------------------------------------------\n"
     ]
    }
   ],
   "source": [
    "def outlier_lims(col):\n",
    "    q3,q1 = np.percentile(col, [75,25])\n",
    "    iqr = q3-q1\n",
    "    upper_lim = q3 + 1.5*iqr\n",
    "    lower_lim = q1 - 1.5*iqr\n",
    "    return upper_lim, lower_lim\n",
    "\n",
    "for col in selected_cols:\n",
    "    print(\"--------------------------------------------------\")\n",
    "    print(\"Column:\", col)\n",
    "    \n",
    "    UL,LL = outlier_lims(combined_data[col])\n",
    "    print(\"Upper Limit =\", UL)\n",
    "    print(\"Lower Limit =\", LL)\n",
    "    \n",
    "    # Total lenght of lower/upper limits for the outliers combined \n",
    "    total_outliers = len(combined_data.loc[combined_data[col]<LL,col]) + len(combined_data.loc[combined_data[col]>UL,col]) \n",
    "    \n",
    "    # Percentage of outliers \n",
    "    percent = (total_outliers / len(combined_data.index) )*100\n",
    "    \n",
    "    print(\"Percentage of Outliers=\", percent)\n",
    "    print(\"----------------------------------------------\")"
   ]
  },
  {
   "cell_type": "markdown",
   "id": "b12494d2",
   "metadata": {},
   "source": [
    "## Checking the skewness "
   ]
  },
  {
   "cell_type": "code",
   "execution_count": 54,
   "id": "b26c0746",
   "metadata": {},
   "outputs": [
    {
     "data": {
      "text/plain": [
       "thalach   -0.546437\n",
       "oldpeak    1.268966\n",
       "dtype: float64"
      ]
     },
     "execution_count": 54,
     "metadata": {},
     "output_type": "execute_result"
    }
   ],
   "source": [
    "# Viewing the skewness level of all the float columns\n",
    "combined_data.select_dtypes(include='float64').skew()  "
   ]
  },
  {
   "cell_type": "code",
   "execution_count": 55,
   "id": "3fc2d0a2",
   "metadata": {},
   "outputs": [
    {
     "data": {
      "text/plain": [
       "age        -0.192119\n",
       "trestbps    0.701396\n",
       "chol        1.148870\n",
       "restecg    -0.003543\n",
       "ca          1.199116\n",
       "dtype: float64"
      ]
     },
     "execution_count": 55,
     "metadata": {},
     "output_type": "execute_result"
    }
   ],
   "source": [
    "# Viewing the skewness level of all the integer columns \n",
    "combined_data.select_dtypes(include='int64').skew() "
   ]
  },
  {
   "cell_type": "markdown",
   "id": "a76ce5ac",
   "metadata": {},
   "source": [
    "### Reducing the outliers and skewness using the logarithmic transformation approach"
   ]
  },
  {
   "cell_type": "code",
   "execution_count": 56,
   "id": "0b571602",
   "metadata": {},
   "outputs": [],
   "source": [
    "# Reducing the skewness using the log transformation approach\n",
    "combined_data[['age', 'trestbps', 'chol', 'restecg', 'ca', 'thalach', 'oldpeak']] = np.log1p(combined_data[['age', 'trestbps', 'chol', 'restecg', 'ca', 'thalach', 'oldpeak']])"
   ]
  },
  {
   "cell_type": "code",
   "execution_count": 57,
   "id": "95dbc6a2",
   "metadata": {},
   "outputs": [
    {
     "data": {
      "text/plain": [
       "Series([], dtype: float64)"
      ]
     },
     "execution_count": 57,
     "metadata": {},
     "output_type": "execute_result"
    }
   ],
   "source": [
    "# Viewing the skewness level of all the integer columns again\n",
    "combined_data.select_dtypes(include='int64').skew()  "
   ]
  },
  {
   "cell_type": "markdown",
   "id": "43f019a5",
   "metadata": {},
   "source": [
    "### Checking the percentage of outliers again after aplying the logarithmic transformation method"
   ]
  },
  {
   "cell_type": "code",
   "execution_count": 58,
   "id": "41078ea2",
   "metadata": {},
   "outputs": [
    {
     "name": "stdout",
     "output_type": "stream",
     "text": [
      "--------------------------------------------------\n",
      "Column: age\n",
      "Upper Limit = 4.480105515446789\n",
      "Lower Limit = 3.5388491677089284\n",
      "Percentage of Outliers= 0.35335689045936397\n",
      "----------------------------------------------\n",
      "--------------------------------------------------\n",
      "Column: trestbps\n",
      "Upper Limit = 5.178213907550309\n",
      "Lower Limit = 4.566336528424601\n",
      "Percentage of Outliers= 3.0035335689045937\n",
      "----------------------------------------------\n",
      "--------------------------------------------------\n",
      "Column: chol\n",
      "Upper Limit = 6.027114535662454\n",
      "Lower Limit = 4.961798743737608\n",
      "Percentage of Outliers= 1.5901060070671376\n",
      "----------------------------------------------\n",
      "--------------------------------------------------\n",
      "Column: restecg\n",
      "Upper Limit = 2.7465307216702746\n",
      "Lower Limit = -1.6479184330021646\n",
      "Percentage of Outliers= 0.0\n",
      "----------------------------------------------\n",
      "--------------------------------------------------\n",
      "Column: ca\n",
      "Upper Limit = 1.732867951399863\n",
      "Lower Limit = -1.0397207708399179\n",
      "Percentage of Outliers= 0.0\n",
      "----------------------------------------------\n",
      "--------------------------------------------------\n",
      "Column: thalach\n",
      "Upper Limit = 5.437072363384244\n",
      "Lower Limit = 4.586196227470941\n",
      "Percentage of Outliers= 2.2968197879858656\n",
      "----------------------------------------------\n",
      "--------------------------------------------------\n",
      "Column: oldpeak\n",
      "Upper Limit = 2.388778612568591\n",
      "Lower Limit = -1.4332671675411546\n",
      "Percentage of Outliers= 0.0\n",
      "----------------------------------------------\n"
     ]
    }
   ],
   "source": [
    "def outlier_lims(col):\n",
    "    q3,q1 = np.percentile(col, [75,25])\n",
    "    iqr = q3-q1\n",
    "    upper_lim = q3 + 1.5*iqr\n",
    "    lower_lim = q1 - 1.5*iqr\n",
    "    return upper_lim, lower_lim\n",
    "\n",
    "for col in selected_cols:\n",
    "    print(\"--------------------------------------------------\")\n",
    "    print(\"Column:\", col)\n",
    "    \n",
    "    UL,LL = outlier_lims(combined_data[col])\n",
    "    print(\"Upper Limit =\", UL)\n",
    "    print(\"Lower Limit =\", LL)\n",
    "    \n",
    "    # Total lenght of lower/upper limits for the outliers combined \n",
    "    total_outliers = len(combined_data.loc[combined_data[col]<LL,col]) + len(combined_data.loc[combined_data[col]>UL,col]) \n",
    "    \n",
    "    # Percentage of outliers \n",
    "    percent = (total_outliers / len(combined_data.index) )*100\n",
    "    \n",
    "    print(\"Percentage of Outliers=\", percent)\n",
    "    print(\"----------------------------------------------\")"
   ]
  },
  {
   "cell_type": "markdown",
   "id": "8990d0e7",
   "metadata": {},
   "source": [
    "### Observe that the outliers has been reduced to insignificant level using the logarithmic transformation method"
   ]
  },
  {
   "cell_type": "markdown",
   "id": "c5305fa3",
   "metadata": {},
   "source": [
    "## Justification: \n",
    "### This method can help in stabilizing the variance and making the data more normally distributed.\n"
   ]
  },
  {
   "cell_type": "markdown",
   "id": "748da16b",
   "metadata": {},
   "source": [
    "# 3. Feature Engineering Phase"
   ]
  },
  {
   "cell_type": "markdown",
   "id": "9ec3b10e",
   "metadata": {},
   "source": [
    "### A. Discuss the potential impact of categorical variables like 'Chest pain type', 'Fasting blood sugar', and 'Thallium stress test' on predicting heart disease."
   ]
  },
  {
   "cell_type": "markdown",
   "id": "f2b808be",
   "metadata": {},
   "source": [
    "Categorical variables such as 'Chest pain type', 'Fasting blood sugar', and 'Thallium stress test' can have the following significant impact on predicting heart disease:\n",
    "\n",
    "1. Chest Pain Type:\n",
    "\n",
    "'Chest pain type' is a critical predictor of heart disease as it is often one of the primary symptoms of cardiovascular problems.\n",
    "Different types of chest pain, such as typical angina, atypical angina, non-anginal pain, or asymptomatic, can indicate varying levels of risk for heart disease.\n",
    "For instance, typical angina, characterized by chest discomfort with exertion that is relieved by rest or nitroglycerin, is strongly associated with coronary artery disease.\n",
    "Including 'Chest pain type' as a predictor variable in predictive models can improve their accuracy in diagnosing heart disease.\n",
    "\n",
    "2. Fasting Blood Sugar:\n",
    "\n",
    "Elevated fasting blood sugar levels, indicating impaired glucose metabolism or diabetes, are associated with an increased risk of heart disease.\n",
    "Diabetes is a well-established risk factor for cardiovascular disease and is associated with a higher incidence of coronary artery disease, stroke, and peripheral vascular disease.\n",
    "'Fasting blood sugar' provides valuable information about the patient's metabolic health and can help identify individuals at higher risk of developing heart disease.\n",
    "Incorporating 'Fasting blood sugar' as a predictor variable in predictive models allows for better risk stratification and personalized management of heart disease risk.\n",
    "\n",
    "3. Thallium Stress Test:\n",
    "\n",
    "The Thallium stress test, also known as myocardial perfusion imaging, is a diagnostic test used to evaluate blood flow to the heart muscle during exercise and at rest.\n",
    "Abnormal results on the Thallium stress test, such as areas of reduced blood flow (ischemia) or scar tissue (infarction), indicate underlying coronary artery disease and an increased risk of heart events.\n",
    "The Thallium stress test provides valuable information about the presence, severity, and extent of coronary artery disease, aiding in the diagnosis and risk stratification of heart disease.\n",
    "Including the results of the Thallium stress test as a predictor variable in predictive models enhances their ability to predict the likelihood of heart disease and guide appropriate management strategies."
   ]
  },
  {
   "cell_type": "markdown",
   "id": "97f3183f",
   "metadata": {},
   "source": [
    "### B. How would you preprocess these features for modelling?"
   ]
  },
  {
   "cell_type": "markdown",
   "id": "45827405",
   "metadata": {},
   "source": [
    "I utilised dummy variables, a widely accepted approach Similar to one-hot encoding. It ensures compatibility with algorithms, preserves information, avoids bias, enhances interpretability, and provides flexibility in handling categorical data. "
   ]
  },
  {
   "cell_type": "markdown",
   "id": "71862475",
   "metadata": {},
   "source": [
    "# 4. Data Visualization"
   ]
  },
  {
   "cell_type": "markdown",
   "id": "d9fc9233",
   "metadata": {},
   "source": [
    "## A. Visualizations to explore the relationship between age, sex, and heart disease status."
   ]
  },
  {
   "cell_type": "code",
   "execution_count": 59,
   "id": "a476207a",
   "metadata": {},
   "outputs": [
    {
     "data": {
      "text/plain": [
       "Index(['age', 'sex', 'cp', 'trestbps', 'chol', 'fbs', 'restecg', 'thalach',\n",
       "       'exang', 'oldpeak', 'slope', 'ca', 'thal', 'status'],\n",
       "      dtype='object')"
      ]
     },
     "execution_count": 59,
     "metadata": {},
     "output_type": "execute_result"
    }
   ],
   "source": [
    "combined_data.columns "
   ]
  },
  {
   "cell_type": "code",
   "execution_count": 60,
   "id": "738cfc0c",
   "metadata": {},
   "outputs": [
    {
     "data": {
      "image/png": "[encoded data removed]",
      "text/plain": [
       "<Figure size 720x432 with 1 Axes>"
      ]
     },
     "metadata": {
      "needs_background": "light"
     },
     "output_type": "display_data"
    },
    {
     "data": {
      "image/png": "[encoded data removed]",
      "text/plain": [
       "<Figure size 720x432 with 1 Axes>"
      ]
     },
     "metadata": {
      "needs_background": "light"
     },
     "output_type": "display_data"
    },
    {
     "data": {
      "image/png": "[encoded data removed]",
      "text/plain": [
       "<Figure size 576x432 with 1 Axes>"
      ]
     },
     "metadata": {
      "needs_background": "light"
     },
     "output_type": "display_data"
    }
   ],
   "source": [
    "# Scatter plot to visualize the relationship between age and heart disease status\n",
    "plt.figure(figsize=(10, 6))\n",
    "sns.scatterplot(x='age', y='status', hue='sex', data=combined_data, palette='coolwarm')\n",
    "plt.title('Relationship between Age, Sex, and Heart Disease Status')\n",
    "plt.xlabel('Age')\n",
    "plt.ylabel('Heart Disease Status')\n",
    "plt.legend(title='Sex', loc='upper right')\n",
    "plt.show()\n",
    "\n",
    "# Box plot to visualize the distribution of age by heart disease status and sex\n",
    "plt.figure(figsize=(10, 6))\n",
    "sns.boxplot(x='status', y='age', hue='sex', data=combined_data, palette='coolwarm')\n",
    "plt.title('Distribution of Age by Heart Disease Status and Sex')\n",
    "plt.xlabel('Heart Disease Status')\n",
    "plt.ylabel('Age')\n",
    "plt.legend(title='Sex', loc='upper right')\n",
    "plt.show()\n",
    "\n",
    "# Bar plot to visualize the proportion of heart disease cases by sex\n",
    "plt.figure(figsize=(8, 6))\n",
    "sns.countplot(x='sex', hue='status', data=combined_data, palette='coolwarm')\n",
    "plt.title('Proportion of Heart Disease Cases by Sex')\n",
    "plt.xlabel('Sex')\n",
    "plt.ylabel('Count')\n",
    "plt.legend(title='Heart Disease', loc='upper right')\n",
    "plt.show()\n"
   ]
  },
  {
   "cell_type": "markdown",
   "id": "72693815",
   "metadata": {},
   "source": [
    "## B. What insights can you derive from these visualizations regarding the risk factors of heart disease?"
   ]
  },
  {
   "cell_type": "markdown",
   "id": "0789a489",
   "metadata": {},
   "source": [
    "From the visualizations exploring the relationship between age, sex, and heart disease status, several insights regarding the risk factors of heart disease can be derived:\n",
    "1. Age, Sex and Heart Disease status:\n",
    "The scatter plot shows a general trend of increasing heart disease prevalence among older individuals.\n",
    "The box plot confirms that heart disease tends to be more prevalent among older individuals, as indicated by higher median ages for individuals with heart disease compared to those without.\n",
    "This suggests that age is a significant risk factor for heart disease, with the risk increasing as individuals grow older.\n",
    "\n",
    "2. Sex and Heart Disease status:\n",
    "The bar plot illustrates the proportion of heart disease cases by sex.\n",
    "It also reveal that there are differences in heart disease prevalence between males and females.\n",
    "This suggests that sex is a risk factor for heart disease, with the male gender being more susceptible than females.\n",
    "\n",
    "3. Interaction between Age, Sex, and Heart Disease:\n",
    "The box plot and scatter plot color-coded by sex provide insights into how the relationship between age and heart disease  differ between males and females.\n",
    "\n",
    "4. Outliers and Variability:\n",
    "By examining the dispersion of data points and the presence of outliers in the visualizations, it indicate the presence of other risk factors beyond age."
   ]
  },
  {
   "cell_type": "markdown",
   "id": "5a1066f1",
   "metadata": {},
   "source": [
    "# Model Development"
   ]
  },
  {
   "cell_type": "markdown",
   "id": "4f690fee",
   "metadata": {},
   "source": [
    "### Encoding the categorical variables  "
   ]
  },
  {
   "cell_type": "code",
   "execution_count": 61,
   "id": "1bb8d120",
   "metadata": {},
   "outputs": [],
   "source": [
    "# Getting dummy variables from the categorical columns \n",
    "categorical_data = pd.get_dummies(combined_data, columns=['sex', 'fbs', 'cp', 'exang', 'slope', 'thal', 'status']) # "
   ]
  },
  {
   "cell_type": "code",
   "execution_count": 62,
   "id": "be2f1a3f",
   "metadata": {},
   "outputs": [
    {
     "data": {
      "text/html": [
       "<div>\n",
       "<style scoped>\n",
       "    .dataframe tbody tr th:only-of-type {\n",
       "        vertical-align: middle;\n",
       "    }\n",
       "\n",
       "    .dataframe tbody tr th {\n",
       "        vertical-align: top;\n",
       "    }\n",
       "\n",
       "    .dataframe thead th {\n",
       "        text-align: right;\n",
       "    }\n",
       "</style>\n",
       "<table border=\"1\" class=\"dataframe\">\n",
       "  <thead>\n",
       "    <tr style=\"text-align: right;\">\n",
       "      <th></th>\n",
       "      <th>age</th>\n",
       "      <th>trestbps</th>\n",
       "      <th>chol</th>\n",
       "      <th>restecg</th>\n",
       "      <th>thalach</th>\n",
       "      <th>oldpeak</th>\n",
       "      <th>ca</th>\n",
       "      <th>sex_female</th>\n",
       "      <th>sex_male</th>\n",
       "      <th>fbs_No</th>\n",
       "      <th>...</th>\n",
       "      <th>exang_True</th>\n",
       "      <th>slope_downsloping</th>\n",
       "      <th>slope_flat</th>\n",
       "      <th>slope_upsloping</th>\n",
       "      <th>thal_fixed defect</th>\n",
       "      <th>thal_normal</th>\n",
       "      <th>thal_reversable defect</th>\n",
       "      <th>thal_reversable defect</th>\n",
       "      <th>status_absent</th>\n",
       "      <th>status_present</th>\n",
       "    </tr>\n",
       "  </thead>\n",
       "  <tbody>\n",
       "    <tr>\n",
       "      <th>0</th>\n",
       "      <td>4.158883</td>\n",
       "      <td>4.983607</td>\n",
       "      <td>5.455321</td>\n",
       "      <td>1.098612</td>\n",
       "      <td>5.017280</td>\n",
       "      <td>1.193922</td>\n",
       "      <td>0.000000</td>\n",
       "      <td>0</td>\n",
       "      <td>1</td>\n",
       "      <td>0</td>\n",
       "      <td>...</td>\n",
       "      <td>0</td>\n",
       "      <td>1</td>\n",
       "      <td>0</td>\n",
       "      <td>0</td>\n",
       "      <td>1</td>\n",
       "      <td>0</td>\n",
       "      <td>0</td>\n",
       "      <td>0</td>\n",
       "      <td>1</td>\n",
       "      <td>0</td>\n",
       "    </tr>\n",
       "    <tr>\n",
       "      <th>1</th>\n",
       "      <td>4.219508</td>\n",
       "      <td>5.081404</td>\n",
       "      <td>5.659482</td>\n",
       "      <td>1.098612</td>\n",
       "      <td>4.691348</td>\n",
       "      <td>0.916291</td>\n",
       "      <td>1.386294</td>\n",
       "      <td>0</td>\n",
       "      <td>1</td>\n",
       "      <td>1</td>\n",
       "      <td>...</td>\n",
       "      <td>1</td>\n",
       "      <td>0</td>\n",
       "      <td>1</td>\n",
       "      <td>0</td>\n",
       "      <td>0</td>\n",
       "      <td>1</td>\n",
       "      <td>0</td>\n",
       "      <td>0</td>\n",
       "      <td>0</td>\n",
       "      <td>1</td>\n",
       "    </tr>\n",
       "    <tr>\n",
       "      <th>2</th>\n",
       "      <td>4.219508</td>\n",
       "      <td>4.795791</td>\n",
       "      <td>5.438079</td>\n",
       "      <td>1.098612</td>\n",
       "      <td>4.867534</td>\n",
       "      <td>1.280934</td>\n",
       "      <td>1.098612</td>\n",
       "      <td>0</td>\n",
       "      <td>1</td>\n",
       "      <td>1</td>\n",
       "      <td>...</td>\n",
       "      <td>1</td>\n",
       "      <td>0</td>\n",
       "      <td>1</td>\n",
       "      <td>0</td>\n",
       "      <td>0</td>\n",
       "      <td>0</td>\n",
       "      <td>0</td>\n",
       "      <td>1</td>\n",
       "      <td>0</td>\n",
       "      <td>1</td>\n",
       "    </tr>\n",
       "    <tr>\n",
       "      <th>3</th>\n",
       "      <td>3.637586</td>\n",
       "      <td>4.875197</td>\n",
       "      <td>5.525453</td>\n",
       "      <td>0.000000</td>\n",
       "      <td>5.236442</td>\n",
       "      <td>1.504077</td>\n",
       "      <td>0.000000</td>\n",
       "      <td>0</td>\n",
       "      <td>1</td>\n",
       "      <td>1</td>\n",
       "      <td>...</td>\n",
       "      <td>0</td>\n",
       "      <td>1</td>\n",
       "      <td>0</td>\n",
       "      <td>0</td>\n",
       "      <td>0</td>\n",
       "      <td>1</td>\n",
       "      <td>0</td>\n",
       "      <td>0</td>\n",
       "      <td>1</td>\n",
       "      <td>0</td>\n",
       "    </tr>\n",
       "    <tr>\n",
       "      <th>4</th>\n",
       "      <td>3.737670</td>\n",
       "      <td>4.875197</td>\n",
       "      <td>5.323010</td>\n",
       "      <td>1.098612</td>\n",
       "      <td>5.153292</td>\n",
       "      <td>0.875469</td>\n",
       "      <td>0.000000</td>\n",
       "      <td>1</td>\n",
       "      <td>0</td>\n",
       "      <td>1</td>\n",
       "      <td>...</td>\n",
       "      <td>0</td>\n",
       "      <td>0</td>\n",
       "      <td>0</td>\n",
       "      <td>1</td>\n",
       "      <td>0</td>\n",
       "      <td>1</td>\n",
       "      <td>0</td>\n",
       "      <td>0</td>\n",
       "      <td>1</td>\n",
       "      <td>0</td>\n",
       "    </tr>\n",
       "    <tr>\n",
       "      <th>...</th>\n",
       "      <td>...</td>\n",
       "      <td>...</td>\n",
       "      <td>...</td>\n",
       "      <td>...</td>\n",
       "      <td>...</td>\n",
       "      <td>...</td>\n",
       "      <td>...</td>\n",
       "      <td>...</td>\n",
       "      <td>...</td>\n",
       "      <td>...</td>\n",
       "      <td>...</td>\n",
       "      <td>...</td>\n",
       "      <td>...</td>\n",
       "      <td>...</td>\n",
       "      <td>...</td>\n",
       "      <td>...</td>\n",
       "      <td>...</td>\n",
       "      <td>...</td>\n",
       "      <td>...</td>\n",
       "      <td>...</td>\n",
       "      <td>...</td>\n",
       "    </tr>\n",
       "    <tr>\n",
       "      <th>265</th>\n",
       "      <td>3.970292</td>\n",
       "      <td>5.153292</td>\n",
       "      <td>5.298317</td>\n",
       "      <td>0.000000</td>\n",
       "      <td>5.093750</td>\n",
       "      <td>0.405465</td>\n",
       "      <td>0.000000</td>\n",
       "      <td>0</td>\n",
       "      <td>1</td>\n",
       "      <td>0</td>\n",
       "      <td>...</td>\n",
       "      <td>0</td>\n",
       "      <td>0</td>\n",
       "      <td>0</td>\n",
       "      <td>1</td>\n",
       "      <td>0</td>\n",
       "      <td>0</td>\n",
       "      <td>1</td>\n",
       "      <td>0</td>\n",
       "      <td>1</td>\n",
       "      <td>0</td>\n",
       "    </tr>\n",
       "    <tr>\n",
       "      <th>266</th>\n",
       "      <td>3.806662</td>\n",
       "      <td>4.795791</td>\n",
       "      <td>5.575949</td>\n",
       "      <td>0.000000</td>\n",
       "      <td>5.159055</td>\n",
       "      <td>0.000000</td>\n",
       "      <td>0.000000</td>\n",
       "      <td>0</td>\n",
       "      <td>1</td>\n",
       "      <td>0</td>\n",
       "      <td>...</td>\n",
       "      <td>0</td>\n",
       "      <td>0</td>\n",
       "      <td>0</td>\n",
       "      <td>1</td>\n",
       "      <td>0</td>\n",
       "      <td>0</td>\n",
       "      <td>1</td>\n",
       "      <td>0</td>\n",
       "      <td>1</td>\n",
       "      <td>0</td>\n",
       "    </tr>\n",
       "    <tr>\n",
       "      <th>267</th>\n",
       "      <td>4.043051</td>\n",
       "      <td>4.948760</td>\n",
       "      <td>5.686975</td>\n",
       "      <td>1.098612</td>\n",
       "      <td>5.036953</td>\n",
       "      <td>0.832909</td>\n",
       "      <td>0.000000</td>\n",
       "      <td>1</td>\n",
       "      <td>0</td>\n",
       "      <td>0</td>\n",
       "      <td>...</td>\n",
       "      <td>0</td>\n",
       "      <td>0</td>\n",
       "      <td>1</td>\n",
       "      <td>0</td>\n",
       "      <td>0</td>\n",
       "      <td>1</td>\n",
       "      <td>0</td>\n",
       "      <td>0</td>\n",
       "      <td>1</td>\n",
       "      <td>0</td>\n",
       "    </tr>\n",
       "    <tr>\n",
       "      <th>268</th>\n",
       "      <td>4.060443</td>\n",
       "      <td>4.948760</td>\n",
       "      <td>5.262690</td>\n",
       "      <td>0.000000</td>\n",
       "      <td>5.003946</td>\n",
       "      <td>0.336472</td>\n",
       "      <td>0.000000</td>\n",
       "      <td>0</td>\n",
       "      <td>1</td>\n",
       "      <td>0</td>\n",
       "      <td>...</td>\n",
       "      <td>0</td>\n",
       "      <td>0</td>\n",
       "      <td>1</td>\n",
       "      <td>0</td>\n",
       "      <td>1</td>\n",
       "      <td>0</td>\n",
       "      <td>0</td>\n",
       "      <td>0</td>\n",
       "      <td>1</td>\n",
       "      <td>0</td>\n",
       "    </tr>\n",
       "    <tr>\n",
       "      <th>269</th>\n",
       "      <td>4.219508</td>\n",
       "      <td>5.081404</td>\n",
       "      <td>5.659482</td>\n",
       "      <td>1.098612</td>\n",
       "      <td>4.691348</td>\n",
       "      <td>0.916291</td>\n",
       "      <td>1.386294</td>\n",
       "      <td>0</td>\n",
       "      <td>1</td>\n",
       "      <td>0</td>\n",
       "      <td>...</td>\n",
       "      <td>0</td>\n",
       "      <td>0</td>\n",
       "      <td>1</td>\n",
       "      <td>0</td>\n",
       "      <td>0</td>\n",
       "      <td>1</td>\n",
       "      <td>0</td>\n",
       "      <td>0</td>\n",
       "      <td>0</td>\n",
       "      <td>1</td>\n",
       "    </tr>\n",
       "  </tbody>\n",
       "</table>\n",
       "<p>566 rows × 30 columns</p>\n",
       "</div>"
      ],
      "text/plain": [
       "          age  trestbps      chol   restecg   thalach   oldpeak        ca  \\\n",
       "0    4.158883  4.983607  5.455321  1.098612  5.017280  1.193922  0.000000   \n",
       "1    4.219508  5.081404  5.659482  1.098612  4.691348  0.916291  1.386294   \n",
       "2    4.219508  4.795791  5.438079  1.098612  4.867534  1.280934  1.098612   \n",
       "3    3.637586  4.875197  5.525453  0.000000  5.236442  1.504077  0.000000   \n",
       "4    3.737670  4.875197  5.323010  1.098612  5.153292  0.875469  0.000000   \n",
       "..        ...       ...       ...       ...       ...       ...       ...   \n",
       "265  3.970292  5.153292  5.298317  0.000000  5.093750  0.405465  0.000000   \n",
       "266  3.806662  4.795791  5.575949  0.000000  5.159055  0.000000  0.000000   \n",
       "267  4.043051  4.948760  5.686975  1.098612  5.036953  0.832909  0.000000   \n",
       "268  4.060443  4.948760  5.262690  0.000000  5.003946  0.336472  0.000000   \n",
       "269  4.219508  5.081404  5.659482  1.098612  4.691348  0.916291  1.386294   \n",
       "\n",
       "     sex_female  sex_male  fbs_No  ...  exang_True  slope_downsloping  \\\n",
       "0             0         1       0  ...           0                  1   \n",
       "1             0         1       1  ...           1                  0   \n",
       "2             0         1       1  ...           1                  0   \n",
       "3             0         1       1  ...           0                  1   \n",
       "4             1         0       1  ...           0                  0   \n",
       "..          ...       ...     ...  ...         ...                ...   \n",
       "265           0         1       0  ...           0                  0   \n",
       "266           0         1       0  ...           0                  0   \n",
       "267           1         0       0  ...           0                  0   \n",
       "268           0         1       0  ...           0                  0   \n",
       "269           0         1       0  ...           0                  0   \n",
       "\n",
       "     slope_flat  slope_upsloping  thal_fixed defect  thal_normal  \\\n",
       "0             0                0                  1            0   \n",
       "1             1                0                  0            1   \n",
       "2             1                0                  0            0   \n",
       "3             0                0                  0            1   \n",
       "4             0                1                  0            1   \n",
       "..          ...              ...                ...          ...   \n",
       "265           0                1                  0            0   \n",
       "266           0                1                  0            0   \n",
       "267           1                0                  0            1   \n",
       "268           1                0                  1            0   \n",
       "269           1                0                  0            1   \n",
       "\n",
       "     thal_reversable defect  thal_reversable defect   status_absent  \\\n",
       "0                         0                        0              1   \n",
       "1                         0                        0              0   \n",
       "2                         0                        1              0   \n",
       "3                         0                        0              1   \n",
       "4                         0                        0              1   \n",
       "..                      ...                      ...            ...   \n",
       "265                       1                        0              1   \n",
       "266                       1                        0              1   \n",
       "267                       0                        0              1   \n",
       "268                       0                        0              1   \n",
       "269                       0                        0              0   \n",
       "\n",
       "     status_present  \n",
       "0                 0  \n",
       "1                 1  \n",
       "2                 1  \n",
       "3                 0  \n",
       "4                 0  \n",
       "..              ...  \n",
       "265               0  \n",
       "266               0  \n",
       "267               0  \n",
       "268               0  \n",
       "269               1  \n",
       "\n",
       "[566 rows x 30 columns]"
      ]
     },
     "execution_count": 62,
     "metadata": {},
     "output_type": "execute_result"
    }
   ],
   "source": [
    "categorical_data"
   ]
  },
  {
   "cell_type": "code",
   "execution_count": 63,
   "id": "8051a057",
   "metadata": {},
   "outputs": [],
   "source": [
    "combined_data2 = categorical_data"
   ]
  },
  {
   "cell_type": "code",
   "execution_count": 64,
   "id": "e153095a",
   "metadata": {},
   "outputs": [
    {
     "data": {
      "text/html": [
       "<div>\n",
       "<style scoped>\n",
       "    .dataframe tbody tr th:only-of-type {\n",
       "        vertical-align: middle;\n",
       "    }\n",
       "\n",
       "    .dataframe tbody tr th {\n",
       "        vertical-align: top;\n",
       "    }\n",
       "\n",
       "    .dataframe thead th {\n",
       "        text-align: right;\n",
       "    }\n",
       "</style>\n",
       "<table border=\"1\" class=\"dataframe\">\n",
       "  <thead>\n",
       "    <tr style=\"text-align: right;\">\n",
       "      <th></th>\n",
       "      <th>age</th>\n",
       "      <th>trestbps</th>\n",
       "      <th>chol</th>\n",
       "      <th>restecg</th>\n",
       "      <th>thalach</th>\n",
       "      <th>oldpeak</th>\n",
       "      <th>ca</th>\n",
       "      <th>sex_female</th>\n",
       "      <th>sex_male</th>\n",
       "      <th>fbs_No</th>\n",
       "      <th>...</th>\n",
       "      <th>exang_True</th>\n",
       "      <th>slope_downsloping</th>\n",
       "      <th>slope_flat</th>\n",
       "      <th>slope_upsloping</th>\n",
       "      <th>thal_fixed defect</th>\n",
       "      <th>thal_normal</th>\n",
       "      <th>thal_reversable defect</th>\n",
       "      <th>thal_reversable defect</th>\n",
       "      <th>status_absent</th>\n",
       "      <th>status_present</th>\n",
       "    </tr>\n",
       "  </thead>\n",
       "  <tbody>\n",
       "    <tr>\n",
       "      <th>0</th>\n",
       "      <td>4.158883</td>\n",
       "      <td>4.983607</td>\n",
       "      <td>5.455321</td>\n",
       "      <td>1.098612</td>\n",
       "      <td>5.017280</td>\n",
       "      <td>1.193922</td>\n",
       "      <td>0.000000</td>\n",
       "      <td>0</td>\n",
       "      <td>1</td>\n",
       "      <td>0</td>\n",
       "      <td>...</td>\n",
       "      <td>0</td>\n",
       "      <td>1</td>\n",
       "      <td>0</td>\n",
       "      <td>0</td>\n",
       "      <td>1</td>\n",
       "      <td>0</td>\n",
       "      <td>0</td>\n",
       "      <td>0</td>\n",
       "      <td>1</td>\n",
       "      <td>0</td>\n",
       "    </tr>\n",
       "    <tr>\n",
       "      <th>1</th>\n",
       "      <td>4.219508</td>\n",
       "      <td>5.081404</td>\n",
       "      <td>5.659482</td>\n",
       "      <td>1.098612</td>\n",
       "      <td>4.691348</td>\n",
       "      <td>0.916291</td>\n",
       "      <td>1.386294</td>\n",
       "      <td>0</td>\n",
       "      <td>1</td>\n",
       "      <td>1</td>\n",
       "      <td>...</td>\n",
       "      <td>1</td>\n",
       "      <td>0</td>\n",
       "      <td>1</td>\n",
       "      <td>0</td>\n",
       "      <td>0</td>\n",
       "      <td>1</td>\n",
       "      <td>0</td>\n",
       "      <td>0</td>\n",
       "      <td>0</td>\n",
       "      <td>1</td>\n",
       "    </tr>\n",
       "    <tr>\n",
       "      <th>2</th>\n",
       "      <td>4.219508</td>\n",
       "      <td>4.795791</td>\n",
       "      <td>5.438079</td>\n",
       "      <td>1.098612</td>\n",
       "      <td>4.867534</td>\n",
       "      <td>1.280934</td>\n",
       "      <td>1.098612</td>\n",
       "      <td>0</td>\n",
       "      <td>1</td>\n",
       "      <td>1</td>\n",
       "      <td>...</td>\n",
       "      <td>1</td>\n",
       "      <td>0</td>\n",
       "      <td>1</td>\n",
       "      <td>0</td>\n",
       "      <td>0</td>\n",
       "      <td>0</td>\n",
       "      <td>0</td>\n",
       "      <td>1</td>\n",
       "      <td>0</td>\n",
       "      <td>1</td>\n",
       "    </tr>\n",
       "    <tr>\n",
       "      <th>3</th>\n",
       "      <td>3.637586</td>\n",
       "      <td>4.875197</td>\n",
       "      <td>5.525453</td>\n",
       "      <td>0.000000</td>\n",
       "      <td>5.236442</td>\n",
       "      <td>1.504077</td>\n",
       "      <td>0.000000</td>\n",
       "      <td>0</td>\n",
       "      <td>1</td>\n",
       "      <td>1</td>\n",
       "      <td>...</td>\n",
       "      <td>0</td>\n",
       "      <td>1</td>\n",
       "      <td>0</td>\n",
       "      <td>0</td>\n",
       "      <td>0</td>\n",
       "      <td>1</td>\n",
       "      <td>0</td>\n",
       "      <td>0</td>\n",
       "      <td>1</td>\n",
       "      <td>0</td>\n",
       "    </tr>\n",
       "    <tr>\n",
       "      <th>4</th>\n",
       "      <td>3.737670</td>\n",
       "      <td>4.875197</td>\n",
       "      <td>5.323010</td>\n",
       "      <td>1.098612</td>\n",
       "      <td>5.153292</td>\n",
       "      <td>0.875469</td>\n",
       "      <td>0.000000</td>\n",
       "      <td>1</td>\n",
       "      <td>0</td>\n",
       "      <td>1</td>\n",
       "      <td>...</td>\n",
       "      <td>0</td>\n",
       "      <td>0</td>\n",
       "      <td>0</td>\n",
       "      <td>1</td>\n",
       "      <td>0</td>\n",
       "      <td>1</td>\n",
       "      <td>0</td>\n",
       "      <td>0</td>\n",
       "      <td>1</td>\n",
       "      <td>0</td>\n",
       "    </tr>\n",
       "    <tr>\n",
       "      <th>...</th>\n",
       "      <td>...</td>\n",
       "      <td>...</td>\n",
       "      <td>...</td>\n",
       "      <td>...</td>\n",
       "      <td>...</td>\n",
       "      <td>...</td>\n",
       "      <td>...</td>\n",
       "      <td>...</td>\n",
       "      <td>...</td>\n",
       "      <td>...</td>\n",
       "      <td>...</td>\n",
       "      <td>...</td>\n",
       "      <td>...</td>\n",
       "      <td>...</td>\n",
       "      <td>...</td>\n",
       "      <td>...</td>\n",
       "      <td>...</td>\n",
       "      <td>...</td>\n",
       "      <td>...</td>\n",
       "      <td>...</td>\n",
       "      <td>...</td>\n",
       "    </tr>\n",
       "    <tr>\n",
       "      <th>265</th>\n",
       "      <td>3.970292</td>\n",
       "      <td>5.153292</td>\n",
       "      <td>5.298317</td>\n",
       "      <td>0.000000</td>\n",
       "      <td>5.093750</td>\n",
       "      <td>0.405465</td>\n",
       "      <td>0.000000</td>\n",
       "      <td>0</td>\n",
       "      <td>1</td>\n",
       "      <td>0</td>\n",
       "      <td>...</td>\n",
       "      <td>0</td>\n",
       "      <td>0</td>\n",
       "      <td>0</td>\n",
       "      <td>1</td>\n",
       "      <td>0</td>\n",
       "      <td>0</td>\n",
       "      <td>1</td>\n",
       "      <td>0</td>\n",
       "      <td>1</td>\n",
       "      <td>0</td>\n",
       "    </tr>\n",
       "    <tr>\n",
       "      <th>266</th>\n",
       "      <td>3.806662</td>\n",
       "      <td>4.795791</td>\n",
       "      <td>5.575949</td>\n",
       "      <td>0.000000</td>\n",
       "      <td>5.159055</td>\n",
       "      <td>0.000000</td>\n",
       "      <td>0.000000</td>\n",
       "      <td>0</td>\n",
       "      <td>1</td>\n",
       "      <td>0</td>\n",
       "      <td>...</td>\n",
       "      <td>0</td>\n",
       "      <td>0</td>\n",
       "      <td>0</td>\n",
       "      <td>1</td>\n",
       "      <td>0</td>\n",
       "      <td>0</td>\n",
       "      <td>1</td>\n",
       "      <td>0</td>\n",
       "      <td>1</td>\n",
       "      <td>0</td>\n",
       "    </tr>\n",
       "    <tr>\n",
       "      <th>267</th>\n",
       "      <td>4.043051</td>\n",
       "      <td>4.948760</td>\n",
       "      <td>5.686975</td>\n",
       "      <td>1.098612</td>\n",
       "      <td>5.036953</td>\n",
       "      <td>0.832909</td>\n",
       "      <td>0.000000</td>\n",
       "      <td>1</td>\n",
       "      <td>0</td>\n",
       "      <td>0</td>\n",
       "      <td>...</td>\n",
       "      <td>0</td>\n",
       "      <td>0</td>\n",
       "      <td>1</td>\n",
       "      <td>0</td>\n",
       "      <td>0</td>\n",
       "      <td>1</td>\n",
       "      <td>0</td>\n",
       "      <td>0</td>\n",
       "      <td>1</td>\n",
       "      <td>0</td>\n",
       "    </tr>\n",
       "    <tr>\n",
       "      <th>268</th>\n",
       "      <td>4.060443</td>\n",
       "      <td>4.948760</td>\n",
       "      <td>5.262690</td>\n",
       "      <td>0.000000</td>\n",
       "      <td>5.003946</td>\n",
       "      <td>0.336472</td>\n",
       "      <td>0.000000</td>\n",
       "      <td>0</td>\n",
       "      <td>1</td>\n",
       "      <td>0</td>\n",
       "      <td>...</td>\n",
       "      <td>0</td>\n",
       "      <td>0</td>\n",
       "      <td>1</td>\n",
       "      <td>0</td>\n",
       "      <td>1</td>\n",
       "      <td>0</td>\n",
       "      <td>0</td>\n",
       "      <td>0</td>\n",
       "      <td>1</td>\n",
       "      <td>0</td>\n",
       "    </tr>\n",
       "    <tr>\n",
       "      <th>269</th>\n",
       "      <td>4.219508</td>\n",
       "      <td>5.081404</td>\n",
       "      <td>5.659482</td>\n",
       "      <td>1.098612</td>\n",
       "      <td>4.691348</td>\n",
       "      <td>0.916291</td>\n",
       "      <td>1.386294</td>\n",
       "      <td>0</td>\n",
       "      <td>1</td>\n",
       "      <td>0</td>\n",
       "      <td>...</td>\n",
       "      <td>0</td>\n",
       "      <td>0</td>\n",
       "      <td>1</td>\n",
       "      <td>0</td>\n",
       "      <td>0</td>\n",
       "      <td>1</td>\n",
       "      <td>0</td>\n",
       "      <td>0</td>\n",
       "      <td>0</td>\n",
       "      <td>1</td>\n",
       "    </tr>\n",
       "  </tbody>\n",
       "</table>\n",
       "<p>566 rows × 30 columns</p>\n",
       "</div>"
      ],
      "text/plain": [
       "          age  trestbps      chol   restecg   thalach   oldpeak        ca  \\\n",
       "0    4.158883  4.983607  5.455321  1.098612  5.017280  1.193922  0.000000   \n",
       "1    4.219508  5.081404  5.659482  1.098612  4.691348  0.916291  1.386294   \n",
       "2    4.219508  4.795791  5.438079  1.098612  4.867534  1.280934  1.098612   \n",
       "3    3.637586  4.875197  5.525453  0.000000  5.236442  1.504077  0.000000   \n",
       "4    3.737670  4.875197  5.323010  1.098612  5.153292  0.875469  0.000000   \n",
       "..        ...       ...       ...       ...       ...       ...       ...   \n",
       "265  3.970292  5.153292  5.298317  0.000000  5.093750  0.405465  0.000000   \n",
       "266  3.806662  4.795791  5.575949  0.000000  5.159055  0.000000  0.000000   \n",
       "267  4.043051  4.948760  5.686975  1.098612  5.036953  0.832909  0.000000   \n",
       "268  4.060443  4.948760  5.262690  0.000000  5.003946  0.336472  0.000000   \n",
       "269  4.219508  5.081404  5.659482  1.098612  4.691348  0.916291  1.386294   \n",
       "\n",
       "     sex_female  sex_male  fbs_No  ...  exang_True  slope_downsloping  \\\n",
       "0             0         1       0  ...           0                  1   \n",
       "1             0         1       1  ...           1                  0   \n",
       "2             0         1       1  ...           1                  0   \n",
       "3             0         1       1  ...           0                  1   \n",
       "4             1         0       1  ...           0                  0   \n",
       "..          ...       ...     ...  ...         ...                ...   \n",
       "265           0         1       0  ...           0                  0   \n",
       "266           0         1       0  ...           0                  0   \n",
       "267           1         0       0  ...           0                  0   \n",
       "268           0         1       0  ...           0                  0   \n",
       "269           0         1       0  ...           0                  0   \n",
       "\n",
       "     slope_flat  slope_upsloping  thal_fixed defect  thal_normal  \\\n",
       "0             0                0                  1            0   \n",
       "1             1                0                  0            1   \n",
       "2             1                0                  0            0   \n",
       "3             0                0                  0            1   \n",
       "4             0                1                  0            1   \n",
       "..          ...              ...                ...          ...   \n",
       "265           0                1                  0            0   \n",
       "266           0                1                  0            0   \n",
       "267           1                0                  0            1   \n",
       "268           1                0                  1            0   \n",
       "269           1                0                  0            1   \n",
       "\n",
       "     thal_reversable defect  thal_reversable defect   status_absent  \\\n",
       "0                         0                        0              1   \n",
       "1                         0                        0              0   \n",
       "2                         0                        1              0   \n",
       "3                         0                        0              1   \n",
       "4                         0                        0              1   \n",
       "..                      ...                      ...            ...   \n",
       "265                       1                        0              1   \n",
       "266                       1                        0              1   \n",
       "267                       0                        0              1   \n",
       "268                       0                        0              1   \n",
       "269                       0                        0              0   \n",
       "\n",
       "     status_present  \n",
       "0                 0  \n",
       "1                 1  \n",
       "2                 1  \n",
       "3                 0  \n",
       "4                 0  \n",
       "..              ...  \n",
       "265               0  \n",
       "266               0  \n",
       "267               0  \n",
       "268               0  \n",
       "269               1  \n",
       "\n",
       "[566 rows x 30 columns]"
      ]
     },
     "execution_count": 64,
     "metadata": {},
     "output_type": "execute_result"
    }
   ],
   "source": [
    "combined_data2"
   ]
  },
  {
   "cell_type": "code",
   "execution_count": 65,
   "id": "fd1279fa",
   "metadata": {},
   "outputs": [
    {
     "data": {
      "text/plain": [
       "age                        0\n",
       "trestbps                   0\n",
       "chol                       0\n",
       "restecg                    0\n",
       "thalach                    0\n",
       "oldpeak                    0\n",
       "ca                         0\n",
       "sex_female                 0\n",
       "sex_male                   0\n",
       "fbs_No                     0\n",
       "fbs_Yes                    0\n",
       "fbs_no                     0\n",
       "fbs_yes                    0\n",
       "cp_asymptomatic            0\n",
       "cp_atypical angina         0\n",
       "cp_non-anginal pain        0\n",
       "cp_typical angina          0\n",
       "exang_False                0\n",
       "exang_True                 0\n",
       "exang_False                0\n",
       "exang_True                 0\n",
       "slope_downsloping          0\n",
       "slope_flat                 0\n",
       "slope_upsloping            0\n",
       "thal_fixed defect          0\n",
       "thal_normal                0\n",
       "thal_reversable defect     0\n",
       "thal_reversable defect     0\n",
       "status_absent              0\n",
       "status_present             0\n",
       "dtype: int64"
      ]
     },
     "execution_count": 65,
     "metadata": {},
     "output_type": "execute_result"
    }
   ],
   "source": [
    "combined_data2.isna().sum()"
   ]
  },
  {
   "cell_type": "markdown",
   "id": "81710740",
   "metadata": {},
   "source": [
    "# 5. Choosing Algorithms"
   ]
  },
  {
   "cell_type": "markdown",
   "id": "979653ee",
   "metadata": {},
   "source": [
    "## Based on the dataset, which machine learning algorithms would you consider for predicting heart disease status and why?"
   ]
  },
  {
   "cell_type": "markdown",
   "id": "40a3a038",
   "metadata": {},
   "source": [
    "Based on the dataset nature such as the number of samples, features, and the nature of the problem (which is classification). Here are some machine learning algorithms suitable for predicting the heart disease status:\n",
    "\n",
    "1. Logistic Regression:\n",
    "Logistic regression is a straightforward algorithm commonly used for binary classification tasks, making it suitable for predicting heart disease status (presence or absence). It is interpretable, computationally efficient, and can handle both linear and nonlinear relationships between features and the target variable.\n",
    "\n",
    "2. Decision Trees:\n",
    "Decision trees are versatile algorithms capable of handling both classification and regression tasks.\n",
    "They are intuitive and easy to interpret, making them suitable for understanding the decision-making process in predicting heart disease status. Decision trees can capture complex interactions between features, which may be important for identifying risk factors for heart disease.\n",
    "\n",
    "3. Random Forest:\n",
    "Random Forest is an ensemble learning method that combines multiple decision trees to improve performance and robustness.\n",
    "It is effective for handling high-dimensional datasets with complex relationships between features and the target variable.\n",
    "Random Forest can provide feature importance scores, helping identify the most relevant predictors of heart disease status.\n",
    "\n",
    "4. Support Vector Machines (SVM):\n",
    "SVM is a powerful algorithm for classification tasks, particularly when dealing with high-dimensional data or datasets with complex decision boundaries. It works well for both linear and nonlinear classification problems by mapping input features into a higher-dimensional space. SVM can handle datasets with relatively small sample sizes and is less prone to overfitting.\n",
    "\n",
    "5. Extreme Gradient Boosting (XGBoost):\n",
    "XGBoost is an ensemble learning technique that builds multiple weak learners sequentially, each correcting the errors of its predecessor. It is highly effective for classification tasks and is known for producing state-of-the-art results in various domains. XGBoost can handle complex relationships and interactions between features, making it suitable for predicting heart disease status."
   ]
  },
  {
   "cell_type": "markdown",
   "id": "b1d1c132",
   "metadata": {},
   "source": [
    "# 6. Feature Selection"
   ]
  },
  {
   "cell_type": "markdown",
   "id": "53f07252",
   "metadata": {},
   "source": [
    "### With 13 features available, how would you select the most important features for predicting heart disease?"
   ]
  },
  {
   "cell_type": "markdown",
   "id": "38cdc792",
   "metadata": {},
   "source": [
    "### Description the technique used"
   ]
  },
  {
   "cell_type": "markdown",
   "id": "6e90da5c",
   "metadata": {},
   "source": [
    "Recursive Feature Elimination (RFE): \n",
    "This method trains a machine learning model using Logistic Regression on the dataset. It uses RFE to recursively remove the least important features and evaluate the model's performance after each removal. Then, select the subset of features that yield the best performance."
   ]
  },
  {
   "cell_type": "code",
   "execution_count": 66,
   "id": "564f7930",
   "metadata": {},
   "outputs": [
    {
     "name": "stdout",
     "output_type": "stream",
     "text": [
      "Num Features: 27\n",
      "Selected Features: [ True  True  True  True  True  True  True  True  True  True  True  True\n",
      "  True  True  True  True  True  True  True  True  True  True  True  True\n",
      "  True  True  True]\n",
      "Feature Ranking: [1 1 1 1 1 1 1 1 1 1 1 1 1 1 1 1 1 1 1 1 1 1 1 1 1 1 1]\n"
     ]
    }
   ],
   "source": [
    "# Selecting features \n",
    "from pandas import read_csv\n",
    "from sklearn.feature_selection import RFE\n",
    "from sklearn.ensemble import RandomForestClassifier  # Random forest seems to be faster than logistic regression \n",
    "\n",
    "# loading data from half of the entire preprocessed newDF dataframe\n",
    "target = combined_data2.iloc[:, -3].values \n",
    "features = combined_data2.iloc[:, :-3].values\n",
    "\n",
    "# X = dataset.iloc[:, :-1].values\n",
    "# y = dataset.iloc[:, -1].values\n",
    "\n",
    "\n",
    "# feature extraction\n",
    "model = RandomForestClassifier()\n",
    "rfe = RFE(model, n_features_to_select = 65) # 65 is very close to half of the 131 features of the preprocessed data\n",
    "fit = rfe.fit(features, target)\n",
    "print(\"Num Features: %d\" % fit.n_features_)\n",
    "print(\"Selected Features: %s\" % fit.support_)\n",
    "print(\"Feature Ranking: %s\" % fit.ranking_)"
   ]
  },
  {
   "cell_type": "markdown",
   "id": "f80374df",
   "metadata": {},
   "source": [
    "### The feature ranking above shows that all the feturers are good for the model building "
   ]
  },
  {
   "cell_type": "markdown",
   "id": "2c596988",
   "metadata": {},
   "source": [
    "## **Initializing empty lists to append all model's name and corresponding name**"
   ]
  },
  {
   "cell_type": "code",
   "execution_count": 67,
   "id": "6e15ebc4",
   "metadata": {},
   "outputs": [],
   "source": [
    "Acc_Train_Data = []\n",
    "model = []\n",
    "\n",
    "Acc_Test_Data = []\n",
    "f1scores = []"
   ]
  },
  {
   "cell_type": "markdown",
   "id": "94333b3c",
   "metadata": {},
   "source": [
    "# **Splitting into train and test data**\n"
   ]
  },
  {
   "cell_type": "code",
   "execution_count": 68,
   "id": "c60de4f1",
   "metadata": {},
   "outputs": [
    {
     "name": "stdout",
     "output_type": "stream",
     "text": [
      "Train Data: (396, 27), (396,)\n",
      "Test Data: (170, 27), (170,)\n"
     ]
    }
   ],
   "source": [
    "from sklearn.model_selection import train_test_split\n",
    "Xtrain, Xtest, Ytrain, Ytest = train_test_split(features, target, test_size = 0.3, random_state =42)\n",
    "\n",
    "print(f\"Train Data: {Xtrain.shape}, {Ytrain.shape}\")\n",
    "print(f\"Test Data: {Xtest.shape}, {Ytest.shape}\")"
   ]
  },
  {
   "cell_type": "markdown",
   "id": "771bac2e",
   "metadata": {},
   "source": [
    "# Model Training and Evaluation"
   ]
  },
  {
   "cell_type": "markdown",
   "id": "5269781a",
   "metadata": {},
   "source": [
    "# **Logistic Regression**"
   ]
  },
  {
   "cell_type": "code",
   "execution_count": 69,
   "id": "03b5c37c",
   "metadata": {},
   "outputs": [
    {
     "name": "stdout",
     "output_type": "stream",
     "text": [
      "LR Accuracy =:  100.0\n",
      "              precision    recall  f1-score   support\n",
      "\n",
      "           0       1.00      1.00      1.00       134\n",
      "           1       1.00      1.00      1.00        36\n",
      "\n",
      "    accuracy                           1.00       170\n",
      "   macro avg       1.00      1.00      1.00       170\n",
      "weighted avg       1.00      1.00      1.00       170\n",
      "\n"
     ]
    },
    {
     "data": {
      "image/png": "[encoded data removed]",
      "text/plain": [
       "<Figure size 576x360 with 2 Axes>"
      ]
     },
     "metadata": {
      "needs_background": "light"
     },
     "output_type": "display_data"
    }
   ],
   "source": [
    "from sklearn.linear_model import LogisticRegression\n",
    "\n",
    "LogReg = LogisticRegression(random_state=42)\n",
    "\n",
    "LogReg.fit(Xtrain, Ytrain)\n",
    "\n",
    "# Logistic Regression Accuray \n",
    "model_prediction = LogReg.predict(Xtest)\n",
    "Accuracy = metrics.accuracy_score(Ytest, model_prediction)\n",
    "Acc_Test_Data.append(Accuracy)\n",
    "model.append('Logistic Regression')\n",
    "\n",
    "print(\"LR Accuracy =: \", Accuracy*100)\n",
    "print(classification_report(Ytest, model_prediction))\n",
    "\n",
    "# Logistic Regression Confusion matrix\n",
    "plt.figure(figsize = (8, 5))\n",
    "sns.heatmap(confusion_matrix(Ytest, model_prediction), annot = True)\n",
    "plt.title(\"Logistic Regression Confusion Matrix \")\n",
    "plt.xlabel('Predicted Class', fontsize = 15)\n",
    "plt.ylabel('Actual Class', fontsize = 15)\n",
    "plt.show()"
   ]
  },
  {
   "cell_type": "markdown",
   "id": "de6b4b32",
   "metadata": {},
   "source": [
    "## Cross validation score (Logistic Regression)"
   ]
  },
  {
   "cell_type": "code",
   "execution_count": 70,
   "id": "1d4340dc",
   "metadata": {},
   "outputs": [
    {
     "data": {
      "text/plain": [
       "array([1.        , 0.95575221, 1.        , 1.        , 1.        ])"
      ]
     },
     "execution_count": 70,
     "metadata": {},
     "output_type": "execute_result"
    }
   ],
   "source": [
    "score = cross_val_score(LogReg, features, target,cv=5)\n",
    "\n",
    "score"
   ]
  },
  {
   "cell_type": "code",
   "execution_count": 71,
   "id": "68c6bff2",
   "metadata": {},
   "outputs": [
    {
     "name": "stdout",
     "output_type": "stream",
     "text": [
      "Training accuracy =  1.0\n",
      "Testing accuracy =  1.0\n"
     ]
    }
   ],
   "source": [
    "#Print Train Accuracy\n",
    "LR_train_accuracy = LogReg.score(Xtrain, Ytrain)\n",
    "print(\"Training accuracy = \", LogReg.score(Xtrain, Ytrain))\n",
    "\n",
    "\n",
    "#Print Test Accuracy\n",
    "LR_test_accuracy = LogReg.score(Xtest, Ytest)\n",
    "print(\"Testing accuracy = \", LogReg.score(Xtest, Ytest))"
   ]
  },
  {
   "cell_type": "markdown",
   "id": "a4a0fa52",
   "metadata": {},
   "source": [
    "# **Saving trained Logistic Regression model**"
   ]
  },
  {
   "cell_type": "code",
   "execution_count": 72,
   "id": "26b745cb",
   "metadata": {},
   "outputs": [],
   "source": [
    "import pickle\n",
    "\n",
    "LR_pkl_filename = 'LogisticRegression.pkl'\n",
    "# Open the file to save as pkl file\n",
    "LR_Model_pkl = open(LR_pkl_filename, 'wb')\n",
    "pickle.dump(LogReg, LR_Model_pkl)\n",
    "# Close the pickle instances\n",
    "LR_Model_pkl.close()"
   ]
  },
  {
   "cell_type": "markdown",
   "id": "bfb95e0f",
   "metadata": {},
   "source": [
    "# **Decision Tree Algorithm**"
   ]
  },
  {
   "cell_type": "code",
   "execution_count": 73,
   "id": "bb7ff87a",
   "metadata": {},
   "outputs": [
    {
     "name": "stdout",
     "output_type": "stream",
     "text": [
      "\n",
      "DT Accuracy =:  100.0\n",
      "              precision    recall  f1-score   support\n",
      "\n",
      "           0       1.00      1.00      1.00       134\n",
      "           1       1.00      1.00      1.00        36\n",
      "\n",
      "    accuracy                           1.00       170\n",
      "   macro avg       1.00      1.00      1.00       170\n",
      "weighted avg       1.00      1.00      1.00       170\n",
      "\n"
     ]
    },
    {
     "data": {
      "image/png": "[encoded data removed]",
      "text/plain": [
       "<Figure size 576x360 with 2 Axes>"
      ]
     },
     "metadata": {
      "needs_background": "light"
     },
     "output_type": "display_data"
    }
   ],
   "source": [
    "from sklearn.tree import DecisionTreeClassifier\n",
    "\n",
    "DTree = DecisionTreeClassifier()\n",
    "\n",
    "DTree.fit(Xtrain, Ytrain)\n",
    "\n",
    "\n",
    "# Decision Tree Accuray \n",
    "model_prediction = DTree.predict(Xtest)\n",
    "Accuracy = metrics.accuracy_score(Ytest, model_prediction)\n",
    "Acc_Test_Data.append(Accuracy)\n",
    "model.append('Decision Tree')\n",
    "\n",
    "print()\n",
    "\n",
    "print(\"DT Accuracy =: \", Accuracy*100)\n",
    "print(classification_report(Ytest, model_prediction))\n",
    "\n",
    "# Decision Tree Confusion matrix \n",
    "\n",
    "plt.figure(figsize = (8, 5))\n",
    "sns.heatmap(confusion_matrix(Ytest, model_prediction), annot = True)\n",
    "\n",
    "plt.title(\"Decision Tree Confusion Matrix \")\n",
    "\n",
    "\n",
    "\n",
    "plt.xlabel('Predicted Class', fontsize = 15)\n",
    "plt.ylabel('Actual Class', fontsize = 15)\n",
    "plt.show()"
   ]
  },
  {
   "cell_type": "markdown",
   "id": "84e3b86c",
   "metadata": {},
   "source": [
    "## Cross validation score (Decision Tree)\n"
   ]
  },
  {
   "cell_type": "code",
   "execution_count": 74,
   "id": "016d8cd9",
   "metadata": {},
   "outputs": [
    {
     "data": {
      "text/plain": [
       "array([1., 1., 1., 1., 1.])"
      ]
     },
     "execution_count": 74,
     "metadata": {},
     "output_type": "execute_result"
    }
   ],
   "source": [
    "score = cross_val_score(DTree, features, target, cv=5)\n",
    "\n",
    "score"
   ]
  },
  {
   "cell_type": "code",
   "execution_count": 75,
   "id": "5c27cdab",
   "metadata": {},
   "outputs": [
    {
     "name": "stdout",
     "output_type": "stream",
     "text": [
      "Training accuracy =  1.0\n",
      "Testing accuracy =  1.0\n"
     ]
    }
   ],
   "source": [
    "#Print Train Accuracy\n",
    "DT_train_accuracy = DTree.score(Xtrain, Ytrain)\n",
    "print(\"Training accuracy = \", DTree.score(Xtrain, Ytrain))\n",
    "\n",
    "\n",
    "#Print Test Accuracy\n",
    "DT_test_accuracy = DTree.score(Xtest, Ytest)\n",
    "print(\"Testing accuracy = \",DTree.score(Xtest, Ytest))"
   ]
  },
  {
   "cell_type": "markdown",
   "id": "39861702",
   "metadata": {},
   "source": [
    "# **Saving The Trained Decision Tree Algorithm**"
   ]
  },
  {
   "cell_type": "code",
   "execution_count": 76,
   "id": "24db3960",
   "metadata": {},
   "outputs": [],
   "source": [
    "import pickle\n",
    "# Dump the trained Naive Bayes classifier with Pickle\n",
    "DT_pkl_filename = 'DecisionTree.pkl'\n",
    "# Open the file to save as pkl file\n",
    "DT_Model_pkl = open(DT_pkl_filename, 'wb')\n",
    "pickle.dump(DTree, DT_Model_pkl)\n",
    "# Close the pickle instances\n",
    "DT_Model_pkl.close()"
   ]
  },
  {
   "cell_type": "markdown",
   "id": "521d71a7",
   "metadata": {},
   "source": [
    "# **Random Forest**"
   ]
  },
  {
   "cell_type": "code",
   "execution_count": 77,
   "id": "9e4f082a",
   "metadata": {},
   "outputs": [
    {
     "name": "stdout",
     "output_type": "stream",
     "text": [
      "RF Accuracy =:  100.0\n",
      "              precision    recall  f1-score   support\n",
      "\n",
      "           0       1.00      1.00      1.00       134\n",
      "           1       1.00      1.00      1.00        36\n",
      "\n",
      "    accuracy                           1.00       170\n",
      "   macro avg       1.00      1.00      1.00       170\n",
      "weighted avg       1.00      1.00      1.00       170\n",
      "\n"
     ]
    },
    {
     "data": {
      "image/png": "[encoded data removed]",
      "text/plain": [
       "<Figure size 576x360 with 2 Axes>"
      ]
     },
     "metadata": {
      "needs_background": "light"
     },
     "output_type": "display_data"
    }
   ],
   "source": [
    "from sklearn.ensemble import RandomForestClassifier\n",
    "\n",
    "RF = RandomForestClassifier(n_estimators=20, random_state=42)\n",
    "RF.fit(Xtrain, Ytrain)\n",
    "\n",
    "# Random Forest  Accuray \n",
    "model_prediction = RF.predict(Xtest)\n",
    "Accuracy = metrics.accuracy_score(Ytest, model_prediction)\n",
    "Acc_Test_Data.append(Accuracy)\n",
    "model.append('Random Forest')\n",
    "\n",
    "print(\"RF Accuracy =: \", Accuracy*100)\n",
    "print(classification_report(Ytest, model_prediction))\n",
    "\n",
    "# Random Forest Confusion matrix\n",
    "plt.figure(figsize = (8, 5))\n",
    "sns.heatmap(confusion_matrix(Ytest, model_prediction), annot = True)\n",
    "plt.title(\"Random Forest Confusion Matrix \")\n",
    "plt.xlabel('Predicted Class', fontsize = 15)\n",
    "plt.ylabel('Actual Class', fontsize = 15)\n",
    "plt.show()"
   ]
  },
  {
   "cell_type": "markdown",
   "id": "836d8c26",
   "metadata": {},
   "source": [
    "## Cross validation score (Random Forest)\n"
   ]
  },
  {
   "cell_type": "code",
   "execution_count": 78,
   "id": "f596fc61",
   "metadata": {},
   "outputs": [
    {
     "data": {
      "text/plain": [
       "array([1.        , 0.96460177, 1.        , 1.        , 1.        ])"
      ]
     },
     "execution_count": 78,
     "metadata": {},
     "output_type": "execute_result"
    }
   ],
   "source": [
    "score = cross_val_score(RF, features, target,cv=5)\n",
    "\n",
    "score"
   ]
  },
  {
   "cell_type": "code",
   "execution_count": 79,
   "id": "f85f610d",
   "metadata": {},
   "outputs": [
    {
     "name": "stdout",
     "output_type": "stream",
     "text": [
      "Training accuracy =  1.0\n",
      "Testing accuracy =  1.0\n"
     ]
    }
   ],
   "source": [
    "#Print Train Accuracy\n",
    "RF_train_accuracy = RF.score(Xtrain, Ytrain)\n",
    "print(\"Training accuracy = \",RF.score(Xtrain, Ytrain))\n",
    "\n",
    "\n",
    "#Print Test Accuracy\n",
    "RF_test_accuracy = RF.score(Xtest, Ytest)\n",
    "print(\"Testing accuracy = \",RF.score(Xtest, Ytest))"
   ]
  },
  {
   "cell_type": "markdown",
   "id": "59f9c9e9",
   "metadata": {},
   "source": [
    "# **Saving trained Random Forest model**\n"
   ]
  },
  {
   "cell_type": "code",
   "execution_count": 80,
   "id": "a8d0e660",
   "metadata": {},
   "outputs": [],
   "source": [
    "import pickle\n",
    "\n",
    "RF_pkl_filename = 'RandomForest.pkl'\n",
    "# Open the file to save as pkl file\n",
    "RF_Model_pkl = open(RF_pkl_filename, 'wb')\n",
    "pickle.dump(RF, RF_Model_pkl)\n",
    "# Close the pickle instances\n",
    "RF_Model_pkl.close()"
   ]
  },
  {
   "cell_type": "markdown",
   "id": "4b7e2ed1",
   "metadata": {},
   "source": [
    "# Support Vector Machine"
   ]
  },
  {
   "cell_type": "code",
   "execution_count": 81,
   "id": "c6cc1794",
   "metadata": {},
   "outputs": [
    {
     "name": "stdout",
     "output_type": "stream",
     "text": [
      "SVM Accuracy =  100.0\n",
      "              precision    recall  f1-score   support\n",
      "\n",
      "           0       1.00      1.00      1.00       134\n",
      "           1       1.00      1.00      1.00        36\n",
      "\n",
      "    accuracy                           1.00       170\n",
      "   macro avg       1.00      1.00      1.00       170\n",
      "weighted avg       1.00      1.00      1.00       170\n",
      "\n"
     ]
    },
    {
     "data": {
      "image/png": "[encoded data removed]",
      "text/plain": [
       "<Figure size 576x360 with 2 Axes>"
      ]
     },
     "metadata": {
      "needs_background": "light"
     },
     "output_type": "display_data"
    }
   ],
   "source": [
    "from sklearn.svm import SVC\n",
    "\n",
    "# Initialize the Support Vector Machine Classifier model\n",
    "SVM = SVC(kernel='linear', random_state=42)  # You can choose different kernels (e.g., 'linear', 'rbf') based on your data\n",
    "\n",
    "# Fit the SVM model to the training data\n",
    "SVM.fit(Xtrain, Ytrain)\n",
    "\n",
    "# SVM Accuracy\n",
    "model_prediction_svm = SVM.predict(Xtest)\n",
    "Accuracy_svm = metrics.accuracy_score(Ytest, model_prediction_svm)\n",
    "Acc_Test_Data.append(Accuracy_svm)\n",
    "model.append('SVM')\n",
    "\n",
    "print(\"SVM Accuracy = \", Accuracy_svm*100)\n",
    "print(classification_report(Ytest, model_prediction_svm))\n",
    "\n",
    "# SVM Confusion matrix\n",
    "plt.figure(figsize=(8, 5))\n",
    "sns.heatmap(confusion_matrix(Ytest, model_prediction_svm), annot=True)\n",
    "plt.title(\"SVM Confusion Matrix\")\n",
    "plt.xlabel('Predicted Class', fontsize=15)\n",
    "plt.ylabel('Actual Class', fontsize=15)\n",
    "plt.show()\n"
   ]
  },
  {
   "cell_type": "markdown",
   "id": "e0f1c889",
   "metadata": {},
   "source": [
    "## Cross validation score (SVM)\n"
   ]
  },
  {
   "cell_type": "code",
   "execution_count": 82,
   "id": "bd75f4d7",
   "metadata": {},
   "outputs": [
    {
     "data": {
      "text/plain": [
       "array([1., 1., 1., 1., 1.])"
      ]
     },
     "execution_count": 82,
     "metadata": {},
     "output_type": "execute_result"
    }
   ],
   "source": [
    "scores = cross_val_score(SVM, features, target, cv=5)\n",
    "\n",
    "scores"
   ]
  },
  {
   "cell_type": "code",
   "execution_count": 83,
   "id": "ff866038",
   "metadata": {},
   "outputs": [
    {
     "name": "stdout",
     "output_type": "stream",
     "text": [
      "Training accuracy =  1.0\n",
      "Testing accuracy =  1.0\n"
     ]
    }
   ],
   "source": [
    "# Print Train Accuracy\n",
    "SVM_train_accuracy = SVM.score(Xtrain, Ytrain)\n",
    "print(\"Training accuracy = \", SVM_train_accuracy)\n",
    "\n",
    "# Print Test Accuracy\n",
    "SVM_test_accuracy = SVM.score(Xtest, Ytest)\n",
    "print(\"Testing accuracy = \", SVM_test_accuracy)\n"
   ]
  },
  {
   "cell_type": "markdown",
   "id": "2c7b5159",
   "metadata": {},
   "source": [
    "# **Saving trained SVM model**\n"
   ]
  },
  {
   "cell_type": "code",
   "execution_count": 84,
   "id": "f84fb28d",
   "metadata": {},
   "outputs": [],
   "source": [
    "import pickle\n",
    "\n",
    "# Specify the filename for the SVM model pickle file\n",
    "SVM_pkl_filename = 'SVM_Model.pkl'\n",
    "\n",
    "# Open the file to save as a pickle file\n",
    "SVM_Model_pkl = open(SVM_pkl_filename, 'wb')\n",
    "\n",
    "# Use pickle.dump to save the SVM model to the pickle file\n",
    "pickle.dump(SVM, SVM_Model_pkl)\n",
    "\n",
    "# Close the pickle file\n",
    "SVM_Model_pkl.close()\n"
   ]
  },
  {
   "cell_type": "markdown",
   "id": "c1573c06",
   "metadata": {},
   "source": [
    "# **XGBoost**"
   ]
  },
  {
   "cell_type": "code",
   "execution_count": 85,
   "id": "b3b2a356",
   "metadata": {},
   "outputs": [
    {
     "name": "stdout",
     "output_type": "stream",
     "text": [
      "xgboost Accuracy =:  100.0\n",
      "              precision    recall  f1-score   support\n",
      "\n",
      "           0       1.00      1.00      1.00       134\n",
      "           1       1.00      1.00      1.00        36\n",
      "\n",
      "    accuracy                           1.00       170\n",
      "   macro avg       1.00      1.00      1.00       170\n",
      "weighted avg       1.00      1.00      1.00       170\n",
      "\n"
     ]
    },
    {
     "data": {
      "image/png": "[encoded data removed]",
      "text/plain": [
       "<Figure size 576x360 with 2 Axes>"
      ]
     },
     "metadata": {
      "needs_background": "light"
     },
     "output_type": "display_data"
    }
   ],
   "source": [
    "import xgboost as xgb\n",
    "\n",
    "XB = xgb.XGBClassifier(random_state=42, max_depth=5)\n",
    "XB.fit(Xtrain, Ytrain)\n",
    "\n",
    "\n",
    "# xgboost  Accuray \n",
    "model_prediction = XB.predict(Xtest)\n",
    "Accuracy = metrics.accuracy_score(Ytest, model_prediction)\n",
    "Acc_Test_Data.append(Accuracy)\n",
    "model.append('xgboost')\n",
    "\n",
    "print(\"xgboost Accuracy =: \", Accuracy*100)\n",
    "print(classification_report(Ytest, model_prediction))\n",
    "\n",
    "# XGBoost Confusion matrix\n",
    "plt.figure(figsize = (8,5))\n",
    "sns.heatmap(confusion_matrix(Ytest, model_prediction), annot = True)\n",
    "plt.title(\"XGBoost Confusion Matrix \")\n",
    "plt.xlabel('Predicted Class', fontsize = 15)\n",
    "plt.ylabel('Actual Class', fontsize = 15)\n",
    "plt.show()"
   ]
  },
  {
   "cell_type": "markdown",
   "id": "0c8f06c9",
   "metadata": {},
   "source": [
    "## Cross validation score (XGBoost)\n"
   ]
  },
  {
   "cell_type": "code",
   "execution_count": 86,
   "id": "d68d6305",
   "metadata": {},
   "outputs": [
    {
     "data": {
      "text/plain": [
       "array([1., 1., 1., 1., 1.])"
      ]
     },
     "execution_count": 86,
     "metadata": {},
     "output_type": "execute_result"
    }
   ],
   "source": [
    "score = cross_val_score(XB, features, target, cv=5)\n",
    "\n",
    "score"
   ]
  },
  {
   "cell_type": "code",
   "execution_count": 87,
   "id": "43f187ed",
   "metadata": {},
   "outputs": [
    {
     "name": "stdout",
     "output_type": "stream",
     "text": [
      "Training accuracy =  1.0\n",
      "Testing accuracy =  1.0\n"
     ]
    }
   ],
   "source": [
    "#Print Train Accuracy\n",
    "XB_train_accuracy = XB.score(Xtrain, Ytrain)\n",
    "print(\"Training accuracy = \", XB.score(Xtrain, Ytrain))\n",
    "\n",
    "\n",
    "#Print Test Accuracy\n",
    "XB_test_accuracy = XB.score(Xtest, Ytest)\n",
    "print(\"Testing accuracy = \", XB.score(Xtest, Ytest))"
   ]
  },
  {
   "cell_type": "markdown",
   "id": "952444d1",
   "metadata": {},
   "source": [
    "# **Saving trained XGBoost model**\n"
   ]
  },
  {
   "cell_type": "code",
   "execution_count": 88,
   "id": "7076506f",
   "metadata": {},
   "outputs": [],
   "source": [
    "import pickle\n",
    "\n",
    "XB_pkl_filename = 'XGBoost.pkl'\n",
    "# Open the file to save as pkl file\n",
    "XB_Model_pkl = open(XB_pkl_filename, 'wb')\n",
    "pickle.dump(XB, XB_Model_pkl)\n",
    "# Close the pickle instances\n",
    "XB_Model_pkl.close()"
   ]
  },
  {
   "cell_type": "markdown",
   "id": "3da8b26f",
   "metadata": {},
   "source": [
    "# **Accuracy Comparison**\n"
   ]
  },
  {
   "cell_type": "code",
   "execution_count": 89,
   "id": "c4811e15",
   "metadata": {},
   "outputs": [
    {
     "data": {
      "image/png": "[encoded data removed]",
      "text/plain": [
       "<Figure size 800x300 with 1 Axes>"
      ]
     },
     "metadata": {
      "needs_background": "light"
     },
     "output_type": "display_data"
    }
   ],
   "source": [
    "plt.figure(figsize=[8, 3], dpi = 100)\n",
    "plt.title('Accuracy Comparison')\n",
    "plt.xlabel('Accuracy (%)')\n",
    "plt.ylabel('Algorithms')\n",
    "sns.barplot(x = Acc_Test_Data, y = model, palette='dark')\n",
    "for index, value in enumerate(Acc_Test_Data):\n",
    "    plt.text(value, index, str(round(value, 4)))"
   ]
  },
  {
   "cell_type": "markdown",
   "id": "c53f0bfb",
   "metadata": {},
   "source": [
    "# 7. Cross-validation "
   ]
  },
  {
   "cell_type": "markdown",
   "id": "799f6ceb",
   "metadata": {},
   "source": [
    "## Please explain how you would implement cross-validation in training your model and why it's important."
   ]
  },
  {
   "cell_type": "markdown",
   "id": "96d2bc29",
   "metadata": {},
   "source": [
    "Cross-validation is a vital technique used in machine learning for assessing the performance and generalization capability of predictive models. It involves partitioning the dataset into multiple subsets (folds), training the model on a subset of the data, and evaluating its performance on the remaining data. Here's how you can implement cross-validation and why it's important:\n",
    "\n",
    "1. Implementation of Cross-Validation:\n",
    "K-Fold Cross-Validation: Split the dataset into 'k' equal-sized folds. Train the model 'k' times, each time using 'k-1' folds for training and the remaining fold for validation.\n",
    "\n",
    "Stratified K-Fold Cross-Validation: Ensure that each fold contains a proportional representation of classes, especially when dealing with imbalanced datasets. This helps in obtaining reliable performance estimates across different folds.\n",
    "\n",
    "Leave-One-Out Cross-Validation (LOOCV): Treat each data point as a separate fold. Train the model 'n' times, leaving out one data point each time for validation. This is useful for small datasets but can be computationally expensive for larger ones.\n",
    "\n",
    "2. Importance of Cross-Validation:\n",
    "Generalization Performance: Cross-validation provides a more accurate estimate of a model's performance on unseen data compared to a single train-test split. By averaging performance metrics across multiple folds, cross-validation reduces the impact of data variability and provides a more reliable assessment of the model's generalization capability.\n",
    "\n",
    "Bias-Variance Tradeoff: Cross-validation helps in diagnosing the bias and variance of a model. If a model performs well on the training data but poorly on the validation data (high variance), it indicates overfitting. Conversely, if the model performs poorly on both training and validation data (high bias), it suggests underfitting.\n",
    "\n",
    "Hyperparameter Tuning: Cross-validation is crucial for hyperparameter tuning. By performing grid search or random search across different hyperparameter values and evaluating their performance using cross-validation, you can identify the optimal hyperparameters that maximize the model's performance on unseen data.\n",
    "\n",
    "Model Selection: Cross-validation facilitates model selection by comparing the performance of different models (e.g., SVM vs. Random Forest) on the same dataset. By selecting the model with the highest cross-validated performance, you can choose the most suitable model for the task at hand."
   ]
  },
  {
   "cell_type": "markdown",
   "id": "de3af18b",
   "metadata": {},
   "source": [
    "# 8. Performance Metrics"
   ]
  },
  {
   "cell_type": "markdown",
   "id": "ee5869e8",
   "metadata": {},
   "source": [
    "## Discuss the metrics you would use to evaluate the performance of your heart disease prediction model. Justify your choice of metrics."
   ]
  },
  {
   "cell_type": "markdown",
   "id": "9e14f388",
   "metadata": {},
   "source": [
    "When evaluating the performance of a heart disease prediction model, it's essential to choose metrics that provide insights into the model's effectiveness in correctly classifying individuals into the presence or absence of heart disease. Here are some key metrics that can be used:\n",
    "\n",
    "1. Accuracy: Accuracy measures the proportion of correctly classified instances among all instances. It's a commonly used metric for evaluating classification models and provides an overall assessment of the model's predictive performance.\n",
    "\n",
    "Justification: Accuracy is intuitive and easy to interpret. However, it may not be the best metric for imbalanced datasets, where one class is much more prevalent than the other (e.g., if the dataset contains significantly more instances of individuals without heart disease than those with heart disease). In such cases, accuracy alone may not provide a complete picture of the model's performance.\n",
    "\n",
    "2. Precision and Recall: Precision measures the proportion of correctly predicted positive instances (true positives) among all instances predicted as positive. Recall (also known as sensitivity) measures the proportion of correctly predicted positive instances among all actual positive instances.\n",
    "\n",
    "Justification: Precision and recall are crucial metrics for evaluating the performance of models in imbalanced datasets. In the context of heart disease prediction, it's important to minimize false positives (predicting someone has heart disease when they don't) and false negatives (predicting someone doesn't have heart disease when they do). Precision and recall provide insights into the trade-off between these types of errors.\n",
    "\n",
    "3. F1 Score: The F1 score is the harmonic mean of precision and recall. It provides a balanced measure of both precision and recall and is useful when there is an imbalance between the positive and negative classes.\n",
    "\n",
    "Justification: The F1 score is a single metric that captures the balance between precision and recall. It's particularly helpful when you want to strike a balance between minimizing false positives and false negatives."
   ]
  },
  {
   "cell_type": "markdown",
   "id": "82fef4a2",
   "metadata": {},
   "source": [
    "# Model Interpretation and Deployment\n"
   ]
  },
  {
   "cell_type": "markdown",
   "id": "7bf69202",
   "metadata": {},
   "source": [
    "## 9. Model Insights: \n",
    "### How would you interpret the model's predictions to provide insights to healthcare professionals at eHealth Africa?"
   ]
  },
  {
   "cell_type": "markdown",
   "id": "7779264d",
   "metadata": {},
   "source": [
    "Interpreting the predictions of a heart disease prediction model to provide insights to healthcare professionals at eHealth Africa involves translating the model's outputs into actionable information that can guide clinical decision-making and patient care. Here is how to interpret the model's predictions to provide valuable insights:\n",
    "\n",
    "1. Prediction Probability Threshold: Determine an appropriate prediction probability threshold to classify individuals as either having or not having heart disease. This threshold should be chosen based on the trade-off between false positives and false negatives, considering the model's precision and recall.\n",
    "\n",
    "2. Interpretation of Model Outputs:\n",
    "\n",
    "i. Positive Predictions: For individuals predicted to have heart disease, provide healthcare professionals with information on the predicted probability of heart disease and the associated features contributing to the prediction. Highlight key risk factors identified by the model (e.g., age, blood pressure, cholesterol levels) and their potential implications for diagnosis and treatment.\n",
    "ii. Negative Predictions: For individuals predicted not to have heart disease, emphasize the model's confidence in the negative prediction and discuss factors contributing to the absence of heart disease. However, caution healthcare professionals that false negatives are possible, and further clinical evaluation may be warranted, especially for individuals with high-risk profiles.\n",
    "\n",
    "3. Feature Importance: Highlight the most important features identified by the model in predicting heart disease. Provide healthcare professionals with insights into which clinical variables are most influential in assessing an individual's risk of heart disease. This information can guide risk stratification, screening, and intervention strategies.\n",
    "\n",
    "4. Individual Risk Assessment: Offer individualized risk assessments based on the model's predictions and feature importance. Provide healthcare professionals with personalized risk profiles for their patients, highlighting modifiable risk factors that can be targeted for intervention (e.g., lifestyle modifications, medication management).\n",
    "\n",
    "5. Decision Support Tools: Develop decision support tools or clinical guidelines based on the model's predictions to assist healthcare professionals in making informed decisions about patient care. Provide recommendations for diagnostic testing, treatment options, and follow-up care tailored to individual risk profiles.\n",
    "\n",
    "6. Continuous Monitoring and Model Evaluation: Implement systems for continuous monitoring of the model's performance and ongoing evaluation of its predictive accuracy and clinical utility. Regularly update the model based on new data and feedback from healthcare professionals to ensure its relevance and effectiveness in real-world clinical practice."
   ]
  },
  {
   "cell_type": "markdown",
   "id": "f97d41bb",
   "metadata": {},
   "source": [
    "## 10.Deployment Strategy: \n",
    "### Describe a deployment strategy for your heart disease prediction model that ensures its reliability and effectiveness in a real-world healthcare."
   ]
  },
  {
   "cell_type": "markdown",
   "id": "6b59b918",
   "metadata": {},
   "source": [
    "Deploying a heart disease prediction model in a real-world healthcare setting requires careful planning and consideration to ensure its reliability, effectiveness, and seamless integration into existing clinical workflows. The deployment strategy outlining the key steps include:\n",
    "\n",
    "1. Data Integration and Preprocessing:\n",
    "Integrate the heart disease prediction model into eHealth Africa's existing healthcare IT infrastructure, Electronic Health Records (EHR) systems, or data management platforms. Develop automated data pipelines to preprocess and standardize input data from various sources, ensuring consistency and quality for model input.\n",
    "\n",
    "2. Model Training and Validation:\n",
    "Train the heart disease prediction model using comprehensive and diverse datasets representative of the target patient population. Validate the model using robust evaluation metrics and techniques, such as cross-validation and external validation on independent datasets, to assess its performance and generalization capability.\n",
    "\n",
    "3. Model Interpretation and Explainability:\n",
    "Provide healthcare professionals with tools and resources to interpret the model's predictions and understand the underlying factors contributing to each prediction. Incorporate features such as feature importance rankings, SHAP (SHapley Additive exPlanations) values, and decision rules to enhance the model's explainability and transparency.\n",
    "\n",
    "4. Clinical Integration and Decision Support:\n",
    "Integrate the heart disease prediction model into clinical decision support systems (CDSS) or electronic health record (EHR) interfaces used by healthcare professionals. Develop user-friendly interfaces and dashboards that allow clinicians to access the model's predictions, risk scores, and recommendations seamlessly within their workflow.\n",
    "\n",
    "5. Education and Training:\n",
    "Provide comprehensive training and education sessions for healthcare professionals on how to use the heart disease prediction model effectively. Offer ongoing support and resources to address any questions or concerns related to model interpretation, use, and integration into clinical practice.\n",
    "\n",
    "6. Continuous Monitoring and Evaluation:\n",
    "Implement mechanisms for continuous monitoring and evaluation of the model's performance in real-world clinical settings.\n",
    "Establish feedback loops to collect user feedback, monitor model outputs, and identify areas for improvement or refinement.\n",
    "\n",
    "7. Compliance and Privacy: \n",
    "Ensure compliance with regulatory requirements, data privacy laws (such as HIPAA), and ethical standards governing the use of patient data in healthcare. Implement robust security measures to protect patient privacy and sensitive health information throughout the deployment process.\n",
    "\n",
    "8. Scalability and Maintenance:\n",
    "Design the deployment infrastructure to be scalable, allowing for the model to handle increasing volumes of data and user requests over time. Establish procedures for model maintenance, updates, and version control to address changes in clinical guidelines, data distributions, and emerging evidence."
   ]
  },
  {
   "cell_type": "markdown",
   "id": "c9c5c248",
   "metadata": {},
   "source": [
    "# Ethical Considerations"
   ]
  },
  {
   "cell_type": "markdown",
   "id": "1c328f2a",
   "metadata": {},
   "source": [
    "## 11. Ethical Considerations"
   ]
  },
  {
   "cell_type": "markdown",
   "id": "c2398556",
   "metadata": {},
   "source": [
    "Ethical considerations surrounding potential biases in datasets and their implications for model fairness are crucial when developing predictive models for healthcare, such as predicting heart disease. Here are some common biases that may exist in the dataset and their implications for model fairness, along with strategies to address these biases:\n",
    "\n",
    "1. Sampling Bias:\n",
    "i. Implication: Sampling bias occurs when the dataset is not representative of the target population, leading to skewed distributions of certain demographic or clinical characteristics. For example, if the dataset contains data primarily from a specific demographic group or geographic region, the model may not generalize well to other populations.\n",
    "ii. Addressing Bias: To mitigate sampling bias, ensure that the dataset is collected from diverse sources and populations, representing various demographic groups, geographical regions, and healthcare settings. Use techniques such as stratified sampling or oversampling to balance representation across different groups and ensure the dataset's diversity and representativeness.\n",
    "\n",
    "2. Label Bias:\n",
    "i. Implication: Label bias arises when the labels (e.g., presence or absence of heart disease) are inaccurately or inconsistently assigned, leading to misclassification errors. Inaccurate labeling can result from human error, misdiagnosis, or subjective interpretation of medical tests.\n",
    "ii. Addressing Bias: Validate the accuracy and consistency of labels through expert review, consensus, or multiple adjudicators. Incorporate quality control measures and feedback mechanisms to correct mislabeled instances and improve the reliability of the labels. Additionally, consider using probabilistic or uncertain labels to capture the uncertainty inherent in medical diagnoses.\n",
    "\n",
    "3. Measurement Bias:\n",
    "i. Implication: Measurement bias occurs when certain variables are measured or recorded differently for different groups, leading to systematic errors in data collection. For example, if diagnostic tests or screening procedures are administered unequally across demographic groups, it can introduce bias into the dataset.\n",
    "ii. Addressing Bias: Standardize measurement protocols and procedures to minimize measurement bias and ensure consistency in data collection. Train healthcare professionals on standardized diagnostic criteria and guidelines to promote uniformity in clinical assessments. Conduct sensitivity analyses to assess the impact of measurement errors on model outcomes and adjust for potential biases accordingly.\n",
    "\n",
    "4. Data Imbalance Bias:\n",
    "i. Implication: Data imbalance bias arises when one class (e.g., individuals with heart disease) is significantly more prevalent than the other class, leading to biased model predictions. Imbalanced data can result in models that are biased towards the majority class, leading to poor performance for the minority class.\n",
    "ii. Addressing Bias: Use techniques such as oversampling, undersampling, or synthetic data generation to balance class distributions and improve model fairness. Additionally, consider using evaluation metrics that account for class imbalance, such as precision-recall curves or F1 score, to assess model performance accurately.\n",
    "\n",
    "5. Algorithmic Bias:\n",
    "i. Implication: Algorithmic bias occurs when the model's structure or training data encode or perpetuate unfair or discriminatory patterns, leading to biased predictions. Biased algorithms can amplify existing disparities and inequalities in healthcare outcomes, resulting in unfair treatment and exacerbating health disparities.\n",
    "ii. Addressing Bias: Regularly audit and monitor the model for fairness and bias using techniques such as fairness-aware machine learning algorithms, fairness metrics, and demographic parity analysis. Implement interventions such as algorithmic adjustments, feature engineering, or fairness constraints to mitigate bias and promote fairness. Additionally, involve diverse stakeholders, including ethicists, clinicians, and affected communities, in the model development process to ensure that ethical considerations and societal values are adequately addressed."
   ]
  },
  {
   "cell_type": "markdown",
   "id": "5fdf6bcc",
   "metadata": {},
   "source": [
    "### Considering the sensitive nature of health data, what measures would you recommend to ensure the privacy and security of patient data when deploying your model?"
   ]
  },
  {
   "cell_type": "markdown",
   "id": "9f8a2c5e",
   "metadata": {},
   "source": [
    "Ensuring the privacy and security of patient data is paramount when deploying a model in healthcare, especially considering the sensitive nature of health data. Here are some measures to recommend for safeguarding patient data:\n",
    "\n",
    "1. Data Encryption: Implement encryption mechanisms to secure data both at rest and in transit. Utilize strong encryption algorithms to protect sensitive information from unauthorized access or interception.\n",
    "\n",
    "2. Access Control: Implement robust access control mechanisms to restrict access to patient data based on the principle of least privilege. Only authorized personnel should have access to patient records, and access permissions should be regularly reviewed and updated.\n",
    "\n",
    "3. Anonymization and De-identification: Prior to model training and deployment, anonymize or de-identify patient data to remove personally identifiable information (PII) such as names, addresses, and social security numbers. This helps minimize the risk of re-identification and protects patient privacy.\n",
    "\n",
    "4. Secure Data Storage: Store patient data in secure and compliant environments, such as HIPAA-compliant cloud platforms or on-premises servers with strict access controls and auditing capabilities. Implement data retention policies to ensure that data is retained only for as long as necessary and securely disposed of when no longer needed.\n",
    "\n",
    "5. Data Minimization: Collect and retain only the minimum amount of patient data necessary for model training and evaluation. Avoid storing unnecessary or sensitive information that could pose privacy risks if breached.\n",
    "\n",
    "6. Audit Trails and Logging: Implement audit trails and logging mechanisms to track access to patient data and monitor data usage activities. Maintain detailed records of data access, modifications, and transfers for accountability and compliance purposes.\n",
    "\n",
    "7. Secure Model Deployment: Securely deploy the predictive model in production environments using secure protocols and authentication mechanisms. Implement secure APIs for model inference and ensure that data transmission between client applications and the model server is encrypted.\n",
    "\n",
    "8. Regular Security Audits and Penetration Testing: Conduct regular security audits and penetration testing to identify and address vulnerabilities in the system. Test the resilience of the system against potential security threats and ensure compliance with industry standards and regulations.\n",
    "\n",
    "9. Staff Training and Awareness: Provide comprehensive training and awareness programs for staff members involved in handling patient data. Educate employees about security best practices, privacy policies, and regulatory requirements to minimize the risk of human errors and insider threats.\n",
    "\n",
    "10. Compliance with Regulatory Standards: Ensure compliance with relevant regulatory standards and data protection laws, such as HIPAA in the United States or GDPR in the European Union. Adhere to data privacy and security requirements specific to the jurisdiction in which the model is deployed."
   ]
  },
  {
   "cell_type": "markdown",
   "id": "4dc8b4ac",
   "metadata": {},
   "source": [
    "### Reflect on the impact of your heart disease prediction model on patient care and healthcare delivery. How would you ensure the model's use benefits patients and supports healthcare providers in making informed decisions?"
   ]
  },
  {
   "cell_type": "markdown",
   "id": "4421ef1d",
   "metadata": {},
   "source": [
    "The impact of a heart disease prediction model on patient care and healthcare delivery can be significant, potentially leading to improved outcomes, more efficient resource allocation, and better-informed clinical decision-making. Below is how the model's use can benefit patients and support healthcare providers, along with strategies to ensure its positive impact:\n",
    "\n",
    "1. Early Detection and Prevention:\n",
    "The heart disease prediction model can help identify individuals at high risk of developing heart disease, enabling early intervention and preventive measures. Patients identified as high-risk can receive targeted interventions such as lifestyle modifications, medication management, and regular monitoring to reduce their risk of developing heart disease.\n",
    "\n",
    "2. Personalized Care:\n",
    "The model can provide personalized risk assessments for individual patients based on their unique demographic, clinical, and lifestyle factors. Healthcare providers can use the risk assessment to tailor treatment plans and interventions to each patient's specific needs and risk profile, optimizing patient care and outcomes.\n",
    "\n",
    "3. Resource Allocation:\n",
    "By identifying high-risk individuals, the model can help healthcare providers allocate resources more efficiently, focusing interventions and resources on those who stand to benefit the most. Resource-intensive interventions such as diagnostic tests, specialist consultations, and intensive monitoring can be prioritized for patients at high risk of heart disease.\n",
    "\n",
    "4. Decision Support:\n",
    "The model can serve as a decision support tool for healthcare providers, providing objective risk assessments and recommendations to guide clinical decision-making. Healthcare providers can use the model's predictions and risk scores to inform discussions with patients, facilitate shared decision-making, and optimize treatment plans.\n",
    "\n",
    "5. Healthcare System Efficiency:\n",
    "By facilitating early detection, preventive interventions, and targeted treatment strategies, the model can contribute to overall healthcare system efficiency and cost-effectiveness. Timely identification and management of individuals at high risk of heart disease can reduce the burden on healthcare resources, prevent costly complications, and improve long-term health outcomes. \n",
    "\n",
    "To ensure the model's use benefits patients and supports healthcare providers in making informed decisions, several strategies can be implemented:\n",
    "\n",
    "1. Interdisciplinary Collaboration: Foster collaboration between data scientists, clinicians, researchers, and other stakeholders throughout the model development, validation, and deployment process. Ensure that the model reflects clinical expertise and aligns with best practices in cardiovascular care.\n",
    "\n",
    "2. User-Centered Design: Involve end-users, including healthcare providers and patients, in the design and development of the model's interface and decision support tools. Solicit feedback to ensure that the model meets the needs of its intended users and is user-friendly and intuitive.\n",
    "\n",
    "3. Education and Training: Provide comprehensive training and education to healthcare providers on how to use the model effectively in clinical practice. Offer continuing education programs, workshops, and support resources to ensure that healthcare providers are confident and competent in using the model to inform patient care.\n",
    "\n",
    "4. Continuous Monitoring and Evaluation: Implement mechanisms for continuous monitoring and evaluation of the model's performance, accuracy, and clinical utility in real-world healthcare settings. Collect feedback from users, monitor clinical outcomes, and refine the model based on insights gained from ongoing evaluation efforts.\n",
    "\n",
    "5. Ethical and Regulatory Compliance: Ensure compliance with ethical standards, data privacy regulations, and healthcare industry guidelines governing the use of predictive models in clinical practice. Prioritize patient privacy, informed consent, and transparency in model development and deployment processes."
   ]
  },
  {
   "cell_type": "markdown",
   "id": "22e0a148",
   "metadata": {},
   "source": [
    "# Making Predictions\n",
    "### When the prediction result is 1 it  indicates the presence of heart disease. Otherwise the absence of heart disease is the case, since the dependent variable has been encoded from 'presence' and 'absence' to '1' and '0' respectively."
   ]
  },
  {
   "cell_type": "code",
   "execution_count": 91,
   "id": "5bc85f25",
   "metadata": {},
   "outputs": [
    {
     "name": "stdout",
     "output_type": "stream",
     "text": [
      "[1]\n"
     ]
    }
   ],
   "source": [
    "combined_data2 = np.array([[4.158883, 4.983607, 5.455321, 1.098612, 5.017280, 1.193922, 0.000000, 0, 1, 0, 1, 0, 0, 0, 0, 0, 1, 0, 1, 0, 1, 0, 0, 1, 0, 0, 0]])\n",
    "prediction = DTree.predict(combined_data2)\n",
    "print(prediction)"
   ]
  }
 ],
 "metadata": {
  "kernelspec": {
   "display_name": "Python 3 (ipykernel)",
   "language": "python",
   "name": "python3"
  },
  "language_info": {
   "codemirror_mode": {
    "name": "ipython",
    "version": 3
   },
   "file_extension": ".py",
   "mimetype": "text/x-python",
   "name": "python",
   "nbconvert_exporter": "python",
   "pygments_lexer": "ipython3",
   "version": "3.9.12"
  }
 },
 "nbformat": 4,
 "nbformat_minor": 5
}
